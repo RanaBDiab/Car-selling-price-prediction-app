{
 "cells": [
  {
   "cell_type": "markdown",
   "id": "9debcd78-4826-401c-8865-729c7f3b1dbc",
   "metadata": {},
   "source": [
    "# Importing libraries and dataset"
   ]
  },
  {
   "cell_type": "code",
   "execution_count": 3,
   "id": "1a579991-10ce-43bc-8dfa-80ef074d9a76",
   "metadata": {},
   "outputs": [],
   "source": [
    "import pandas as pd\n",
    "import numpy as np \n",
    "import matplotlib as plt\n",
    "%matplotlib inline\n",
    "import seaborn as sns"
   ]
  },
  {
   "cell_type": "code",
   "execution_count": 14,
   "id": "6d5202db-2dc5-4b6e-ab5f-8e2bcd8ce980",
   "metadata": {},
   "outputs": [],
   "source": [
    "df = pd.read_csv('reg_car_selling_final.csv')"
   ]
  },
  {
   "cell_type": "code",
   "execution_count": 16,
   "id": "3ae01617-3510-4bdc-9cd2-e51edfef3f96",
   "metadata": {},
   "outputs": [
    {
     "data": {
      "text/html": [
       "<div>\n",
       "<style scoped>\n",
       "    .dataframe tbody tr th:only-of-type {\n",
       "        vertical-align: middle;\n",
       "    }\n",
       "\n",
       "    .dataframe tbody tr th {\n",
       "        vertical-align: top;\n",
       "    }\n",
       "\n",
       "    .dataframe thead th {\n",
       "        text-align: right;\n",
       "    }\n",
       "</style>\n",
       "<table border=\"1\" class=\"dataframe\">\n",
       "  <thead>\n",
       "    <tr style=\"text-align: right;\">\n",
       "      <th></th>\n",
       "      <th>make</th>\n",
       "      <th>model</th>\n",
       "      <th>year</th>\n",
       "      <th>selling_price</th>\n",
       "      <th>km_driven</th>\n",
       "      <th>fuel</th>\n",
       "      <th>seller_type</th>\n",
       "      <th>transmission</th>\n",
       "      <th>owner</th>\n",
       "      <th>mileage</th>\n",
       "      <th>engine</th>\n",
       "      <th>max_power</th>\n",
       "      <th>Nm/kgm</th>\n",
       "      <th>rpm</th>\n",
       "      <th>seats</th>\n",
       "      <th>country</th>\n",
       "    </tr>\n",
       "  </thead>\n",
       "  <tbody>\n",
       "    <tr>\n",
       "      <th>0</th>\n",
       "      <td>Maruti</td>\n",
       "      <td>Swift</td>\n",
       "      <td>2014</td>\n",
       "      <td>450000</td>\n",
       "      <td>145500</td>\n",
       "      <td>Diesel</td>\n",
       "      <td>Individual</td>\n",
       "      <td>Manual</td>\n",
       "      <td>First Owner</td>\n",
       "      <td>23.40</td>\n",
       "      <td>1248.0</td>\n",
       "      <td>74.00</td>\n",
       "      <td>190.0</td>\n",
       "      <td>2000.0</td>\n",
       "      <td>5.0</td>\n",
       "      <td>India</td>\n",
       "    </tr>\n",
       "    <tr>\n",
       "      <th>1</th>\n",
       "      <td>Skoda</td>\n",
       "      <td>Rapid</td>\n",
       "      <td>2014</td>\n",
       "      <td>370000</td>\n",
       "      <td>120000</td>\n",
       "      <td>Diesel</td>\n",
       "      <td>Individual</td>\n",
       "      <td>Manual</td>\n",
       "      <td>Second Owner</td>\n",
       "      <td>21.14</td>\n",
       "      <td>1498.0</td>\n",
       "      <td>103.52</td>\n",
       "      <td>250.0</td>\n",
       "      <td>2500.0</td>\n",
       "      <td>5.0</td>\n",
       "      <td>Czech Republic</td>\n",
       "    </tr>\n",
       "    <tr>\n",
       "      <th>2</th>\n",
       "      <td>Honda</td>\n",
       "      <td>City</td>\n",
       "      <td>2006</td>\n",
       "      <td>158000</td>\n",
       "      <td>140000</td>\n",
       "      <td>Petrol</td>\n",
       "      <td>Individual</td>\n",
       "      <td>Manual</td>\n",
       "      <td>Third Owner</td>\n",
       "      <td>17.70</td>\n",
       "      <td>1497.0</td>\n",
       "      <td>78.00</td>\n",
       "      <td>12.7</td>\n",
       "      <td>2700.0</td>\n",
       "      <td>5.0</td>\n",
       "      <td>Japan</td>\n",
       "    </tr>\n",
       "    <tr>\n",
       "      <th>3</th>\n",
       "      <td>Hyundai</td>\n",
       "      <td>i20</td>\n",
       "      <td>2010</td>\n",
       "      <td>225000</td>\n",
       "      <td>127000</td>\n",
       "      <td>Diesel</td>\n",
       "      <td>Individual</td>\n",
       "      <td>Manual</td>\n",
       "      <td>First Owner</td>\n",
       "      <td>23.00</td>\n",
       "      <td>1396.0</td>\n",
       "      <td>90.00</td>\n",
       "      <td>22.4</td>\n",
       "      <td>2250.0</td>\n",
       "      <td>5.0</td>\n",
       "      <td>South Korea</td>\n",
       "    </tr>\n",
       "    <tr>\n",
       "      <th>4</th>\n",
       "      <td>Maruti</td>\n",
       "      <td>Swift</td>\n",
       "      <td>2007</td>\n",
       "      <td>130000</td>\n",
       "      <td>120000</td>\n",
       "      <td>Petrol</td>\n",
       "      <td>Individual</td>\n",
       "      <td>Manual</td>\n",
       "      <td>First Owner</td>\n",
       "      <td>16.10</td>\n",
       "      <td>1298.0</td>\n",
       "      <td>88.20</td>\n",
       "      <td>11.5</td>\n",
       "      <td>4500.0</td>\n",
       "      <td>5.0</td>\n",
       "      <td>India</td>\n",
       "    </tr>\n",
       "  </tbody>\n",
       "</table>\n",
       "</div>"
      ],
      "text/plain": [
       "      make  model  year  selling_price  km_driven    fuel seller_type  \\\n",
       "0   Maruti  Swift  2014         450000     145500  Diesel  Individual   \n",
       "1    Skoda  Rapid  2014         370000     120000  Diesel  Individual   \n",
       "2    Honda   City  2006         158000     140000  Petrol  Individual   \n",
       "3  Hyundai    i20  2010         225000     127000  Diesel  Individual   \n",
       "4   Maruti  Swift  2007         130000     120000  Petrol  Individual   \n",
       "\n",
       "  transmission         owner  mileage  engine  max_power  Nm/kgm     rpm  \\\n",
       "0       Manual   First Owner    23.40  1248.0      74.00   190.0  2000.0   \n",
       "1       Manual  Second Owner    21.14  1498.0     103.52   250.0  2500.0   \n",
       "2       Manual   Third Owner    17.70  1497.0      78.00    12.7  2700.0   \n",
       "3       Manual   First Owner    23.00  1396.0      90.00    22.4  2250.0   \n",
       "4       Manual   First Owner    16.10  1298.0      88.20    11.5  4500.0   \n",
       "\n",
       "   seats         country  \n",
       "0    5.0           India  \n",
       "1    5.0  Czech Republic  \n",
       "2    5.0           Japan  \n",
       "3    5.0     South Korea  \n",
       "4    5.0           India  "
      ]
     },
     "execution_count": 16,
     "metadata": {},
     "output_type": "execute_result"
    }
   ],
   "source": [
    "df.head()"
   ]
  },
  {
   "cell_type": "markdown",
   "id": "a7887061-bf65-4f74-a491-04665a7f2c1e",
   "metadata": {},
   "source": [
    "# Unilateral analysis"
   ]
  },
  {
   "cell_type": "markdown",
   "id": "a15b3a34-0fc0-4d06-b911-82f5354cf3bd",
   "metadata": {},
   "source": [
    "1. What is the most selling car make?"
   ]
  },
  {
   "cell_type": "code",
   "execution_count": 24,
   "id": "ba1947f3-2112-4bb3-87df-193ee2912e12",
   "metadata": {},
   "outputs": [
    {
     "data": {
      "text/plain": [
       "make\n",
       "Maruti    2124\n",
       "Name: count, dtype: int64"
      ]
     },
     "execution_count": 24,
     "metadata": {},
     "output_type": "execute_result"
    }
   ],
   "source": [
    "df['make'].value_counts().head(1)"
   ]
  },
  {
   "cell_type": "markdown",
   "id": "7fc81f0f-d09a-4d74-be54-719ec82a85fb",
   "metadata": {},
   "source": [
    "2. What is the least selling car make?"
   ]
  },
  {
   "cell_type": "code",
   "execution_count": 61,
   "id": "c7d5fec0-5102-4fda-b492-9e32075a4720",
   "metadata": {},
   "outputs": [
    {
     "data": {
      "text/plain": [
       "make\n",
       "Fiat    29\n",
       "Name: count, dtype: int64"
      ]
     },
     "execution_count": 61,
     "metadata": {},
     "output_type": "execute_result"
    }
   ],
   "source": [
    "df['make'].value_counts().tail(1)"
   ]
  },
  {
   "cell_type": "markdown",
   "id": "1ec12801-0b54-4f3a-88d0-bbd288d1d7bf",
   "metadata": {},
   "source": [
    "3. what is the most selling car model?"
   ]
  },
  {
   "cell_type": "code",
   "execution_count": 36,
   "id": "e5032e5e-5255-4e6e-ab83-9b1899fae7d2",
   "metadata": {},
   "outputs": [
    {
     "data": {
      "text/plain": [
       "model\n",
       "Swift    662\n",
       "Name: count, dtype: int64"
      ]
     },
     "execution_count": 36,
     "metadata": {},
     "output_type": "execute_result"
    }
   ],
   "source": [
    "df['model'].value_counts().head(1)"
   ]
  },
  {
   "cell_type": "markdown",
   "id": "52bced11-d517-4428-97e7-e65e668c66ac",
   "metadata": {},
   "source": [
    "4. What is the highest selling price ?"
   ]
  },
  {
   "cell_type": "code",
   "execution_count": 27,
   "id": "657e6a37-464e-4874-91f2-80bc7754e832",
   "metadata": {},
   "outputs": [
    {
     "data": {
      "text/plain": [
       "1210000"
      ]
     },
     "execution_count": 27,
     "metadata": {},
     "output_type": "execute_result"
    }
   ],
   "source": [
    "df['selling_price'].max()"
   ]
  },
  {
   "cell_type": "markdown",
   "id": "55c4704c-4e8f-45d1-ae71-07629ef2f494",
   "metadata": {},
   "source": [
    "5. what is the least selling price ?"
   ]
  },
  {
   "cell_type": "code",
   "execution_count": 30,
   "id": "2781e5c5-6adf-457d-954b-ec0b3e2e12a1",
   "metadata": {},
   "outputs": [
    {
     "data": {
      "text/plain": [
       "29999"
      ]
     },
     "execution_count": 30,
     "metadata": {},
     "output_type": "execute_result"
    }
   ],
   "source": [
    "df['selling_price'].min()"
   ]
  },
  {
   "cell_type": "markdown",
   "id": "c5abb697-6411-4707-b76c-3f94c442b220",
   "metadata": {},
   "source": [
    "6. what is the longest distance driven?"
   ]
  },
  {
   "cell_type": "code",
   "execution_count": 33,
   "id": "29d491b3-1fc1-41a8-a023-a8d31a7f7d9e",
   "metadata": {},
   "outputs": [
    {
     "data": {
      "text/plain": [
       "190000"
      ]
     },
     "execution_count": 33,
     "metadata": {},
     "output_type": "execute_result"
    }
   ],
   "source": [
    "df['km_driven'].max()"
   ]
  },
  {
   "cell_type": "markdown",
   "id": "4c39b827-216a-4692-b7b2-e559dce48a56",
   "metadata": {},
   "source": [
    "7. What is the shortest distance driven?"
   ]
  },
  {
   "cell_type": "code",
   "execution_count": 42,
   "id": "d81aa741-feae-49e5-a227-210a14de7d3e",
   "metadata": {},
   "outputs": [
    {
     "data": {
      "text/plain": [
       "1"
      ]
     },
     "execution_count": 42,
     "metadata": {},
     "output_type": "execute_result"
    }
   ],
   "source": [
    "df['km_driven'].min()"
   ]
  },
  {
   "cell_type": "markdown",
   "id": "4b8cec90-2fdb-4599-96ef-6c9e545344b5",
   "metadata": {},
   "source": [
    " 8. What is the most common fuel type ?"
   ]
  },
  {
   "cell_type": "code",
   "execution_count": 56,
   "id": "97af8425-f4d0-4066-b3bf-8f85e391433d",
   "metadata": {},
   "outputs": [
    {
     "data": {
      "text/plain": [
       "fuel\n",
       "Diesel    3093\n",
       "Name: count, dtype: int64"
      ]
     },
     "execution_count": 56,
     "metadata": {},
     "output_type": "execute_result"
    }
   ],
   "source": [
    "df['fuel'].value_counts().head(1)"
   ]
  },
  {
   "cell_type": "markdown",
   "id": "b5bc78ad-735f-4b2e-a0d9-bd5f96995eee",
   "metadata": {},
   "source": [
    "9. What is the least used fuel type?"
   ]
  },
  {
   "cell_type": "code",
   "execution_count": 58,
   "id": "d2d536ca-4b03-4ad9-9551-bbdae5e4334b",
   "metadata": {},
   "outputs": [
    {
     "data": {
      "text/plain": [
       "fuel\n",
       "LPG    37\n",
       "Name: count, dtype: int64"
      ]
     },
     "execution_count": 58,
     "metadata": {},
     "output_type": "execute_result"
    }
   ],
   "source": [
    "df['fuel'].value_counts().tail(1)"
   ]
  },
  {
   "cell_type": "markdown",
   "id": "17ab0bbd-e5a9-4688-bc98-6d67a333dbe1",
   "metadata": {},
   "source": [
    "10. What is the most frequent seller type?"
   ]
  },
  {
   "cell_type": "code",
   "execution_count": 70,
   "id": "a9491ce1-fbe6-4655-a550-bb95ec699368",
   "metadata": {},
   "outputs": [
    {
     "data": {
      "text/plain": [
       "seller_type\n",
       "Individual    5538\n",
       "Name: count, dtype: int64"
      ]
     },
     "execution_count": 70,
     "metadata": {},
     "output_type": "execute_result"
    }
   ],
   "source": [
    "df['seller_type'].value_counts().head(1)"
   ]
  },
  {
   "cell_type": "markdown",
   "id": "79297230-7787-478a-a2d9-77d799bc90a6",
   "metadata": {},
   "source": [
    "11. What is the least frequent seller type ?"
   ]
  },
  {
   "cell_type": "code",
   "execution_count": 74,
   "id": "c74d0e78-7933-4953-adac-4fdff368d0f6",
   "metadata": {},
   "outputs": [
    {
     "data": {
      "text/plain": [
       "seller_type\n",
       "Trustmark Dealer    22\n",
       "Name: count, dtype: int64"
      ]
     },
     "execution_count": 74,
     "metadata": {},
     "output_type": "execute_result"
    }
   ],
   "source": [
    "df['seller_type'].value_counts().tail(1)"
   ]
  },
  {
   "cell_type": "markdown",
   "id": "b891e4fe-47d0-49ed-a186-41c6de0bb5d0",
   "metadata": {},
   "source": [
    "12. What is the most frequent transmission ?"
   ]
  },
  {
   "cell_type": "code",
   "execution_count": 77,
   "id": "683f228f-fb38-40fd-ba41-95fffe8b712a",
   "metadata": {},
   "outputs": [
    {
     "data": {
      "text/plain": [
       "transmission\n",
       "Manual    5764\n",
       "Name: count, dtype: int64"
      ]
     },
     "execution_count": 77,
     "metadata": {},
     "output_type": "execute_result"
    }
   ],
   "source": [
    "df['transmission'].value_counts().head(1)"
   ]
  },
  {
   "cell_type": "markdown",
   "id": "86da0f8e-246f-4c82-85fb-bd6afcfa091b",
   "metadata": {},
   "source": [
    "13. Are most sellers, first, second, third or fourth and above owners ?"
   ]
  },
  {
   "cell_type": "code",
   "execution_count": 117,
   "id": "41fc1417-4a08-4219-9874-c8d346662d1c",
   "metadata": {},
   "outputs": [
    {
     "data": {
      "text/plain": [
       "owner\n",
       "First Owner    3712\n",
       "Name: count, dtype: int64"
      ]
     },
     "execution_count": 117,
     "metadata": {},
     "output_type": "execute_result"
    }
   ],
   "source": [
    "df['owner'].value_counts().head(1)"
   ]
  },
  {
   "cell_type": "markdown",
   "id": "9c3fcbf7-ff67-4d14-9810-95211ea63bc8",
   "metadata": {},
   "source": [
    "14. What is the average mileage ?"
   ]
  },
  {
   "cell_type": "code",
   "execution_count": 85,
   "id": "f982ab33-acff-4907-a65f-70b8a7b194f3",
   "metadata": {},
   "outputs": [
    {
     "data": {
      "text/plain": [
       "19.92"
      ]
     },
     "execution_count": 85,
     "metadata": {},
     "output_type": "execute_result"
    }
   ],
   "source": [
    "df['mileage'].mean().round(2)"
   ]
  },
  {
   "cell_type": "markdown",
   "id": "6729ae96-3d09-4152-bda9-24049aeac08f",
   "metadata": {},
   "source": [
    "15. What is the most common engine cc ?"
   ]
  },
  {
   "cell_type": "code",
   "execution_count": 89,
   "id": "3070a908-d06d-4001-9d31-d0e7a6157c23",
   "metadata": {},
   "outputs": [
    {
     "data": {
      "text/plain": [
       "0    1248.0\n",
       "Name: engine, dtype: float64"
      ]
     },
     "execution_count": 89,
     "metadata": {},
     "output_type": "execute_result"
    }
   ],
   "source": [
    "df['engine'].mode()"
   ]
  },
  {
   "cell_type": "markdown",
   "id": "19b9e04b-3504-4c35-9e4c-ab169b48e797",
   "metadata": {},
   "source": [
    "16. What is the highest max power?"
   ]
  },
  {
   "cell_type": "code",
   "execution_count": 95,
   "id": "ac3c72d2-7576-46d3-b741-c5bbac481d6e",
   "metadata": {},
   "outputs": [
    {
     "data": {
      "text/plain": [
       "163.7"
      ]
     },
     "execution_count": 95,
     "metadata": {},
     "output_type": "execute_result"
    }
   ],
   "source": [
    "df['max_power'].max()"
   ]
  },
  {
   "cell_type": "markdown",
   "id": "f07d838d-765a-424d-b7c1-110c69d841ef",
   "metadata": {},
   "source": [
    "17. What is the average max_power?"
   ]
  },
  {
   "cell_type": "code",
   "execution_count": 98,
   "id": "b3ac32ab-904e-43c8-944f-996e6738e1e1",
   "metadata": {},
   "outputs": [
    {
     "data": {
      "text/plain": [
       "82.04284421261075"
      ]
     },
     "execution_count": 98,
     "metadata": {},
     "output_type": "execute_result"
    }
   ],
   "source": [
    "df['max_power'].mean()"
   ]
  },
  {
   "cell_type": "markdown",
   "id": "961ecf02-b9fa-4b45-8189-5f52312d4eae",
   "metadata": {},
   "source": [
    "18. What is the highest Nm/kgm value?"
   ]
  },
  {
   "cell_type": "code",
   "execution_count": 103,
   "id": "7a19a214-35ee-4f54-b4ee-ff94ec66fb69",
   "metadata": {},
   "outputs": [
    {
     "data": {
      "text/plain": [
       "789.0"
      ]
     },
     "execution_count": 103,
     "metadata": {},
     "output_type": "execute_result"
    }
   ],
   "source": [
    "df['Nm/kgm'].max()"
   ]
  },
  {
   "cell_type": "markdown",
   "id": "26b16dee-398a-4483-8fb2-f7cd00220d25",
   "metadata": {},
   "source": [
    "19. What is the average Nm/kgm value?"
   ]
  },
  {
   "cell_type": "code",
   "execution_count": 107,
   "id": "3681d8a8-fb25-495e-a84e-8c394711c826",
   "metadata": {},
   "outputs": [
    {
     "data": {
      "text/plain": [
       "144.02471924913553"
      ]
     },
     "execution_count": 107,
     "metadata": {},
     "output_type": "execute_result"
    }
   ],
   "source": [
    "df['Nm/kgm'].mean()"
   ]
  },
  {
   "cell_type": "markdown",
   "id": "f5906311-2019-430f-8776-95762fd8fc0e",
   "metadata": {},
   "source": [
    "20. What is the highest rpm value?"
   ]
  },
  {
   "cell_type": "code",
   "execution_count": 110,
   "id": "cd12f203-4109-4cc3-a8de-8609abec57b1",
   "metadata": {},
   "outputs": [
    {
     "data": {
      "text/plain": [
       "5004.0"
      ]
     },
     "execution_count": 110,
     "metadata": {},
     "output_type": "execute_result"
    }
   ],
   "source": [
    "df['rpm'].max()"
   ]
  },
  {
   "cell_type": "markdown",
   "id": "a70003af-acf7-4e8c-97bd-c2bc7873527a",
   "metadata": {},
   "source": [
    "21. What is the average rpm value?"
   ]
  },
  {
   "cell_type": "code",
   "execution_count": 115,
   "id": "b28c45c3-9f97-470f-8a32-c87c7a9c4cde",
   "metadata": {},
   "outputs": [
    {
     "data": {
      "text/plain": [
       "3002.67"
      ]
     },
     "execution_count": 115,
     "metadata": {},
     "output_type": "execute_result"
    }
   ],
   "source": [
    "df['rpm'].mean().round(2)"
   ]
  },
  {
   "cell_type": "markdown",
   "id": "95d347e4-abff-453d-9e1e-a04fdd307617",
   "metadata": {},
   "source": [
    "22. How many seats are most cars?"
   ]
  },
  {
   "cell_type": "code",
   "execution_count": 120,
   "id": "2489dc0c-72e8-455a-8caa-bd68e70c1539",
   "metadata": {},
   "outputs": [
    {
     "data": {
      "text/plain": [
       "0    5.0\n",
       "Name: seats, dtype: float64"
      ]
     },
     "execution_count": 120,
     "metadata": {},
     "output_type": "execute_result"
    }
   ],
   "source": [
    "df['seats'].mode()"
   ]
  },
  {
   "cell_type": "markdown",
   "id": "b13d6c11-fcdf-4a24-9719-26c95c4e055d",
   "metadata": {},
   "source": [
    " 23. Which country makes the most cars?"
   ]
  },
  {
   "cell_type": "code",
   "execution_count": 125,
   "id": "dabce269-ca27-4e68-becc-94ebee48910d",
   "metadata": {},
   "outputs": [
    {
     "data": {
      "text/plain": [
       "country\n",
       "India    3310\n",
       "Name: count, dtype: int64"
      ]
     },
     "execution_count": 125,
     "metadata": {},
     "output_type": "execute_result"
    }
   ],
   "source": [
    "df['country'].value_counts().head(1)"
   ]
  },
  {
   "cell_type": "markdown",
   "id": "0b0e5877-4b2c-4b22-9622-ff3a09428515",
   "metadata": {},
   "source": [
    "# Bilateral analysis"
   ]
  },
  {
   "cell_type": "markdown",
   "id": "92703376-b6d2-4b5c-8c72-582c4acda3f4",
   "metadata": {},
   "source": [
    "1. Which company makes the most selling car model ?"
   ]
  },
  {
   "cell_type": "code",
   "execution_count": 155,
   "id": "1d85d335-5def-456a-8744-b1fd158d40db",
   "metadata": {},
   "outputs": [
    {
     "data": {
      "text/plain": [
       "model\n",
       "Swift    662\n",
       "Name: count, dtype: int64"
      ]
     },
     "execution_count": 155,
     "metadata": {},
     "output_type": "execute_result"
    }
   ],
   "source": [
    "df['model'].value_counts().head(1)"
   ]
  },
  {
   "cell_type": "code",
   "execution_count": 165,
   "id": "a378d8c3-32ee-42fb-80d0-529197489c42",
   "metadata": {},
   "outputs": [
    {
     "data": {
      "text/plain": [
       "0    Maruti\n",
       "Name: make, dtype: object"
      ]
     },
     "execution_count": 165,
     "metadata": {},
     "output_type": "execute_result"
    }
   ],
   "source": [
    "df[df['model'] == 'Swift']['make'].head(1)"
   ]
  },
  {
   "cell_type": "markdown",
   "id": "87e70b74-d296-4ed4-b03c-258a9868868d",
   "metadata": {},
   "source": [
    "2. Which company makes the highest selling price car? "
   ]
  },
  {
   "cell_type": "code",
   "execution_count": 168,
   "id": "c2ffe1c7-bc0a-46da-8959-55aeebe798cd",
   "metadata": {},
   "outputs": [
    {
     "data": {
      "text/plain": [
       "264    Hyundai\n",
       "Name: make, dtype: object"
      ]
     },
     "execution_count": 168,
     "metadata": {},
     "output_type": "execute_result"
    }
   ],
   "source": [
    "df[df['selling_price']==df['selling_price'].max()]['make']"
   ]
  },
  {
   "cell_type": "markdown",
   "id": "ac800439-18ed-4ff2-9d29-51bc1fdbe67b",
   "metadata": {},
   "source": [
    "3. What is the highest selling price model ?"
   ]
  },
  {
   "cell_type": "code",
   "execution_count": 173,
   "id": "9a11a6b9-8323-4829-b3db-d6f37c81112b",
   "metadata": {},
   "outputs": [
    {
     "data": {
      "text/plain": [
       "264    Creta\n",
       "Name: model, dtype: object"
      ]
     },
     "execution_count": 173,
     "metadata": {},
     "output_type": "execute_result"
    }
   ],
   "source": [
    "df[df['selling_price']==df['selling_price'].max()]['model']"
   ]
  },
  {
   "cell_type": "markdown",
   "id": "aadd83ca-5a0d-4f88-9380-d0b5a34c87af",
   "metadata": {},
   "source": [
    "4. How long was the distance travelled by the most selling car?"
   ]
  },
  {
   "cell_type": "code",
   "execution_count": 176,
   "id": "77860d3d-2f39-469c-9cbc-e1412b0f5ebb",
   "metadata": {},
   "outputs": [
    {
     "data": {
      "text/plain": [
       "264    25000\n",
       "Name: km_driven, dtype: int64"
      ]
     },
     "execution_count": 176,
     "metadata": {},
     "output_type": "execute_result"
    }
   ],
   "source": [
    "df[df['selling_price']==df['selling_price'].max()]['km_driven']"
   ]
  },
  {
   "cell_type": "markdown",
   "id": "e39bced6-57a9-48a4-8ebc-88b5a0d19def",
   "metadata": {},
   "source": [
    "5. What is the fuel type used by the higest engine cc ?"
   ]
  },
  {
   "cell_type": "code",
   "execution_count": 185,
   "id": "86b1a657-32b4-48f5-90f5-c199d0b2f21b",
   "metadata": {},
   "outputs": [
    {
     "data": {
      "text/plain": [
       "228    Diesel\n",
       "Name: fuel, dtype: object"
      ]
     },
     "execution_count": 185,
     "metadata": {},
     "output_type": "execute_result"
    }
   ],
   "source": [
    "df[df['engine']==df['engine'].max()]['fuel'].head(1)"
   ]
  },
  {
   "cell_type": "markdown",
   "id": "e1cb6e71-e33a-4d01-be14-d3f9b28a50f2",
   "metadata": {},
   "source": [
    "6. Which country makes the most automatic cars?"
   ]
  },
  {
   "cell_type": "code",
   "execution_count": 251,
   "id": "37ba6b8e-61ec-48cf-b13c-935bc28963e0",
   "metadata": {},
   "outputs": [],
   "source": [
    "auto = df[df['transmission']== 'Automatic'] "
   ]
  },
  {
   "cell_type": "code",
   "execution_count": 255,
   "id": "94ed0b0c-3284-49e1-8522-c2507d80e930",
   "metadata": {},
   "outputs": [
    {
     "data": {
      "text/plain": [
       "country\n",
       "India    142\n",
       "Name: count, dtype: int64"
      ]
     },
     "execution_count": 255,
     "metadata": {},
     "output_type": "execute_result"
    }
   ],
   "source": [
    "auto['country'].value_counts().head(1)"
   ]
  },
  {
   "cell_type": "markdown",
   "id": "4439b7b9-95f1-44dc-a445-a92089591459",
   "metadata": {},
   "source": [
    "# Multilateral analysis"
   ]
  },
  {
   "cell_type": "markdown",
   "id": "4622d8ca-5af1-4f0d-9137-8a9dc094b84b",
   "metadata": {},
   "source": [
    "1. What are the torque details of the highest selling price car?"
   ]
  },
  {
   "cell_type": "code",
   "execution_count": 259,
   "id": "695b6c8f-9474-43d2-80d0-b51a7f9b53cc",
   "metadata": {},
   "outputs": [
    {
     "data": {
      "text/html": [
       "<div>\n",
       "<style scoped>\n",
       "    .dataframe tbody tr th:only-of-type {\n",
       "        vertical-align: middle;\n",
       "    }\n",
       "\n",
       "    .dataframe tbody tr th {\n",
       "        vertical-align: top;\n",
       "    }\n",
       "\n",
       "    .dataframe thead th {\n",
       "        text-align: right;\n",
       "    }\n",
       "</style>\n",
       "<table border=\"1\" class=\"dataframe\">\n",
       "  <thead>\n",
       "    <tr style=\"text-align: right;\">\n",
       "      <th></th>\n",
       "      <th>Nm/kgm</th>\n",
       "      <th>rpm</th>\n",
       "    </tr>\n",
       "  </thead>\n",
       "  <tbody>\n",
       "    <tr>\n",
       "      <th>264</th>\n",
       "      <td>219.7</td>\n",
       "      <td>2125.0</td>\n",
       "    </tr>\n",
       "  </tbody>\n",
       "</table>\n",
       "</div>"
      ],
      "text/plain": [
       "     Nm/kgm     rpm\n",
       "264   219.7  2125.0"
      ]
     },
     "execution_count": 259,
     "metadata": {},
     "output_type": "execute_result"
    }
   ],
   "source": [
    "df[df['selling_price']==df['selling_price'].max()][['Nm/kgm', 'rpm']] "
   ]
  },
  {
   "cell_type": "markdown",
   "id": "7815c531-3897-4d02-a660-18ba7088890b",
   "metadata": {},
   "source": [
    "2. What are the torque details of the least selling  price car?"
   ]
  },
  {
   "cell_type": "code",
   "execution_count": 214,
   "id": "013cc6d2-1540-4d39-ad9d-8fac2c340a1b",
   "metadata": {},
   "outputs": [
    {
     "data": {
      "text/html": [
       "<div>\n",
       "<style scoped>\n",
       "    .dataframe tbody tr th:only-of-type {\n",
       "        vertical-align: middle;\n",
       "    }\n",
       "\n",
       "    .dataframe tbody tr th {\n",
       "        vertical-align: top;\n",
       "    }\n",
       "\n",
       "    .dataframe thead th {\n",
       "        text-align: right;\n",
       "    }\n",
       "</style>\n",
       "<table border=\"1\" class=\"dataframe\">\n",
       "  <thead>\n",
       "    <tr style=\"text-align: right;\">\n",
       "      <th></th>\n",
       "      <th>Nm/kgm</th>\n",
       "      <th>rpm</th>\n",
       "    </tr>\n",
       "  </thead>\n",
       "  <tbody>\n",
       "    <tr>\n",
       "      <th>4325</th>\n",
       "      <td>59.0</td>\n",
       "      <td>2500.0</td>\n",
       "    </tr>\n",
       "  </tbody>\n",
       "</table>\n",
       "</div>"
      ],
      "text/plain": [
       "      Nm/kgm     rpm\n",
       "4325    59.0  2500.0"
      ]
     },
     "execution_count": 214,
     "metadata": {},
     "output_type": "execute_result"
    }
   ],
   "source": [
    "df[df['selling_price']==df['selling_price'].min()][['Nm/kgm', 'rpm']] "
   ]
  },
  {
   "cell_type": "markdown",
   "id": "f41a5a4e-a0ef-458d-9f8f-4146e71bdc64",
   "metadata": {},
   "source": [
    " 3. What are the selling owner details of the most selling price car?"
   ]
  },
  {
   "cell_type": "code",
   "execution_count": 263,
   "id": "a57a83f4-1c65-4189-ae10-799becada2b6",
   "metadata": {},
   "outputs": [
    {
     "data": {
      "text/html": [
       "<div>\n",
       "<style scoped>\n",
       "    .dataframe tbody tr th:only-of-type {\n",
       "        vertical-align: middle;\n",
       "    }\n",
       "\n",
       "    .dataframe tbody tr th {\n",
       "        vertical-align: top;\n",
       "    }\n",
       "\n",
       "    .dataframe thead th {\n",
       "        text-align: right;\n",
       "    }\n",
       "</style>\n",
       "<table border=\"1\" class=\"dataframe\">\n",
       "  <thead>\n",
       "    <tr style=\"text-align: right;\">\n",
       "      <th></th>\n",
       "      <th>seller_type</th>\n",
       "      <th>owner</th>\n",
       "    </tr>\n",
       "  </thead>\n",
       "  <tbody>\n",
       "    <tr>\n",
       "      <th>264</th>\n",
       "      <td>Individual</td>\n",
       "      <td>First Owner</td>\n",
       "    </tr>\n",
       "  </tbody>\n",
       "</table>\n",
       "</div>"
      ],
      "text/plain": [
       "    seller_type        owner\n",
       "264  Individual  First Owner"
      ]
     },
     "execution_count": 263,
     "metadata": {},
     "output_type": "execute_result"
    }
   ],
   "source": [
    "df[df['selling_price']==df['selling_price'].max()][['seller_type', 'owner']] "
   ]
  },
  {
   "cell_type": "markdown",
   "id": "d42100e8-31f2-49d8-acf7-aed83038c2ca",
   "metadata": {},
   "source": [
    "4. What are the selling owner details of the least selling price car?"
   ]
  },
  {
   "cell_type": "code",
   "execution_count": 267,
   "id": "a051c436-8e69-42d7-8f44-6cacc527a103",
   "metadata": {},
   "outputs": [
    {
     "data": {
      "text/html": [
       "<div>\n",
       "<style scoped>\n",
       "    .dataframe tbody tr th:only-of-type {\n",
       "        vertical-align: middle;\n",
       "    }\n",
       "\n",
       "    .dataframe tbody tr th {\n",
       "        vertical-align: top;\n",
       "    }\n",
       "\n",
       "    .dataframe thead th {\n",
       "        text-align: right;\n",
       "    }\n",
       "</style>\n",
       "<table border=\"1\" class=\"dataframe\">\n",
       "  <thead>\n",
       "    <tr style=\"text-align: right;\">\n",
       "      <th></th>\n",
       "      <th>seller_type</th>\n",
       "      <th>owner</th>\n",
       "    </tr>\n",
       "  </thead>\n",
       "  <tbody>\n",
       "    <tr>\n",
       "      <th>4325</th>\n",
       "      <td>Individual</td>\n",
       "      <td>Third Owner</td>\n",
       "    </tr>\n",
       "  </tbody>\n",
       "</table>\n",
       "</div>"
      ],
      "text/plain": [
       "     seller_type        owner\n",
       "4325  Individual  Third Owner"
      ]
     },
     "execution_count": 267,
     "metadata": {},
     "output_type": "execute_result"
    }
   ],
   "source": [
    "df[df['selling_price']==df['selling_price'].min()][['seller_type', 'owner']] "
   ]
  }
 ],
 "metadata": {
  "kernelspec": {
   "display_name": "Python 3 (ipykernel)",
   "language": "python",
   "name": "python3"
  },
  "language_info": {
   "codemirror_mode": {
    "name": "ipython",
    "version": 3
   },
   "file_extension": ".py",
   "mimetype": "text/x-python",
   "name": "python",
   "nbconvert_exporter": "python",
   "pygments_lexer": "ipython3",
   "version": "3.12.4"
  }
 },
 "nbformat": 4,
 "nbformat_minor": 5
}
