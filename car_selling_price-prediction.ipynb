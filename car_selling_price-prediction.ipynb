{
 "cells": [
  {
   "cell_type": "markdown",
   "id": "d1a4f9bc-a797-4e4e-a9d5-69d9003d4705",
   "metadata": {},
   "source": [
    "# Importing libraries"
   ]
  },
  {
   "cell_type": "code",
   "execution_count": 2,
   "id": "3d25ca87-1927-44b2-8115-d8b14e7ca5e2",
   "metadata": {},
   "outputs": [],
   "source": [
    "import numpy as np\n",
    "import pandas as pd\n",
    "import matplotlib.pyplot as plt\n",
    "%matplotlib inline\n",
    "import seaborn as sns\n",
    "from sklearn.impute import SimpleImputer\n",
    "from sklearn.preprocessing import LabelEncoder\n",
    "from sklearn.preprocessing import StandardScaler\n",
    "from sklearn.model_selection import train_test_split\n",
    "from sklearn.linear_model import LinearRegression\n",
    "from sklearn.svm import SVR\n",
    "from sklearn.ensemble import RandomForestRegressor\n",
    "from sklearn.pipeline import Pipeline\n",
    "from sklearn.model_selection import GridSearchCV\n",
    "from sklearn.metrics import r2_score\n",
    "import joblib"
   ]
  },
  {
   "cell_type": "markdown",
   "id": "5d0ca7a0-10ed-4d07-8a78-341358a7ec5d",
   "metadata": {},
   "source": [
    "# Importing and exploring dataset"
   ]
  },
  {
   "cell_type": "code",
   "execution_count": 4,
   "id": "e3e7685a-dde2-4e69-8175-39df1dfd2f73",
   "metadata": {},
   "outputs": [],
   "source": [
    "df= pd.read_csv('reg_cars_selling.csv')"
   ]
  },
  {
   "cell_type": "code",
   "execution_count": 5,
   "id": "459d525c-26a6-4de6-862b-3e364711197d",
   "metadata": {},
   "outputs": [
    {
     "data": {
      "text/html": [
       "<div>\n",
       "<style scoped>\n",
       "    .dataframe tbody tr th:only-of-type {\n",
       "        vertical-align: middle;\n",
       "    }\n",
       "\n",
       "    .dataframe tbody tr th {\n",
       "        vertical-align: top;\n",
       "    }\n",
       "\n",
       "    .dataframe thead th {\n",
       "        text-align: right;\n",
       "    }\n",
       "</style>\n",
       "<table border=\"1\" class=\"dataframe\">\n",
       "  <thead>\n",
       "    <tr style=\"text-align: right;\">\n",
       "      <th></th>\n",
       "      <th>name</th>\n",
       "      <th>year</th>\n",
       "      <th>selling_price</th>\n",
       "      <th>km_driven</th>\n",
       "      <th>fuel</th>\n",
       "      <th>seller_type</th>\n",
       "      <th>transmission</th>\n",
       "      <th>owner</th>\n",
       "      <th>mileage</th>\n",
       "      <th>engine</th>\n",
       "      <th>max_power</th>\n",
       "      <th>torque</th>\n",
       "      <th>seats</th>\n",
       "    </tr>\n",
       "  </thead>\n",
       "  <tbody>\n",
       "    <tr>\n",
       "      <th>0</th>\n",
       "      <td>Maruti Swift Dzire VDI</td>\n",
       "      <td>2014</td>\n",
       "      <td>450000</td>\n",
       "      <td>145500</td>\n",
       "      <td>Diesel</td>\n",
       "      <td>Individual</td>\n",
       "      <td>Manual</td>\n",
       "      <td>First Owner</td>\n",
       "      <td>23.4 kmpl</td>\n",
       "      <td>1248 CC</td>\n",
       "      <td>74 bhp</td>\n",
       "      <td>190Nm@ 2000rpm</td>\n",
       "      <td>5.0</td>\n",
       "    </tr>\n",
       "    <tr>\n",
       "      <th>1</th>\n",
       "      <td>Skoda Rapid 1.5 TDI Ambition</td>\n",
       "      <td>2014</td>\n",
       "      <td>370000</td>\n",
       "      <td>120000</td>\n",
       "      <td>Diesel</td>\n",
       "      <td>Individual</td>\n",
       "      <td>Manual</td>\n",
       "      <td>Second Owner</td>\n",
       "      <td>21.14 kmpl</td>\n",
       "      <td>1498 CC</td>\n",
       "      <td>103.52 bhp</td>\n",
       "      <td>250Nm@ 1500-2500rpm</td>\n",
       "      <td>5.0</td>\n",
       "    </tr>\n",
       "    <tr>\n",
       "      <th>2</th>\n",
       "      <td>Honda City 2017-2020 EXi</td>\n",
       "      <td>2006</td>\n",
       "      <td>158000</td>\n",
       "      <td>140000</td>\n",
       "      <td>Petrol</td>\n",
       "      <td>Individual</td>\n",
       "      <td>Manual</td>\n",
       "      <td>Third Owner</td>\n",
       "      <td>17.7 kmpl</td>\n",
       "      <td>1497 CC</td>\n",
       "      <td>78 bhp</td>\n",
       "      <td>12.7@ 2,700(kgm@ rpm)</td>\n",
       "      <td>5.0</td>\n",
       "    </tr>\n",
       "    <tr>\n",
       "      <th>3</th>\n",
       "      <td>Hyundai i20 Sportz Diesel</td>\n",
       "      <td>2010</td>\n",
       "      <td>225000</td>\n",
       "      <td>127000</td>\n",
       "      <td>Diesel</td>\n",
       "      <td>Individual</td>\n",
       "      <td>Manual</td>\n",
       "      <td>First Owner</td>\n",
       "      <td>23.0 kmpl</td>\n",
       "      <td>1396 CC</td>\n",
       "      <td>90 bhp</td>\n",
       "      <td>22.4 kgm at 1750-2750rpm</td>\n",
       "      <td>5.0</td>\n",
       "    </tr>\n",
       "    <tr>\n",
       "      <th>4</th>\n",
       "      <td>Maruti Swift VXI BSIII</td>\n",
       "      <td>2007</td>\n",
       "      <td>130000</td>\n",
       "      <td>120000</td>\n",
       "      <td>Petrol</td>\n",
       "      <td>Individual</td>\n",
       "      <td>Manual</td>\n",
       "      <td>First Owner</td>\n",
       "      <td>16.1 kmpl</td>\n",
       "      <td>1298 CC</td>\n",
       "      <td>88.2 bhp</td>\n",
       "      <td>11.5@ 4,500(kgm@ rpm)</td>\n",
       "      <td>5.0</td>\n",
       "    </tr>\n",
       "  </tbody>\n",
       "</table>\n",
       "</div>"
      ],
      "text/plain": [
       "                           name  year  selling_price  km_driven    fuel  \\\n",
       "0        Maruti Swift Dzire VDI  2014         450000     145500  Diesel   \n",
       "1  Skoda Rapid 1.5 TDI Ambition  2014         370000     120000  Diesel   \n",
       "2      Honda City 2017-2020 EXi  2006         158000     140000  Petrol   \n",
       "3     Hyundai i20 Sportz Diesel  2010         225000     127000  Diesel   \n",
       "4        Maruti Swift VXI BSIII  2007         130000     120000  Petrol   \n",
       "\n",
       "  seller_type transmission         owner     mileage   engine   max_power  \\\n",
       "0  Individual       Manual   First Owner   23.4 kmpl  1248 CC      74 bhp   \n",
       "1  Individual       Manual  Second Owner  21.14 kmpl  1498 CC  103.52 bhp   \n",
       "2  Individual       Manual   Third Owner   17.7 kmpl  1497 CC      78 bhp   \n",
       "3  Individual       Manual   First Owner   23.0 kmpl  1396 CC      90 bhp   \n",
       "4  Individual       Manual   First Owner   16.1 kmpl  1298 CC    88.2 bhp   \n",
       "\n",
       "                     torque  seats  \n",
       "0            190Nm@ 2000rpm    5.0  \n",
       "1       250Nm@ 1500-2500rpm    5.0  \n",
       "2     12.7@ 2,700(kgm@ rpm)    5.0  \n",
       "3  22.4 kgm at 1750-2750rpm    5.0  \n",
       "4     11.5@ 4,500(kgm@ rpm)    5.0  "
      ]
     },
     "execution_count": 5,
     "metadata": {},
     "output_type": "execute_result"
    }
   ],
   "source": [
    "df.head()"
   ]
  },
  {
   "cell_type": "code",
   "execution_count": 6,
   "id": "d3b9a4a8-d5a9-430e-8c09-43dbe45be78a",
   "metadata": {},
   "outputs": [
    {
     "name": "stdout",
     "output_type": "stream",
     "text": [
      "<class 'pandas.core.frame.DataFrame'>\n",
      "RangeIndex: 8128 entries, 0 to 8127\n",
      "Data columns (total 13 columns):\n",
      " #   Column         Non-Null Count  Dtype  \n",
      "---  ------         --------------  -----  \n",
      " 0   name           8128 non-null   object \n",
      " 1   year           8128 non-null   int64  \n",
      " 2   selling_price  8128 non-null   int64  \n",
      " 3   km_driven      8128 non-null   int64  \n",
      " 4   fuel           8128 non-null   object \n",
      " 5   seller_type    8128 non-null   object \n",
      " 6   transmission   8128 non-null   object \n",
      " 7   owner          8128 non-null   object \n",
      " 8   mileage        7907 non-null   object \n",
      " 9   engine         7907 non-null   object \n",
      " 10  max_power      7913 non-null   object \n",
      " 11  torque         7906 non-null   object \n",
      " 12  seats          7907 non-null   float64\n",
      "dtypes: float64(1), int64(3), object(9)\n",
      "memory usage: 825.6+ KB\n"
     ]
    }
   ],
   "source": [
    "df.info()"
   ]
  },
  {
   "cell_type": "code",
   "execution_count": 7,
   "id": "dc6387d5-940a-4a3b-8654-a037a299a4a7",
   "metadata": {},
   "outputs": [
    {
     "data": {
      "text/plain": [
       "name               0\n",
       "year               0\n",
       "selling_price      0\n",
       "km_driven          0\n",
       "fuel               0\n",
       "seller_type        0\n",
       "transmission       0\n",
       "owner              0\n",
       "mileage          221\n",
       "engine           221\n",
       "max_power        215\n",
       "torque           222\n",
       "seats            221\n",
       "dtype: int64"
      ]
     },
     "execution_count": 7,
     "metadata": {},
     "output_type": "execute_result"
    }
   ],
   "source": [
    "df.isnull().sum()"
   ]
  },
  {
   "cell_type": "markdown",
   "id": "bae928e9-2ffb-4f25-b9d7-2282ecb1fb08",
   "metadata": {},
   "source": [
    "# 1. name"
   ]
  },
  {
   "cell_type": "code",
   "execution_count": 9,
   "id": "f788156f-093e-4817-aa4b-41ef31a8aaf5",
   "metadata": {},
   "outputs": [
    {
     "data": {
      "text/plain": [
       "2058"
      ]
     },
     "execution_count": 9,
     "metadata": {},
     "output_type": "execute_result"
    }
   ],
   "source": [
    "df['name'].nunique()"
   ]
  },
  {
   "cell_type": "code",
   "execution_count": 10,
   "id": "7fd0c315-aff3-46b2-829d-effd9516ad77",
   "metadata": {},
   "outputs": [
    {
     "data": {
      "text/plain": [
       "array(['Maruti Swift Dzire VDI', 'Skoda Rapid 1.5 TDI Ambition',\n",
       "       'Honda City 2017-2020 EXi', ..., 'Tata Nexon 1.5 Revotorq XT',\n",
       "       'Ford Freestyle Titanium Plus Diesel BSIV',\n",
       "       'Toyota Innova 2.5 GX (Diesel) 8 Seater BS IV'], dtype=object)"
      ]
     },
     "execution_count": 10,
     "metadata": {},
     "output_type": "execute_result"
    }
   ],
   "source": [
    "df['name'].unique()"
   ]
  },
  {
   "cell_type": "markdown",
   "id": "b4f56dfe-2cdb-44bb-8af7-16c4d173b575",
   "metadata": {},
   "source": [
    "# Observations:\n",
    "\n",
    "Based on the above we can see that the number of unique values in the column are too much to be encoded and used as is, so instead we will extract the make and model from the column and ignore the rest of the data.\n",
    "\n",
    "ex: \n",
    " make = Honda\n",
    ",  model = City"
   ]
  },
  {
   "cell_type": "markdown",
   "id": "b8973fcd-b8be-4055-9e52-d1e75e9510e0",
   "metadata": {},
   "source": [
    "# 2. year"
   ]
  },
  {
   "cell_type": "code",
   "execution_count": 13,
   "id": "e7a369c3-3250-45db-b8f7-ba4f269466b4",
   "metadata": {},
   "outputs": [
    {
     "data": {
      "text/plain": [
       "29"
      ]
     },
     "execution_count": 13,
     "metadata": {},
     "output_type": "execute_result"
    }
   ],
   "source": [
    "df['year'].nunique()"
   ]
  },
  {
   "cell_type": "code",
   "execution_count": 14,
   "id": "bee855e8-54a4-4f13-b952-c3da41c92d63",
   "metadata": {},
   "outputs": [
    {
     "data": {
      "text/plain": [
       "array([2014, 2006, 2010, 2007, 2017, 2001, 2011, 2013, 2005, 2009, 2016,\n",
       "       2012, 2002, 2015, 2018, 2003, 2019, 2008, 2020, 1999, 2000, 1983,\n",
       "       2004, 1996, 1994, 1995, 1998, 1997, 1991], dtype=int64)"
      ]
     },
     "execution_count": 14,
     "metadata": {},
     "output_type": "execute_result"
    }
   ],
   "source": [
    "df['year'].unique()"
   ]
  },
  {
   "cell_type": "code",
   "execution_count": 15,
   "id": "a71fb2e9-f100-4317-bc09-967ddd6d0214",
   "metadata": {},
   "outputs": [
    {
     "data": {
      "text/plain": [
       "count    8128.000000\n",
       "mean     2013.804011\n",
       "std         4.044249\n",
       "min      1983.000000\n",
       "25%      2011.000000\n",
       "50%      2015.000000\n",
       "75%      2017.000000\n",
       "max      2020.000000\n",
       "Name: year, dtype: float64"
      ]
     },
     "execution_count": 15,
     "metadata": {},
     "output_type": "execute_result"
    }
   ],
   "source": [
    "df['year'].describe()"
   ]
  },
  {
   "cell_type": "code",
   "execution_count": 16,
   "id": "59db968e-30f6-43ec-ab39-f9faf427b88e",
   "metadata": {},
   "outputs": [
    {
     "data": {
      "text/plain": [
       "0    2017\n",
       "Name: year, dtype: int64"
      ]
     },
     "execution_count": 16,
     "metadata": {},
     "output_type": "execute_result"
    }
   ],
   "source": [
    "df['year'].mode()"
   ]
  },
  {
   "cell_type": "markdown",
   "id": "1c113510-e083-4167-a773-49834ed85242",
   "metadata": {},
   "source": [
    "# Observations: \n",
    "\n",
    "Based on the above we can see that the oldest car is a 1983 model and the newest car is 2020 but most cars were made in 2017."
   ]
  },
  {
   "cell_type": "markdown",
   "id": "79c82fe8-4a6e-41e0-8544-9bf3496122cc",
   "metadata": {},
   "source": [
    "# 3. selling price"
   ]
  },
  {
   "cell_type": "code",
   "execution_count": 19,
   "id": "1ab9ed08-5cad-4ee4-ad15-c9f12e03c6b2",
   "metadata": {},
   "outputs": [
    {
     "data": {
      "text/plain": [
       "count    8.128000e+03\n",
       "mean     6.382718e+05\n",
       "std      8.062534e+05\n",
       "min      2.999900e+04\n",
       "25%      2.549990e+05\n",
       "50%      4.500000e+05\n",
       "75%      6.750000e+05\n",
       "max      1.000000e+07\n",
       "Name: selling_price, dtype: float64"
      ]
     },
     "execution_count": 19,
     "metadata": {},
     "output_type": "execute_result"
    }
   ],
   "source": [
    "df['selling_price'].describe()"
   ]
  },
  {
   "cell_type": "markdown",
   "id": "bb4dd16f-40ac-46f0-b0b2-e154a2179e33",
   "metadata": {},
   "source": [
    "# Observations:\n",
    "\n",
    "based on the above, we can see that the least selling price was 29999 (twenty-nine thousand nine hundred ninety-nine ) and the maximum selling price is 1000000 (ten million) while the mean is 638271 (six hundred thirty-eight thousand two hundred seventy-one)."
   ]
  },
  {
   "cell_type": "markdown",
   "id": "cfad5f36-7427-47d3-b0fd-e08ec02fdfbb",
   "metadata": {},
   "source": [
    "# 4. kilometers driven"
   ]
  },
  {
   "cell_type": "code",
   "execution_count": 23,
   "id": "9ad707d7-782f-43b2-9a31-3c87ed77f43e",
   "metadata": {},
   "outputs": [
    {
     "data": {
      "text/plain": [
       "count    8.128000e+03\n",
       "mean     6.981951e+04\n",
       "std      5.655055e+04\n",
       "min      1.000000e+00\n",
       "25%      3.500000e+04\n",
       "50%      6.000000e+04\n",
       "75%      9.800000e+04\n",
       "max      2.360457e+06\n",
       "Name: km_driven, dtype: float64"
      ]
     },
     "execution_count": 23,
     "metadata": {},
     "output_type": "execute_result"
    }
   ],
   "source": [
    "df['km_driven'].describe()"
   ]
  },
  {
   "cell_type": "markdown",
   "id": "ce7bf472-0e4a-49a5-ad7e-b12fd81d8ad1",
   "metadata": {},
   "source": [
    "# Observations:\n",
    "\n",
    "Based on the above we can see that the minimum distance driven is 1km and the maximum distance is 2360457 (two million three hundred sixty thousand four hundred fifty-seven). The maximum number here doesn't make much since and will probably be removed once we handle outliers."
   ]
  },
  {
   "cell_type": "markdown",
   "id": "dbf9767a-d0ca-476d-8f4f-ea1d82933efd",
   "metadata": {},
   "source": [
    "# 5. fuel"
   ]
  },
  {
   "cell_type": "code",
   "execution_count": 38,
   "id": "db53b82b-75e4-4219-9749-5be908539645",
   "metadata": {},
   "outputs": [
    {
     "data": {
      "text/plain": [
       "fuel\n",
       "Diesel    4402\n",
       "Petrol    3631\n",
       "CNG         57\n",
       "LPG         38\n",
       "Name: count, dtype: int64"
      ]
     },
     "execution_count": 38,
     "metadata": {},
     "output_type": "execute_result"
    }
   ],
   "source": [
    "df['fuel'].value_counts()"
   ]
  },
  {
   "cell_type": "markdown",
   "id": "378b571d-a539-4bd6-b16c-6a617134f5ee",
   "metadata": {},
   "source": [
    "Observations:\n",
    "\n",
    "Based on the above, we can see that while there are  4 different unique values in this column, the most commonly used fuel type is Diesel and the least used is LPG"
   ]
  },
  {
   "cell_type": "markdown",
   "id": "b258fce5-55e1-47ff-91cf-093237ffb152",
   "metadata": {},
   "source": [
    "# 6. seller type"
   ]
  },
  {
   "cell_type": "code",
   "execution_count": 42,
   "id": "d3cdd56a-986f-46ca-a9f3-0e0ade634b51",
   "metadata": {},
   "outputs": [
    {
     "data": {
      "text/plain": [
       "seller_type\n",
       "Individual          6766\n",
       "Dealer              1126\n",
       "Trustmark Dealer     236\n",
       "Name: count, dtype: int64"
      ]
     },
     "execution_count": 42,
     "metadata": {},
     "output_type": "execute_result"
    }
   ],
   "source": [
    "df['seller_type'].value_counts()"
   ]
  },
  {
   "cell_type": "markdown",
   "id": "4de4758a-2742-4bc1-af7e-9f0185a8dc18",
   "metadata": {},
   "source": [
    "# Observations:\n",
    "\n",
    "based on the aboce, we can see that the most sellers in the dataset are individual sellers, there are over a 1000 dealers but only 236 trustmark dealers."
   ]
  },
  {
   "cell_type": "markdown",
   "id": "ba5ccfd7-f41e-4755-89e7-85404dea8c57",
   "metadata": {},
   "source": [
    "# 7. transmission"
   ]
  },
  {
   "cell_type": "code",
   "execution_count": 46,
   "id": "2de54c72-add6-4544-b148-b4ceee048e24",
   "metadata": {},
   "outputs": [
    {
     "data": {
      "text/plain": [
       "transmission\n",
       "Manual       7078\n",
       "Automatic    1050\n",
       "Name: count, dtype: int64"
      ]
     },
     "execution_count": 46,
     "metadata": {},
     "output_type": "execute_result"
    }
   ],
   "source": [
    "df['transmission'].value_counts()"
   ]
  },
  {
   "cell_type": "markdown",
   "id": "d3c8769f-908e-4bcf-9907-462f1bac86ee",
   "metadata": {},
   "source": [
    "# Observations:\n",
    "\n",
    "Based on the above, we can see that most cars in the dataset are manual. The data distribution on this column is extremley unbalanced."
   ]
  },
  {
   "cell_type": "markdown",
   "id": "bf10a649-4feb-4145-a8aa-8dade61804c5",
   "metadata": {},
   "source": [
    "# 8. owner"
   ]
  },
  {
   "cell_type": "code",
   "execution_count": 50,
   "id": "14f15800-1820-407d-9f6a-4df6f31448c3",
   "metadata": {},
   "outputs": [
    {
     "data": {
      "text/plain": [
       "owner\n",
       "First Owner             5289\n",
       "Second Owner            2105\n",
       "Third Owner              555\n",
       "Fourth & Above Owner     174\n",
       "Test Drive Car             5\n",
       "Name: count, dtype: int64"
      ]
     },
     "execution_count": 50,
     "metadata": {},
     "output_type": "execute_result"
    }
   ],
   "source": [
    "df['owner'].value_counts()"
   ]
  },
  {
   "cell_type": "markdown",
   "id": "4192646e-23b2-428d-8160-a3f0eaa5d1c0",
   "metadata": {},
   "source": [
    "# Observations:\n",
    "\n",
    "Based on the above, we can see that most sellers are first owners of their cars, while there are only 5 test drive cars."
   ]
  },
  {
   "cell_type": "markdown",
   "id": "5fedcad2-4829-4c7e-a8bc-174fe126530c",
   "metadata": {},
   "source": [
    "# 9. mileage"
   ]
  },
  {
   "cell_type": "code",
   "execution_count": 54,
   "id": "a1bf05f8-b118-4d73-ab7a-bc278d5b1125",
   "metadata": {},
   "outputs": [
    {
     "data": {
      "text/plain": [
       "0     23.4 kmpl\n",
       "1    21.14 kmpl\n",
       "2     17.7 kmpl\n",
       "3     23.0 kmpl\n",
       "4     16.1 kmpl\n",
       "Name: mileage, dtype: object"
      ]
     },
     "execution_count": 54,
     "metadata": {},
     "output_type": "execute_result"
    }
   ],
   "source": [
    "df['mileage'].head()"
   ]
  },
  {
   "cell_type": "code",
   "execution_count": 56,
   "id": "9d6b5645-5692-4f71-9135-d08713bbe83c",
   "metadata": {},
   "outputs": [
    {
     "data": {
      "text/plain": [
       "count          7907\n",
       "unique          393\n",
       "top       18.9 kmpl\n",
       "freq            225\n",
       "Name: mileage, dtype: object"
      ]
     },
     "execution_count": 56,
     "metadata": {},
     "output_type": "execute_result"
    }
   ],
   "source": [
    "df['mileage'].describe()"
   ]
  },
  {
   "cell_type": "markdown",
   "id": "add793dd-d206-4a9a-8aec-22e171321c0c",
   "metadata": {},
   "source": [
    "# Observations:\n",
    "\n",
    "Based on the above, we can see that this column contains both numerical and text data types, which we will need to change so the data could be used for machine learning purposes. There are also some missing values in this column that we will need to handle."
   ]
  },
  {
   "cell_type": "markdown",
   "id": "68c604e6-dfdf-4e58-b1c2-ec3410dc9b25",
   "metadata": {},
   "source": [
    "# 10. engine"
   ]
  },
  {
   "cell_type": "code",
   "execution_count": 60,
   "id": "1087d7ce-4315-427a-b8ce-24b62ae884e9",
   "metadata": {},
   "outputs": [
    {
     "data": {
      "text/plain": [
       "0    1248 CC\n",
       "1    1498 CC\n",
       "2    1497 CC\n",
       "3    1396 CC\n",
       "4    1298 CC\n",
       "Name: engine, dtype: object"
      ]
     },
     "execution_count": 60,
     "metadata": {},
     "output_type": "execute_result"
    }
   ],
   "source": [
    "df['engine'].head()"
   ]
  },
  {
   "cell_type": "code",
   "execution_count": 62,
   "id": "17643465-3ba1-4176-bdbe-869a81dca251",
   "metadata": {},
   "outputs": [
    {
     "data": {
      "text/plain": [
       "count        7907\n",
       "unique        121\n",
       "top       1248 CC\n",
       "freq         1017\n",
       "Name: engine, dtype: object"
      ]
     },
     "execution_count": 62,
     "metadata": {},
     "output_type": "execute_result"
    }
   ],
   "source": [
    "df['engine'].describe()"
   ]
  },
  {
   "cell_type": "markdown",
   "id": "21a61796-19ea-4c5d-93f8-0d94186cc529",
   "metadata": {},
   "source": [
    "# Observations: \n",
    "\n",
    "Based on the above, we can see that this column contains both numerical and text data types, which we will need to change so the data could be used for machine learning purposes. There are also some missing values in this column that we will need to handle."
   ]
  },
  {
   "cell_type": "markdown",
   "id": "ee1d3f1f-38ee-4e8a-83fc-62d2e5b390d3",
   "metadata": {},
   "source": [
    "# 11. maximum power"
   ]
  },
  {
   "cell_type": "code",
   "execution_count": 66,
   "id": "eca2a79a-370c-48b0-9d2e-0411cfc3a9ac",
   "metadata": {},
   "outputs": [
    {
     "data": {
      "text/plain": [
       "0        74 bhp\n",
       "1    103.52 bhp\n",
       "2        78 bhp\n",
       "3        90 bhp\n",
       "4      88.2 bhp\n",
       "Name: max_power, dtype: object"
      ]
     },
     "execution_count": 66,
     "metadata": {},
     "output_type": "execute_result"
    }
   ],
   "source": [
    "df['max_power'].head()"
   ]
  },
  {
   "cell_type": "code",
   "execution_count": 68,
   "id": "1d5e733d-6b66-4f17-85b4-ba616ec748bc",
   "metadata": {},
   "outputs": [
    {
     "data": {
      "text/plain": [
       "count       7913\n",
       "unique       322\n",
       "top       74 bhp\n",
       "freq         377\n",
       "Name: max_power, dtype: object"
      ]
     },
     "execution_count": 68,
     "metadata": {},
     "output_type": "execute_result"
    }
   ],
   "source": [
    "df['max_power'].describe()"
   ]
  },
  {
   "cell_type": "markdown",
   "id": "9a2eba2d-6b49-44ed-81e2-41a26ba004aa",
   "metadata": {},
   "source": [
    "# Observations:\n",
    "\n",
    "Based on the above, we can see that this column contains both numerical and text data types, which we will need to change so the data could be used for machine learning purposes. There are also some missing values in this column that we will need to handle."
   ]
  },
  {
   "cell_type": "markdown",
   "id": "0087eecc-bc2a-43dd-adbc-db5378373a97",
   "metadata": {},
   "source": [
    "# 12. torque"
   ]
  },
  {
   "cell_type": "code",
   "execution_count": 72,
   "id": "3505c6b7-bccf-4adf-85d3-d47a8c1d7233",
   "metadata": {},
   "outputs": [
    {
     "data": {
      "text/plain": [
       "441"
      ]
     },
     "execution_count": 72,
     "metadata": {},
     "output_type": "execute_result"
    }
   ],
   "source": [
    "df['torque'].nunique()"
   ]
  },
  {
   "cell_type": "code",
   "execution_count": 73,
   "id": "ed558910-92fc-4f5f-9751-d8a4a24f1585",
   "metadata": {},
   "outputs": [
    {
     "data": {
      "text/plain": [
       "array(['190Nm@ 2000rpm', '250Nm@ 1500-2500rpm', '12.7@ 2,700(kgm@ rpm)',\n",
       "       '22.4 kgm at 1750-2750rpm', '11.5@ 4,500(kgm@ rpm)',\n",
       "       '113.75nm@ 4000rpm', '7.8@ 4,500(kgm@ rpm)', '59Nm@ 2500rpm',\n",
       "       '170Nm@ 1800-2400rpm', '160Nm@ 2000rpm', '248Nm@ 2250rpm',\n",
       "       '78Nm@ 4500rpm', nan, '84Nm@ 3500rpm', '115Nm@ 3500-3600rpm',\n",
       "       '200Nm@ 1750rpm', '62Nm@ 3000rpm', '219.7Nm@ 1500-2750rpm',\n",
       "       '114Nm@ 3500rpm', '115Nm@ 4000rpm', '69Nm@ 3500rpm',\n",
       "       '172.5Nm@ 1750rpm', '6.1kgm@ 3000rpm', '114.7Nm@ 4000rpm',\n",
       "       '60Nm@ 3500rpm', '90Nm@ 3500rpm', '151Nm@ 4850rpm',\n",
       "       '104Nm@ 4000rpm', '320Nm@ 1700-2700rpm', '250Nm@ 1750-2500rpm',\n",
       "       '145Nm@ 4600rpm', '146Nm@ 4800rpm', '343Nm@ 1400-3400rpm',\n",
       "       '200Nm@ 1400-3400rpm', '200Nm@ 1250-4000rpm',\n",
       "       '400Nm@ 2000-2500rpm', '138Nm@ 4400rpm', '360Nm@ 1200-3400rpm',\n",
       "       '200Nm@ 1200-3600rpm', '380Nm@ 1750-2500rpm', '173Nm@ 4000rpm',\n",
       "       '400Nm@ 1750-3000rpm', '400Nm@ 1400-2800rpm',\n",
       "       '200Nm@ 1750-3000rpm', '111.7Nm@ 4000rpm', '219.6Nm@ 1500-2750rpm',\n",
       "       '112Nm@ 4000rpm', '250Nm@ 1500-3000rpm', '130Nm@ 4000rpm',\n",
       "       '205Nm@ 1750-3250rpm', '280Nm@ 1350-4600rpm', '99.04Nm@ 4500rpm',\n",
       "       '77Nm@ 3500rpm', '110Nm@ 3750rpm', '153Nm@ 3800rpm',\n",
       "       '113.7Nm@ 4000rpm', '114Nm@ 4000rpm', '113Nm@ 4200rpm',\n",
       "       '101Nm@ 3000rpm', '290Nm@ 1800-2800rpm', '120Nm@ 4250rpm',\n",
       "       '250Nm@ 1500~4500rpm', '96 Nm at 3000 rpm', '360Nm@ 1750-2800rpm',\n",
       "       '135Nm@ 2500rpm', '259.8Nm@ 1900-2750rpm', '200Nm@ 1900rpm',\n",
       "       '259.9Nm@ 1900-2750rpm', '91Nm@ 4250rpm', '96.1Nm@ 3000rpm',\n",
       "       '109Nm@ 4500rpm', '400nm@ 1750-3000rpm', '202Nm@ 3600-5200rpm',\n",
       "       '430Nm@ 1750-2500rpm', '347Nm@ 4300rpm', '382nm@ 1750-2250rpm',\n",
       "       '620Nm@ 1600-2400rpm', '400Nm@ 1750-2500rpm', '250@ 1250-5000rpm',\n",
       "       '500Nm@ 1600-1800rpm', '250Nm@ 1600-3600rpm', '400Nm',\n",
       "       '550Nm@ 1750-2750rpm', '490Nm@ 1600rpm', '250 Nm at 2750 rpm',\n",
       "       '177.5Nm@ 4700rpm', '170Nm@ 1750-4000rpm', '300Nm@ 1200-4000rpm',\n",
       "       '300Nm@ 1200-1400rpm', '260Nm@ 1500-2750rpm', '213Nm@ 4500rpm',\n",
       "       '224Nm@ 4000rpm', '640Nm@ 1740rpm', '113Nm@ 4500rpm',\n",
       "       '95Nm@ 3000-4300rpm', '13.1kgm@ 4600rpm', '205Nm@ 1800-2800rpm',\n",
       "       '71Nm@ 3500rpm', '190Nm@ 1750-3000rpm', '146Nm at 4800 rpm',\n",
       "       '14.9 KGM at 3000 RPM', '115Nm@ 3200rpm', '117nm@ 4000rpm',\n",
       "       '320Nm@ 1500-3000rpm', '72Nm@ 4386rpm', '11.4 kgm at 4,000 rpm',\n",
       "       '140Nm@ 1500-4000rpm', '134Nm@ 4000rpm', '150Nm@ 4500rpm',\n",
       "       '340Nm@ 1800-3250rpm', '240Nm@ 1600-2800rpm',\n",
       "       '330Nm@ 1600-2800rpm', '12.5@ 3,500(kgm@ rpm)', '110Nm@ 4800rpm',\n",
       "       '111.8Nm@ 4000rpm', '11.8@ 3,200(kgm@ rpm)', '135.4Nm@ 2500rpm',\n",
       "       '300Nm@ 1750-2500rpm', '190.25nm@ 1750-2250rpm',\n",
       "       '140Nm@ 1800-3000rpm', '20.4@ 1400-3400(kgm@ rpm)',\n",
       "       '247Nm@ 1800-2000rpm', '223Nm@ 1600-2200rpm',\n",
       "       '180 Nm at 1440-1500rpm', '195Nm@ 1400-2200rpm',\n",
       "       '154.9Nm@ 4200rpm', '114.73Nm@ 4000rpm', '160Nm@ 1500-2750rpm',\n",
       "       '108Nm@ 4400rpm', '190.24nm@ 1750-2250rpm', '200Nm@ 2000-3500rpm',\n",
       "       '420Nm@ 1400-2600rpm', '100Nm@ 2700rpm', '51Nm@ 4000rpm',\n",
       "       '250Nm@ 1250-5300rpm', '132Nm@ 3000rpm', '350Nm@ 1500-2750rpm',\n",
       "       '218Nm@ 4200rpm', '14.9@ 3,000(kgm@ rpm)',\n",
       "       '24@ 1,900-2,750(kgm@ rpm)', '13.5@ 2,500(kgm@ rpm)',\n",
       "       '85Nm@ 3000rpm', '74.5Nm@ 4000rpm', '160Nm@ 1750rpm',\n",
       "       '180.4Nm@ 1750-2500rpm', '230Nm@ 1500-2500rpm',\n",
       "       '113.75Nm@ 4000rpm', '219.66nm@ 1500-2750rpm', '245Nm@ 1750rpm',\n",
       "       '360Nm@ 1400-3200rpm', '320Nm@ 2000rpm', '135 Nm at 2500  rpm ',\n",
       "       '24 KGM at 1900-2750 RPM', '190Nm@ 1750-2250rpm',\n",
       "       '204Nm@ 2000-2750rpm', '14.3@ 1,800-3,000(kgm@ rpm)',\n",
       "       '250nm@ 1500-2750rpm', '125Nm@ 2000rpm', '172Nm@ 4300rpm',\n",
       "       '150Nm@ 1750rpm', '102Nm@ 4000rpm', '85Nm@ 2500rpm',\n",
       "       '8.5@ 2,500(kgm@ rpm)', '180Nm@ 1440-1500rpm', '106.5Nm@ 4400rpm',\n",
       "       '108.5Nm@ 5000rpm', '350Nm@ 1750-2500rpm', '144.15nm@ 4500rpm',\n",
       "       '104Nm@ 4400rpm', '99Nm@ 4500rpm', '200Nm@ 2000rpm',\n",
       "       '280Nm@ 1800-2800rpm', '142.5Nm@ 1750rpm', '140Nm@ 4400rpm',\n",
       "       '115@ 2,500(kgm@ rpm)', '196Nm@ 5000rpm',\n",
       "       '260 Nm at 1800-2200 rpm', '9.8@ 3,000(kgm@ rpm)',\n",
       "       '209Nm@ 2000rpm', '135 Nm at 2500 rpm', '140Nm@ 4200rpm',\n",
       "       '220Nm at 1400-2600 rpm', '48Nm@ 3000rpm', '171Nm@ 1800rpm',\n",
       "       '277.5Nm@ 1700-2200rpm', '215Nm@ 3600rpm', '219.6Nm@ 1750-2750rpm',\n",
       "       '195Nm@ 1440-2200rpm', '13@ 2,500(kgm@ rpm)', '180Nm@ 2000rpm',\n",
       "       '200Nm@ 1400-2200rpm', '380Nm(38.7kgm)@ 2500rpm', '110Nm@ 4400rpm',\n",
       "       '72Nm@ 4388rpm', '263.7Nm@ 2500rpm', '320Nm@ 1600-2800rpm',\n",
       "       '25.5@ 1,500-3,000(kgm@ rpm)', '16.3@ 2,000(kgm@ rpm)',\n",
       "       '190 Nm at 1750 rpm ', '94.14Nm@ 3500rpm', '12@ 3,500(kgm@ rpm)',\n",
       "       '113Nm@ 5000rpm', '280Nm@ 2400-2800rpm', '96Nm@ 3500rpm',\n",
       "       '16@ 2,000(kgm@ rpm)', '320Nm@ 1750-3000rpm', '114.73nm@ 4000rpm',\n",
       "       '320Nm@ 1750-2500rpm', '138nm@ 4400rpm', '190Nm@ 1750rpm',\n",
       "       '789Nm@ 2250rpm', '259.87Nm@ 1900-2750rpm', '205Nm@ 1750rpm',\n",
       "       '436.39Nm@ 1800-2500rpm', '182.5Nm@ 1500-1800rpm',\n",
       "       '90.3Nm@ 4200rpm', '12.5@ 2,500(kgm@ rpm)', '215Nm@ 1750-3000rpm',\n",
       "       '215Nm@ 1750-3000', '305Nm@ 2000rpm', '540Nm@ 2000rpm',\n",
       "       '327Nm@ 2600rpm', '300Nm@ 1600-3000rpm', '620Nm@ 2000-2500rpm',\n",
       "       '450Nm@ 1600-2400rpm', '19@ 1,800(kgm@ rpm)',\n",
       "       '9.2@ 4,200(kgm@ rpm)', '145@ 4,100(kgm@ rpm)',\n",
       "       '51Nm@ 4000+/-500rpm', '110Nm@ 3000rpm', '148Nm@ 3500rpm',\n",
       "       '116Nm@ 4750rpm', '48@ 3,000+/-500(NM@ rpm)', '148Nm@ 4000rpm',\n",
       "       '222Nm@ 4300rpm', '135.3Nm@ 5000rpm', '98Nm@ 1600-3000rpm',\n",
       "       '170Nm@ 1400-4500rpm', '343Nm@ 1400-2800rpm',\n",
       "       '402Nm@ 1600-3000rpm', '113Nm@ 3300rpm', '99.07Nm@ 4500rpm',\n",
       "       '210nm@ 1600-2200rpm', '190 Nm at 1750  rpm ', '32.1kgm@ 2000rpm',\n",
       "       '224nm@ 1500-2750rpm', '400nm@ 1750-2500rpm',\n",
       "       '215Nm@ 1750-2500rpm', '25@ 1,800-2,800(kgm@ rpm)',\n",
       "       '197Nm@ 1750rpm', '136.3Nm@ 4200rpm', '470Nm@ 1750-2500rpm',\n",
       "       '11@ 3,000(kgm@ rpm)', '142Nm@ 4000rpm', '145Nm@ 4100rpm',\n",
       "       '320Nm@ 1500-2800rpm', '123Nm@ 1000-2500rpm',\n",
       "       '218Nm@ 1400-2600rpm', '510@ 1600-2400', '220Nm@ 1500-2750rpm',\n",
       "       '380Nm@ 2000rpm', '104Nm@ 3100rpm', '292Nm@ 2000rpm',\n",
       "       '20@ 3,750(kgm@ rpm)', '46.5@ 1,400-2,800(kgm@ rpm)',\n",
       "       '380Nm@ 2500rpm', '15@ 3,800(kgm@ rpm)', '136Nm@ 4250rpm',\n",
       "       '228Nm@ 4400rpm', '149Nm@ 4500rpm', '187Nm@ 2500rpm',\n",
       "       '146Nm@ 3400rpm', '8.6@ 3,500(kgm@ rpm)', '219.7Nm@ 1750-2750rpm',\n",
       "       '190Nm@ 2000-3000', '450Nm@ 2000rpm', '300Nm@ 2000rpm',\n",
       "       '230Nm@ 1800-2000rpm', '42@ 2,000(kgm@ rpm)',\n",
       "       '110Nm@ 3000-4300rpm', '110(11.2)@ 4800', '330Nm@ 1800rpm',\n",
       "       '225Nm@ 1500-2500rpm', '380Nm@ 1750-2750rpm',\n",
       "       '28.3@ 1,700-2,200(kgm@ rpm)', '259.88Nm@ 1900-2750rpm',\n",
       "       '580Nm@ 1400-3250rpm', '400 Nm /2000 rpm', '127Nm@ 3500rpm',\n",
       "       '300Nm@ 1500-2500rpm', '132.3Nm@ 4000rpm', '113nm@ 4400rpm',\n",
       "       '151NM@ 4850rpm', '153Nm@ 3750-3800rpm', '10.7@ 2,500(kgm@ rpm)',\n",
       "       '124.6Nm@ 3500rpm', '78Nm@ 3500rpm', '219.9Nm@ 1750-2750rpm',\n",
       "       '420.7Nm@ 1800-2500rpm', '130Nm@ 3000rpm', '424Nm@ 2000rpm',\n",
       "       '130@ 2500(kgm@ rpm)', '99.8Nm@ 2700rpm', '113Nm@ 4,500rpm',\n",
       "       '11.2@ 4,400(kgm@ rpm)', '240Nm@ 1850rpm', '16.1@ 4,200(kgm@ rpm)',\n",
       "       '320Nm@ 1750-2700rpm', '115Nm@ 4500rpm', '245Nm@ 4000rpm',\n",
       "       '321Nm@ 1600-2400rpm', '619Nm@ 1600-2400rpm',\n",
       "       '380Nm@ 1750-3000rpm', '560Nm@ 1500rpm', '230Nm@ 1500-2250rpm',\n",
       "       '90Nm@ 2650rpm', '260Nm@ 1800-2200rpm', '600Nm@ 2000rpm',\n",
       "       '259.87nm@ 1500-3000rpm', '16.6@ 4,500(kgm@ rpm)',\n",
       "       '219.66NM@ 1500-2750rpm', '12.5@ 3,000(kgm@ rpm)',\n",
       "       '620Nm@ 1500-2500rpm', '250Nm@ 1500-4500rpm',\n",
       "       '14.9@ 3,400(kgm@ rpm)', '25.5@ 1,900(kgm@ rpm)',\n",
       "       '33.7@ 1,800(kgm@ rpm)', '285Nm@ 2400-4000rpm',\n",
       "       '10.7@ 2,600(kgm@ rpm)', '250Nm@ 1000-2000rpm', '240Nm@ 1750rpm',\n",
       "       '226Nm@ 4400rpm', '510Nm@ 1600-2800rpm', '259.87NM@ 1500-3000rpm',\n",
       "       '155 Nm at 1600-2800 rpm', '240Nm@ 2000rpm', '103Nm@ 4500rpm',\n",
       "       '13.5@ 4,800(kgm@ rpm)', '400Nm@ 1750-2750rpm',\n",
       "       '175Nm@ 1500-4100rpm', '72.9Nm@ 2250rpm', '135.4Nm@ 2500',\n",
       "       '245Nm@ 5000rpm', '57Nm@ 2500rpm', '96Nm@ 2500rpm',\n",
       "       '215nm@ 1750-2500rpm', '10.4@ 3,200(kgm@ rpm)', '128Nm@ 3100rpm',\n",
       "       '102Nm@ 2600rpm', '131Nm@ 4400rpm', '11.4@ 4,000(kgm@ rpm)',\n",
       "       '250Nm@ 4250rpm', '343Nm@ 1600-2800rpm', '185Nm@ 1750-2750rpm',\n",
       "       '12@ 2500(kgm@ rpm)', '12.4@ 2,600(kgm@ rpm)', '170Nm@ 4200rpm',\n",
       "       '176Nm@ 1500rpm', '380NM@ 1800-2800rpm', '250Nm@ 1600-2000rpm',\n",
       "       '24.5@ 3,500-4,500(kgm@ rpm)', '22.9@ 1,950-4,700(kgm@ rpm)',\n",
       "       '113Nm@ 4400rpm', '121Nm@ 2800rpm', '210 / 1900',\n",
       "       '250Nm@ 1250-5000rpm', '400Nm@ 175-2750rpm', '350Nm@ 1500-3500rpm',\n",
       "       '175nm@ 1750-4000rpm', '115@ 2500(kgm@ rpm)', '110Nm@ 4500rpm',\n",
       "       '190Nm@ 2000-3000rpm', '106Nm@ 2200rpm',\n",
       "       '21.4@ 1,750-4,600(kgm@ rpm)', '96Nm@ 3000rpm',\n",
       "       '23.6@ 4,250(kgm@ rpm)', '11.3kgm@ 4700rpm', '450Nm@ 1750-2500rpm',\n",
       "       '35.7@ 1,750-3,000(kgm@ rpm)', '6@ 2,500(kgm@ rpm)',\n",
       "       '13.9 kgm at 4200 rpm', '320Nm@ 1400-4100rpm',\n",
       "       '150Nm@ 1700-4500rpm', '113.8Nm@ 4000rpm', '110@ 3,000(kgm@ rpm)',\n",
       "       '151Nm@ 2400rpm', '62Nm@ 2500rpm', '18@ 1,600-2,200(kgm@ rpm)',\n",
       "       '83Nm@ 3000rpm', '124.5Nm@ 3500rpm', '20@ 4,700(kgm@ rpm)',\n",
       "       '300Nm@ 1600-4000rpm', '171.6Nm@ 1500-4000rpm',\n",
       "       '21.4@ 1,900(kgm@ rpm)', '190@ 21,800(kgm@ rpm)',\n",
       "       '5.7@ 2,500(kgm@ rpm)', '88.4Nm@ 4200rpm',\n",
       "       '250 Nm at 1,500-3,000 rpm', '340nm@ 1750-3000rpm',\n",
       "       '36.6@ 1,750-2,500(kgm@ rpm)', '12.5kgm@ 3500rpm',\n",
       "       '6.1@ 3,000(kgm@ rpm)', '110Nm@ 4000rpm', '350nm@ 1800-2600rpm',\n",
       "       '175nm@ 1500-4100rpm', '4.8kgm@ 3000rpm', '355Nm@ 4500rpm',\n",
       "       '51@ 1,750-3,000(kgm@ rpm)', '119Nm@ 4250rpm',\n",
       "       '410Nm@ 1600-2800rpm', '174Nm@ 4300rpm', '99.1Nm@ 4500rpm',\n",
       "       '385Nm@ 1600-2500rpm', '180 Nm at 2000rpm', '190 Nm at 1750 rpm',\n",
       "       '53@ 2,000-2,750(kgm@ rpm)', '360Nm@ 1400-2600rpm',\n",
       "       '420Nm@ 2000rpm', '124Nm@ 3500rpm', '17.5@ 4,300(kgm@ rpm)',\n",
       "       '360Nm@ 2000rpm', '145Nm@ 3750rpm', '85Nm@ 3500rpm',\n",
       "       '190Nm@ 4200rpm', '190 Nm at 2000rpm', '13.5@ 2500(kgm@ rpm)',\n",
       "       '250nm@ 1500-3000rpm', '159.8Nm@ 1500-2750rpm', '500Nm@ 2000rpm',\n",
       "       '333Nm@ 1600-3200rpm', '400nm@ 2800rpm',\n",
       "       '33@ 2,000-2,680(kgm@ rpm)', '10.2@ 2,600(kgm@ rpm)', '480Nm',\n",
       "       '190Nm@ 4300rpm', '320Nm@ 1800-2800rpm', '380Nm@ 1750rpm',\n",
       "       '250.06nm@ 1500-2750rpm', '90nm@ 3500rpm', '190Nm@ 3700rpm',\n",
       "       '436.4Nm@ 1800-2500rpm', '96  Nm at 3000  rpm '], dtype=object)"
      ]
     },
     "execution_count": 73,
     "metadata": {},
     "output_type": "execute_result"
    }
   ],
   "source": [
    "df['torque'].unique()"
   ]
  },
  {
   "cell_type": "code",
   "execution_count": 74,
   "id": "dddd5ff8-51c0-42f3-bf3a-0558289a03f2",
   "metadata": {},
   "outputs": [
    {
     "data": {
      "text/plain": [
       "count               7906\n",
       "unique               441\n",
       "top       190Nm@ 2000rpm\n",
       "freq                 530\n",
       "Name: torque, dtype: object"
      ]
     },
     "execution_count": 74,
     "metadata": {},
     "output_type": "execute_result"
    }
   ],
   "source": [
    "df['torque'].describe()"
   ]
  },
  {
   "cell_type": "markdown",
   "id": "7175c073-522e-4b89-a7a4-db859bec8dd9",
   "metadata": {},
   "source": [
    "# Observations:\n",
    "\n",
    "Based on the above, we can see that the data format in this column is not uniform and includes both numerical and text data types. It contains 3 different values: Nm for neuton meter, rpm for revolution per minute and kgm which is another unit of measurement equivalent to Nm. To handle this we will need to extract each value seperately into 2 different column nm/ kgm and rpm."
   ]
  },
  {
   "cell_type": "markdown",
   "id": "b60f1abf-c411-4a7a-87f3-35071521bb56",
   "metadata": {},
   "source": [
    "# 13. seats"
   ]
  },
  {
   "cell_type": "code",
   "execution_count": 78,
   "id": "79087af3-18f1-4ead-8769-2dc0cf62130d",
   "metadata": {},
   "outputs": [
    {
     "data": {
      "text/plain": [
       "count    7907.000000\n",
       "mean        5.416719\n",
       "std         0.959588\n",
       "min         2.000000\n",
       "25%         5.000000\n",
       "50%         5.000000\n",
       "75%         5.000000\n",
       "max        14.000000\n",
       "Name: seats, dtype: float64"
      ]
     },
     "execution_count": 78,
     "metadata": {},
     "output_type": "execute_result"
    }
   ],
   "source": [
    "df['seats'].describe()"
   ]
  },
  {
   "cell_type": "code",
   "execution_count": 79,
   "id": "1306fbc9-bb2d-4fa0-bb0e-f2bbb0ff3692",
   "metadata": {},
   "outputs": [
    {
     "data": {
      "text/plain": [
       "0    5.0\n",
       "Name: seats, dtype: float64"
      ]
     },
     "execution_count": 79,
     "metadata": {},
     "output_type": "execute_result"
    }
   ],
   "source": [
    "df['seats'].mode()"
   ]
  },
  {
   "cell_type": "markdown",
   "id": "187ded0e-37ea-4ba7-8b00-aea6b1f1cc83",
   "metadata": {},
   "source": [
    "# Observations:\n",
    "\n",
    "Based on the above we can see that the minimum number of seats in a car on this dataset is 2 and the maximum is 14. But most cars are 5 seats"
   ]
  },
  {
   "cell_type": "markdown",
   "id": "cbf751ee-ee05-47e6-8956-538177104737",
   "metadata": {},
   "source": [
    "# Column handling \n",
    "\n",
    "For the purposes of using multiple data analysis tools studied as part of the Kayfa scholarship in data science, I chose to perform this part of the data analysis process using PowerQuery. \n",
    "\n",
    "# name:\n",
    "I used the column split function with space as a delimeter. I then labeled the first of the split columns as a make, the second as a model, and removed the rest. The only make in the data where this did not work was 'Land Rover', but luckily there were only 4 rows, so I was able to handle them manually on Excel.\n",
    "\n",
    "# mileage, engine, and max_power: \n",
    "I used extract function to extract data before delimeter with space as a delimeter.\r\n",
    "\r\n",
    "\n",
    "# torque: \n",
    "The data in this column were not uniform, so I used the column split function with Digit to Non-Digit at the start and then handled each case individually. The data in this column were not uniform, so I used the column split function with Digit to Non-Digit at the start and then handled each case individually.\r\n",
    "\r\n",
    "Case 1- decimal numbers: because the data type is text, thnumerical e values after the delimeter were not split in the previous step. To solve this, I created a conditional column containing only the values begnining with a decimal poi. For the Nm/kgm column, that was enough, so I only needed to merge the two columns. For the rpm column, I needed to create custom columns to extract the values before the decimal point using Text.Length fucntion and merge them with the other column containing the values after the decimal point\n",
    ".\r\n",
    "\r\n",
    "Casetwo values given for rpm: I followed basically the same steps as before, except I use statistics to instead use the average of the two values in the new column. \n",
    "I finally merged all these split columns together in one column and labeled it rpm.d rpm.m.\n",
    "\n",
    "# country:\n",
    "I created another column based on my research to specify the country of origin of each make as an extra feature."
   ]
  },
  {
   "cell_type": "markdown",
   "id": "c5627619-d7e8-487f-a256-5b1cd485e2d6",
   "metadata": {},
   "source": [
    "# Importing the updated dataset"
   ]
  },
  {
   "cell_type": "code",
   "execution_count": 301,
   "id": "a30e6679-33a4-4434-9cab-8678ad8fb1d8",
   "metadata": {},
   "outputs": [],
   "source": [
    "updated_df = pd.read_csv('reg_cars_selling_updated.csv')"
   ]
  },
  {
   "cell_type": "code",
   "execution_count": 303,
   "id": "05d97f79-3468-4185-a76f-e49e62498c54",
   "metadata": {},
   "outputs": [
    {
     "data": {
      "text/html": [
       "<div>\n",
       "<style scoped>\n",
       "    .dataframe tbody tr th:only-of-type {\n",
       "        vertical-align: middle;\n",
       "    }\n",
       "\n",
       "    .dataframe tbody tr th {\n",
       "        vertical-align: top;\n",
       "    }\n",
       "\n",
       "    .dataframe thead th {\n",
       "        text-align: right;\n",
       "    }\n",
       "</style>\n",
       "<table border=\"1\" class=\"dataframe\">\n",
       "  <thead>\n",
       "    <tr style=\"text-align: right;\">\n",
       "      <th></th>\n",
       "      <th>make</th>\n",
       "      <th>model</th>\n",
       "      <th>year</th>\n",
       "      <th>selling_price</th>\n",
       "      <th>km_driven</th>\n",
       "      <th>fuel</th>\n",
       "      <th>seller_type</th>\n",
       "      <th>transmission</th>\n",
       "      <th>owner</th>\n",
       "      <th>mileage</th>\n",
       "      <th>engine</th>\n",
       "      <th>max_power</th>\n",
       "      <th>Nm/kgm</th>\n",
       "      <th>rpm</th>\n",
       "      <th>seats</th>\n",
       "      <th>country</th>\n",
       "    </tr>\n",
       "  </thead>\n",
       "  <tbody>\n",
       "    <tr>\n",
       "      <th>0</th>\n",
       "      <td>Maruti</td>\n",
       "      <td>Swift</td>\n",
       "      <td>2014</td>\n",
       "      <td>450000</td>\n",
       "      <td>145500</td>\n",
       "      <td>Diesel</td>\n",
       "      <td>Individual</td>\n",
       "      <td>Manual</td>\n",
       "      <td>First Owner</td>\n",
       "      <td>23.40</td>\n",
       "      <td>1248.0</td>\n",
       "      <td>74.00</td>\n",
       "      <td>190.0</td>\n",
       "      <td>2000.0</td>\n",
       "      <td>5.0</td>\n",
       "      <td>India</td>\n",
       "    </tr>\n",
       "    <tr>\n",
       "      <th>1</th>\n",
       "      <td>Skoda</td>\n",
       "      <td>Rapid</td>\n",
       "      <td>2014</td>\n",
       "      <td>370000</td>\n",
       "      <td>120000</td>\n",
       "      <td>Diesel</td>\n",
       "      <td>Individual</td>\n",
       "      <td>Manual</td>\n",
       "      <td>Second Owner</td>\n",
       "      <td>21.14</td>\n",
       "      <td>1498.0</td>\n",
       "      <td>103.52</td>\n",
       "      <td>250.0</td>\n",
       "      <td>2500.0</td>\n",
       "      <td>5.0</td>\n",
       "      <td>Czech Republic</td>\n",
       "    </tr>\n",
       "    <tr>\n",
       "      <th>2</th>\n",
       "      <td>Honda</td>\n",
       "      <td>City</td>\n",
       "      <td>2006</td>\n",
       "      <td>158000</td>\n",
       "      <td>140000</td>\n",
       "      <td>Petrol</td>\n",
       "      <td>Individual</td>\n",
       "      <td>Manual</td>\n",
       "      <td>Third Owner</td>\n",
       "      <td>17.70</td>\n",
       "      <td>1497.0</td>\n",
       "      <td>78.00</td>\n",
       "      <td>12.7</td>\n",
       "      <td>2700.0</td>\n",
       "      <td>5.0</td>\n",
       "      <td>Japan</td>\n",
       "    </tr>\n",
       "    <tr>\n",
       "      <th>3</th>\n",
       "      <td>Hyundai</td>\n",
       "      <td>i20</td>\n",
       "      <td>2010</td>\n",
       "      <td>225000</td>\n",
       "      <td>127000</td>\n",
       "      <td>Diesel</td>\n",
       "      <td>Individual</td>\n",
       "      <td>Manual</td>\n",
       "      <td>First Owner</td>\n",
       "      <td>23.00</td>\n",
       "      <td>1396.0</td>\n",
       "      <td>90.00</td>\n",
       "      <td>22.4</td>\n",
       "      <td>2250.0</td>\n",
       "      <td>5.0</td>\n",
       "      <td>South Korea</td>\n",
       "    </tr>\n",
       "    <tr>\n",
       "      <th>4</th>\n",
       "      <td>Maruti</td>\n",
       "      <td>Swift</td>\n",
       "      <td>2007</td>\n",
       "      <td>130000</td>\n",
       "      <td>120000</td>\n",
       "      <td>Petrol</td>\n",
       "      <td>Individual</td>\n",
       "      <td>Manual</td>\n",
       "      <td>First Owner</td>\n",
       "      <td>16.10</td>\n",
       "      <td>1298.0</td>\n",
       "      <td>88.20</td>\n",
       "      <td>11.5</td>\n",
       "      <td>4500.0</td>\n",
       "      <td>5.0</td>\n",
       "      <td>India</td>\n",
       "    </tr>\n",
       "  </tbody>\n",
       "</table>\n",
       "</div>"
      ],
      "text/plain": [
       "      make  model  year  selling_price  km_driven    fuel seller_type  \\\n",
       "0   Maruti  Swift  2014         450000     145500  Diesel  Individual   \n",
       "1    Skoda  Rapid  2014         370000     120000  Diesel  Individual   \n",
       "2    Honda   City  2006         158000     140000  Petrol  Individual   \n",
       "3  Hyundai    i20  2010         225000     127000  Diesel  Individual   \n",
       "4   Maruti  Swift  2007         130000     120000  Petrol  Individual   \n",
       "\n",
       "  transmission         owner  mileage  engine  max_power  Nm/kgm     rpm  \\\n",
       "0       Manual   First Owner    23.40  1248.0      74.00   190.0  2000.0   \n",
       "1       Manual  Second Owner    21.14  1498.0     103.52   250.0  2500.0   \n",
       "2       Manual   Third Owner    17.70  1497.0      78.00    12.7  2700.0   \n",
       "3       Manual   First Owner    23.00  1396.0      90.00    22.4  2250.0   \n",
       "4       Manual   First Owner    16.10  1298.0      88.20    11.5  4500.0   \n",
       "\n",
       "   seats         country  \n",
       "0    5.0           India  \n",
       "1    5.0  Czech Republic  \n",
       "2    5.0           Japan  \n",
       "3    5.0     South Korea  \n",
       "4    5.0           India  "
      ]
     },
     "execution_count": 303,
     "metadata": {},
     "output_type": "execute_result"
    }
   ],
   "source": [
    "updated_df.head()"
   ]
  },
  {
   "cell_type": "code",
   "execution_count": 305,
   "id": "7ef58a29-7da0-44ee-9dce-598a51d4b6f3",
   "metadata": {},
   "outputs": [
    {
     "name": "stdout",
     "output_type": "stream",
     "text": [
      "<class 'pandas.core.frame.DataFrame'>\n",
      "RangeIndex: 8128 entries, 0 to 8127\n",
      "Data columns (total 16 columns):\n",
      " #   Column         Non-Null Count  Dtype  \n",
      "---  ------         --------------  -----  \n",
      " 0   make           8128 non-null   object \n",
      " 1   model          8128 non-null   object \n",
      " 2   year           8128 non-null   int64  \n",
      " 3   selling_price  8128 non-null   int64  \n",
      " 4   km_driven      8128 non-null   int64  \n",
      " 5   fuel           8128 non-null   object \n",
      " 6   seller_type    8128 non-null   object \n",
      " 7   transmission   8128 non-null   object \n",
      " 8   owner          8128 non-null   object \n",
      " 9   mileage        7907 non-null   float64\n",
      " 10  engine         7907 non-null   float64\n",
      " 11  max_power      7912 non-null   float64\n",
      " 12  Nm/kgm         8128 non-null   float64\n",
      " 13  rpm            7870 non-null   float64\n",
      " 14  seats          7907 non-null   float64\n",
      " 15  country        8128 non-null   object \n",
      "dtypes: float64(6), int64(3), object(7)\n",
      "memory usage: 1016.1+ KB\n"
     ]
    }
   ],
   "source": [
    "updated_df.info()"
   ]
  },
  {
   "cell_type": "markdown",
   "id": "be85733b-e123-468a-8f29-acc70e1cd11d",
   "metadata": {},
   "source": [
    "# Handling missing values"
   ]
  },
  {
   "cell_type": "code",
   "execution_count": 308,
   "id": "95a458c7-a60e-4513-a397-2c774104d3d7",
   "metadata": {},
   "outputs": [
    {
     "data": {
      "text/plain": [
       "make               0\n",
       "model              0\n",
       "year               0\n",
       "selling_price      0\n",
       "km_driven          0\n",
       "fuel               0\n",
       "seller_type        0\n",
       "transmission       0\n",
       "owner              0\n",
       "mileage          221\n",
       "engine           221\n",
       "max_power        216\n",
       "Nm/kgm             0\n",
       "rpm              258\n",
       "seats            221\n",
       "country            0\n",
       "dtype: int64"
      ]
     },
     "execution_count": 308,
     "metadata": {},
     "output_type": "execute_result"
    }
   ],
   "source": [
    "updated_df.isnull().sum()"
   ]
  },
  {
   "cell_type": "markdown",
   "id": "440dd7fd-2a37-41be-b89e-2f658ad8916e",
   "metadata": {},
   "source": [
    "Filling missing values with mean "
   ]
  },
  {
   "cell_type": "code",
   "execution_count": 311,
   "id": "0dc5378a-8c0a-40dc-90ab-483c81711681",
   "metadata": {},
   "outputs": [],
   "source": [
    "updated_df.fillna({'mileage': updated_df['mileage'].mean()}, inplace=True)\n",
    "updated_df.fillna({'engine': updated_df['engine'].mean()}, inplace=True)\n",
    "updated_df.fillna({'max_power': updated_df['max_power'].mean()}, inplace=True)\n",
    "updated_df.fillna({'Nm/kgm': updated_df['Nm/kgm'].mean()}, inplace=True)\n",
    "updated_df.fillna({'rpm': updated_df['rpm'].mean()}, inplace=True)\n",
    "updated_df.fillna({'seats': updated_df['seats'].mean()}, inplace=True)"
   ]
  },
  {
   "cell_type": "code",
   "execution_count": 313,
   "id": "5b8e5263-ba33-47fc-a4ca-376f835c3eae",
   "metadata": {},
   "outputs": [
    {
     "data": {
      "text/plain": [
       "make             0\n",
       "model            0\n",
       "year             0\n",
       "selling_price    0\n",
       "km_driven        0\n",
       "fuel             0\n",
       "seller_type      0\n",
       "transmission     0\n",
       "owner            0\n",
       "mileage          0\n",
       "engine           0\n",
       "max_power        0\n",
       "Nm/kgm           0\n",
       "rpm              0\n",
       "seats            0\n",
       "country          0\n",
       "dtype: int64"
      ]
     },
     "execution_count": 313,
     "metadata": {},
     "output_type": "execute_result"
    }
   ],
   "source": [
    "updated_df.isnull().sum()"
   ]
  },
  {
   "cell_type": "markdown",
   "id": "7e31deaa-5e31-425f-8746-c459d1b9bc8c",
   "metadata": {},
   "source": [
    "# Handling duplicated values"
   ]
  },
  {
   "cell_type": "code",
   "execution_count": 316,
   "id": "eaf3cbe9-4cfa-4cdd-9f4a-f68dcdd6db9f",
   "metadata": {},
   "outputs": [
    {
     "data": {
      "text/plain": [
       "1221"
      ]
     },
     "execution_count": 316,
     "metadata": {},
     "output_type": "execute_result"
    }
   ],
   "source": [
    "updated_df.duplicated().sum()"
   ]
  },
  {
   "cell_type": "code",
   "execution_count": 443,
   "id": "901d36e5-6a4e-48ab-a3c8-934fb0a28c47",
   "metadata": {},
   "outputs": [],
   "source": [
    "updated_df[updated_df.duplicated(keep=False)].sort_values('make');"
   ]
  },
  {
   "cell_type": "markdown",
   "id": "26df3a77-298c-42a7-a286-3d75c0b84b81",
   "metadata": {},
   "source": [
    "Dropping duplicated values"
   ]
  },
  {
   "cell_type": "code",
   "execution_count": 320,
   "id": "e9162f70-9c77-42af-8fc4-fb4e4d1f6f5a",
   "metadata": {},
   "outputs": [],
   "source": [
    "updated_df= updated_df.drop_duplicates()"
   ]
  },
  {
   "cell_type": "code",
   "execution_count": 321,
   "id": "efce48f9-b171-4277-b7c9-b4752da6e336",
   "metadata": {},
   "outputs": [
    {
     "data": {
      "text/plain": [
       "0"
      ]
     },
     "execution_count": 321,
     "metadata": {},
     "output_type": "execute_result"
    }
   ],
   "source": [
    "updated_df.duplicated().sum()"
   ]
  },
  {
   "cell_type": "markdown",
   "id": "d817a370-4a4e-4e4c-bc39-0d7c0f1fa33a",
   "metadata": {},
   "source": [
    "# Handling outliers"
   ]
  },
  {
   "cell_type": "markdown",
   "id": "cc8580a3-313f-4abe-8c25-ed3da8b9682a",
   "metadata": {},
   "source": [
    "# Numerical data"
   ]
  },
  {
   "cell_type": "code",
   "execution_count": 324,
   "id": "5740eb2f-3505-4a5c-aaa9-c60366cb864e",
   "metadata": {},
   "outputs": [
    {
     "data": {
      "image/png": "[encoded data removed]",
      "text/plain": [
       "<Figure size 2000x1000 with 1 Axes>"
      ]
     },
     "metadata": {},
     "output_type": "display_data"
    }
   ],
   "source": [
    "updated_df.boxplot(figsize = (20,10))\n",
    "plt.show()"
   ]
  },
  {
   "cell_type": "markdown",
   "id": "50bbb173-93f4-4545-8c47-5c019fa7c6c8",
   "metadata": {},
   "source": [
    "# 1. Selling price"
   ]
  },
  {
   "cell_type": "code",
   "execution_count": 326,
   "id": "2855934e-258d-48b8-8bdc-7cdf1e623ac3",
   "metadata": {},
   "outputs": [
    {
     "data": {
      "text/plain": [
       "count    6.907000e+03\n",
       "mean     5.174456e+05\n",
       "std      5.203562e+05\n",
       "min      2.999900e+04\n",
       "25%      2.500000e+05\n",
       "50%      4.000000e+05\n",
       "75%      6.345000e+05\n",
       "max      1.000000e+07\n",
       "Name: selling_price, dtype: float64"
      ]
     },
     "execution_count": 326,
     "metadata": {},
     "output_type": "execute_result"
    }
   ],
   "source": [
    "price_statistics = updated_df['selling_price'].describe()\n",
    "price_statistics"
   ]
  },
  {
   "cell_type": "code",
   "execution_count": 327,
   "id": "4260e4d1-8e7c-4d92-8ef6-756cbf242b34",
   "metadata": {},
   "outputs": [],
   "source": [
    "Q1 = price_statistics['25%']\n",
    "Q3 = price_statistics['75%']\n",
    "IQR = Q3 - Q1\n",
    "lower_bound = Q1 - (1.5 * IQR)\n",
    "upper_bound = Q3 + (1.5 * IQR)"
   ]
  },
  {
   "cell_type": "markdown",
   "id": "89957548-c9b4-47e0-8979-93bccc6d8d3c",
   "metadata": {},
   "source": [
    "Removing selling price outliers using IQR"
   ]
  },
  {
   "cell_type": "code",
   "execution_count": 329,
   "id": "00494e18-d8f9-4f8d-9fd4-b34eec6b276c",
   "metadata": {},
   "outputs": [],
   "source": [
    "updated_df= updated_df[(updated_df['selling_price'] >= lower_bound) & (updated_df['selling_price'] <= upper_bound)]"
   ]
  },
  {
   "cell_type": "markdown",
   "id": "f75bac71-c2a3-4978-adcd-e2dcadc3b938",
   "metadata": {},
   "source": [
    "# 2. Kilometers driven"
   ]
  },
  {
   "cell_type": "code",
   "execution_count": 331,
   "id": "5ce412cc-7e2a-4a4d-a66d-c1a326a6bb4c",
   "metadata": {},
   "outputs": [
    {
     "data": {
      "text/plain": [
       "count    6.580000e+03\n",
       "mean     7.531601e+04\n",
       "std      5.899026e+04\n",
       "min      1.000000e+00\n",
       "25%      4.000000e+04\n",
       "50%      7.000000e+04\n",
       "75%      1.000000e+05\n",
       "max      2.360457e+06\n",
       "Name: km_driven, dtype: float64"
      ]
     },
     "execution_count": 331,
     "metadata": {},
     "output_type": "execute_result"
    }
   ],
   "source": [
    "km_statistics = updated_df['km_driven'].describe()\n",
    "km_statistics"
   ]
  },
  {
   "cell_type": "code",
   "execution_count": 340,
   "id": "c524d1f6-30f7-4da9-8206-44409c2ced13",
   "metadata": {},
   "outputs": [],
   "source": [
    "Q1_1 = km_statistics['25%']\n",
    "Q3_1 = km_statistics['75%']\n",
    "IQR_1 = Q3_1 - Q1_1\n",
    "lower_bound1 = Q1_1 - (1.5 * IQR_1)\n",
    "upper_bound1 = Q3_1 + (1.5 * IQR_1)"
   ]
  },
  {
   "cell_type": "markdown",
   "id": "f0b966b7-fe2e-4fa4-9e1c-b64230c08be6",
   "metadata": {},
   "source": [
    "Removing kilometer driven outliers using IQR"
   ]
  },
  {
   "cell_type": "code",
   "execution_count": 343,
   "id": "f9814e10-a3ba-43ba-a837-28cb499a3c42",
   "metadata": {},
   "outputs": [],
   "source": [
    "updated_df= updated_df[(updated_df['km_driven'] >= lower_bound1) & (updated_df['km_driven'] <= upper_bound1)]"
   ]
  },
  {
   "cell_type": "code",
   "execution_count": 345,
   "id": "2c60be76-3202-401e-b203-d3528888c2c5",
   "metadata": {},
   "outputs": [
    {
     "data": {
      "image/png": "[encoded data removed]",
      "text/plain": [
       "<Figure size 2000x1000 with 1 Axes>"
      ]
     },
     "metadata": {},
     "output_type": "display_data"
    }
   ],
   "source": [
    "updated_df.boxplot(figsize = (20,10))\n",
    "plt.show()"
   ]
  },
  {
   "cell_type": "markdown",
   "id": "a987a48e-dea2-4811-8821-ea90582fe947",
   "metadata": {},
   "source": [
    "# Categorical data"
   ]
  },
  {
   "cell_type": "markdown",
   "id": "c21424c6-d0f9-47a3-a39a-1c573d8e0501",
   "metadata": {},
   "source": [
    "# 1. make"
   ]
  },
  {
   "cell_type": "code",
   "execution_count": 348,
   "id": "6a6ee59c-db24-4dac-882f-189543bfa1c5",
   "metadata": {},
   "outputs": [
    {
     "data": {
      "text/plain": [
       "make\n",
       "Maruti           2140\n",
       "Hyundai          1238\n",
       "Mahindra          652\n",
       "Tata              611\n",
       "Honda             349\n",
       "Ford              347\n",
       "Toyota            220\n",
       "Chevrolet         206\n",
       "Renault           200\n",
       "Volkswagen        167\n",
       "Nissan             72\n",
       "Skoda              61\n",
       "Datsun             57\n",
       "Fiat               43\n",
       "BMW                15\n",
       "Mercedes-Benz      10\n",
       "Mitsubishi          6\n",
       "Force               4\n",
       "Audi                4\n",
       "Ambassador          4\n",
       "Daewoo              3\n",
       "Kia                 1\n",
       "Volvo               1\n",
       "Opel                1\n",
       "Peugeot             1\n",
       "Isuzu               1\n",
       "Name: count, dtype: int64"
      ]
     },
     "execution_count": 348,
     "metadata": {},
     "output_type": "execute_result"
    }
   ],
   "source": [
    "updated_df['make'].value_counts()"
   ]
  },
  {
   "cell_type": "markdown",
   "id": "82e96214-9345-4c7b-95d9-d85c56068aac",
   "metadata": {},
   "source": [
    "dropping makes were value count is less than 10 "
   ]
  },
  {
   "cell_type": "code",
   "execution_count": 352,
   "id": "b67ac2da-186b-4c39-9c65-deb93bbcf317",
   "metadata": {},
   "outputs": [],
   "source": [
    "updated_df = updated_df[updated_df.groupby('make').make.transform('count')>10]"
   ]
  },
  {
   "cell_type": "markdown",
   "id": "ded7ae40-0152-4b67-bda1-005f74f50fc5",
   "metadata": {},
   "source": [
    "# 2. model"
   ]
  },
  {
   "cell_type": "code",
   "execution_count": 355,
   "id": "b79c2dea-4973-4e7f-a66e-a33a84fbf337",
   "metadata": {},
   "outputs": [
    {
     "data": {
      "text/plain": [
       "model\n",
       "Swift        662\n",
       "Alto         388\n",
       "i20          297\n",
       "Wagon        240\n",
       "Bolero       176\n",
       "Verna        173\n",
       "City         163\n",
       "Grand        151\n",
       "Figo         150\n",
       "Indica       144\n",
       "Scorpio      143\n",
       "Ertiga       134\n",
       "i10          131\n",
       "Santro       124\n",
       "EON          123\n",
       "Indigo       112\n",
       "XUV500       102\n",
       "KWID          97\n",
       "Innova        95\n",
       "800           88\n",
       "Baleno        79\n",
       "Ritz          77\n",
       "Xcent         75\n",
       "Etios         75\n",
       "Vitara        74\n",
       "EcoSport      73\n",
       "Polo          71\n",
       "Duster        69\n",
       "Creta         65\n",
       "Tiago         65\n",
       "Amaze         62\n",
       "Beat          61\n",
       "Zen           60\n",
       "Celerio       59\n",
       "Ciaz          57\n",
       "Vento         55\n",
       "Fiesta        53\n",
       "Eeco          52\n",
       "TUV           51\n",
       "Omni          49\n",
       "Xylo          45\n",
       "KUV           44\n",
       "Manza         43\n",
       "Zest          42\n",
       "Spark         42\n",
       "SX4           42\n",
       "New           37\n",
       "GO            34\n",
       "Jazz          34\n",
       "Rapid         34\n",
       "Nexon         32\n",
       "Safari        31\n",
       "Elite         31\n",
       "Accent        30\n",
       "Tigor         26\n",
       "Corolla       26\n",
       "Sail          26\n",
       "Nano          25\n",
       "Sumo          25\n",
       "Ameo          25\n",
       "Micra         24\n",
       "RediGO        23\n",
       "Thar          22\n",
       "Terrano       22\n",
       "Sunny         22\n",
       "Verito        21\n",
       "WR-V          21\n",
       "Brio          21\n",
       "Enjoy         21\n",
       "Ignis         19\n",
       "Ecosport      19\n",
       "Tavera        17\n",
       "A-Star        17\n",
       "Grande        16\n",
       "S-Cross       16\n",
       "Cruze         14\n",
       "Linea         13\n",
       "Elantra       13\n",
       "Freestyle     13\n",
       "Getz          13\n",
       "Civic         12\n",
       "Optra         12\n",
       "Octavia       11\n",
       "Mobilio       11\n",
       "Esteem        11\n",
       "Endeavour     10\n",
       "Ikon          10\n",
       "Lodgy         10\n",
       "Fabia         10\n",
       "Pulse          8\n",
       "Bolt           8\n",
       "Classic        8\n",
       "Jetta          8\n",
       "Aspire         8\n",
       "Aveo           8\n",
       "Punto          7\n",
       "XUV300         7\n",
       "Accord         7\n",
       "Aria           7\n",
       "BRV            7\n",
       "Fortuner       7\n",
       "Quanto         7\n",
       "Marazzo        7\n",
       "Jeep           6\n",
       "Renault        6\n",
       "CR-V           6\n",
       "Triber         6\n",
       "Captiva        5\n",
       "Gypsy          5\n",
       "Hexa           5\n",
       "Passat         5\n",
       "Fluence        5\n",
       "3              5\n",
       "Platinum       5\n",
       "5              5\n",
       "Avventura      5\n",
       "Estilo         5\n",
       "BR-V           5\n",
       "Santa          5\n",
       "Venture        4\n",
       "NuvoSport      4\n",
       "Yaris          4\n",
       "Sonata         4\n",
       "Kicks          3\n",
       "Laura          3\n",
       "Dzire          3\n",
       "Fusion         3\n",
       "Logan          3\n",
       "Glanza         3\n",
       "Ssangyong      3\n",
       "Scala          3\n",
       "X1             3\n",
       "Superb         3\n",
       "Camry          2\n",
       "Supro          2\n",
       "Xenon          2\n",
       "Qualis         2\n",
       "CrossPolo      2\n",
       "Venue          2\n",
       "Palio          2\n",
       "XL6            2\n",
       "X5             1\n",
       "Spacio         1\n",
       "Tucson         1\n",
       "Winger         1\n",
       "Marshal        1\n",
       "Captur         1\n",
       "Koleos         1\n",
       "Estate         1\n",
       "GTI            1\n",
       "Premio         1\n",
       "7              1\n",
       "Willys         1\n",
       "Ingenio        1\n",
       "Teana          1\n",
       "S-Presso       1\n",
       "Name: count, dtype: int64"
      ]
     },
     "execution_count": 355,
     "metadata": {},
     "output_type": "execute_result"
    }
   ],
   "source": [
    "updated_df['model'].value_counts()"
   ]
  },
  {
   "cell_type": "markdown",
   "id": "cc41f978-c426-4c39-90db-fd9811e24b37",
   "metadata": {},
   "source": [
    " dropping models were value count is less than 10"
   ]
  },
  {
   "cell_type": "code",
   "execution_count": 358,
   "id": "f6e07b46-e2bc-4fd7-895f-726e0ab8380b",
   "metadata": {},
   "outputs": [],
   "source": [
    "updated_df = updated_df[updated_df.groupby('model').model.transform('count')>10]"
   ]
  },
  {
   "cell_type": "markdown",
   "id": "94a36f10-ced5-4ef3-9820-b9f3ae07c3cc",
   "metadata": {},
   "source": [
    "# Other columns"
   ]
  },
  {
   "cell_type": "code",
   "execution_count": 361,
   "id": "f67aa1e6-3fc8-4c8a-a026-4eb0e834786d",
   "metadata": {},
   "outputs": [
    {
     "data": {
      "text/plain": [
       "fuel\n",
       "Diesel    3093\n",
       "Petrol    2888\n",
       "CNG         55\n",
       "LPG         37\n",
       "Name: count, dtype: int64"
      ]
     },
     "execution_count": 361,
     "metadata": {},
     "output_type": "execute_result"
    }
   ],
   "source": [
    "updated_df['fuel'].value_counts()"
   ]
  },
  {
   "cell_type": "code",
   "execution_count": 363,
   "id": "c04b9e93-d980-4008-85a6-5fef663c9413",
   "metadata": {},
   "outputs": [
    {
     "data": {
      "text/plain": [
       "seller_type\n",
       "Individual          5538\n",
       "Dealer               513\n",
       "Trustmark Dealer      22\n",
       "Name: count, dtype: int64"
      ]
     },
     "execution_count": 363,
     "metadata": {},
     "output_type": "execute_result"
    }
   ],
   "source": [
    "updated_df['seller_type'].value_counts()"
   ]
  },
  {
   "cell_type": "code",
   "execution_count": 365,
   "id": "9b81ddcb-24f3-4a98-a2f4-683af7e0405d",
   "metadata": {},
   "outputs": [
    {
     "data": {
      "text/plain": [
       "transmission\n",
       "Manual       5764\n",
       "Automatic     309\n",
       "Name: count, dtype: int64"
      ]
     },
     "execution_count": 365,
     "metadata": {},
     "output_type": "execute_result"
    }
   ],
   "source": [
    "updated_df['transmission'].value_counts()"
   ]
  },
  {
   "cell_type": "code",
   "execution_count": 367,
   "id": "c14277dd-3e83-4fd6-9a24-ed71e0033283",
   "metadata": {},
   "outputs": [
    {
     "data": {
      "text/plain": [
       "owner\n",
       "First Owner             3712\n",
       "Second Owner            1736\n",
       "Third Owner              475\n",
       "Fourth & Above Owner     150\n",
       "Name: count, dtype: int64"
      ]
     },
     "execution_count": 367,
     "metadata": {},
     "output_type": "execute_result"
    }
   ],
   "source": [
    "updated_df['owner'].value_counts()"
   ]
  },
  {
   "cell_type": "markdown",
   "id": "d838c1d6-7a50-4b34-9293-945065acf7d6",
   "metadata": {},
   "source": [
    " keeping the rest of the columns as is"
   ]
  },
  {
   "cell_type": "code",
   "execution_count": 370,
   "id": "eb23db54-50ca-4eaa-904f-906b82754ab8",
   "metadata": {},
   "outputs": [],
   "source": [
    "updated_df = updated_df.reset_index(drop=True)"
   ]
  },
  {
   "cell_type": "code",
   "execution_count": 372,
   "id": "fb67bff1-1346-4d4d-9ec7-7751fc388bf4",
   "metadata": {},
   "outputs": [
    {
     "name": "stdout",
     "output_type": "stream",
     "text": [
      "<class 'pandas.core.frame.DataFrame'>\n",
      "RangeIndex: 6073 entries, 0 to 6072\n",
      "Data columns (total 16 columns):\n",
      " #   Column         Non-Null Count  Dtype  \n",
      "---  ------         --------------  -----  \n",
      " 0   make           6073 non-null   object \n",
      " 1   model          6073 non-null   object \n",
      " 2   year           6073 non-null   int64  \n",
      " 3   selling_price  6073 non-null   int64  \n",
      " 4   km_driven      6073 non-null   int64  \n",
      " 5   fuel           6073 non-null   object \n",
      " 6   seller_type    6073 non-null   object \n",
      " 7   transmission   6073 non-null   object \n",
      " 8   owner          6073 non-null   object \n",
      " 9   mileage        6073 non-null   float64\n",
      " 10  engine         6073 non-null   float64\n",
      " 11  max_power      6073 non-null   float64\n",
      " 12  Nm/kgm         6073 non-null   float64\n",
      " 13  rpm            6073 non-null   float64\n",
      " 14  seats          6073 non-null   float64\n",
      " 15  country        6073 non-null   object \n",
      "dtypes: float64(6), int64(3), object(7)\n",
      "memory usage: 759.3+ KB\n"
     ]
    }
   ],
   "source": [
    "updated_df.info()"
   ]
  },
  {
   "cell_type": "markdown",
   "id": "10e79fe5-1412-4921-93f2-3566a6f7ea50",
   "metadata": {},
   "source": [
    "# Notes:\n",
    "\n",
    "After handling missing values and dropping outliers, we can see that we have lost some of the data, but this should allow our machine learning algorithm to deliver better results later."
   ]
  },
  {
   "cell_type": "markdown",
   "id": "aedaa15b-dc2c-4a9f-b477-51cfe9203d8c",
   "metadata": {},
   "source": [
    "# Encoding categorical variables"
   ]
  },
  {
   "cell_type": "code",
   "execution_count": 376,
   "id": "6b41e85c-9bfe-44d6-b76d-bbb63cdd86d2",
   "metadata": {},
   "outputs": [],
   "source": [
    "encoder = LabelEncoder()"
   ]
  },
  {
   "cell_type": "code",
   "execution_count": 378,
   "id": "ac53b5f9-b6d7-44c3-aaca-801fbacb58b9",
   "metadata": {},
   "outputs": [],
   "source": [
    "updated_df['make_encoded'] = encoder.fit_transform(updated_df['make'])\n",
    "updated_df['model_encoded'] = encoder.fit_transform(updated_df['model'])\n",
    "updated_df['fuel_encoded'] = encoder.fit_transform(updated_df['fuel'])\n",
    "updated_df['seller_type_encoded'] = encoder.fit_transform(updated_df['seller_type'])\n",
    "updated_df['transmission_encoded'] = encoder.fit_transform(updated_df['transmission'])\n",
    "updated_df['owner_encoded'] = encoder.fit_transform(updated_df['owner'])\n",
    "updated_df['country_encoded'] = encoder.fit_transform(updated_df['country'])"
   ]
  },
  {
   "cell_type": "markdown",
   "id": "2636e408-a87f-4a28-96c5-b2cd3d4a3f88",
   "metadata": {},
   "source": [
    "using the drop duplicates so we can save the encoding values and use them later in the streamlit app"
   ]
  },
  {
   "cell_type": "code",
   "execution_count": 381,
   "id": "856dfab2-df74-48eb-b486-a4c0a97ac9cd",
   "metadata": {},
   "outputs": [
    {
     "data": {
      "text/html": [
       "<div>\n",
       "<style scoped>\n",
       "    .dataframe tbody tr th:only-of-type {\n",
       "        vertical-align: middle;\n",
       "    }\n",
       "\n",
       "    .dataframe tbody tr th {\n",
       "        vertical-align: top;\n",
       "    }\n",
       "\n",
       "    .dataframe thead th {\n",
       "        text-align: right;\n",
       "    }\n",
       "</style>\n",
       "<table border=\"1\" class=\"dataframe\">\n",
       "  <thead>\n",
       "    <tr style=\"text-align: right;\">\n",
       "      <th></th>\n",
       "      <th>make</th>\n",
       "      <th>make_encoded</th>\n",
       "    </tr>\n",
       "  </thead>\n",
       "  <tbody>\n",
       "    <tr>\n",
       "      <th>0</th>\n",
       "      <td>Maruti</td>\n",
       "      <td>7</td>\n",
       "    </tr>\n",
       "    <tr>\n",
       "      <th>1</th>\n",
       "      <td>Skoda</td>\n",
       "      <td>10</td>\n",
       "    </tr>\n",
       "    <tr>\n",
       "      <th>2</th>\n",
       "      <td>Honda</td>\n",
       "      <td>4</td>\n",
       "    </tr>\n",
       "    <tr>\n",
       "      <th>3</th>\n",
       "      <td>Hyundai</td>\n",
       "      <td>5</td>\n",
       "    </tr>\n",
       "    <tr>\n",
       "      <th>8</th>\n",
       "      <td>Toyota</td>\n",
       "      <td>12</td>\n",
       "    </tr>\n",
       "    <tr>\n",
       "      <th>9</th>\n",
       "      <td>Ford</td>\n",
       "      <td>3</td>\n",
       "    </tr>\n",
       "    <tr>\n",
       "      <th>10</th>\n",
       "      <td>Renault</td>\n",
       "      <td>9</td>\n",
       "    </tr>\n",
       "    <tr>\n",
       "      <th>15</th>\n",
       "      <td>Mahindra</td>\n",
       "      <td>6</td>\n",
       "    </tr>\n",
       "    <tr>\n",
       "      <th>24</th>\n",
       "      <td>Tata</td>\n",
       "      <td>11</td>\n",
       "    </tr>\n",
       "    <tr>\n",
       "      <th>27</th>\n",
       "      <td>Chevrolet</td>\n",
       "      <td>0</td>\n",
       "    </tr>\n",
       "    <tr>\n",
       "      <th>37</th>\n",
       "      <td>Datsun</td>\n",
       "      <td>1</td>\n",
       "    </tr>\n",
       "    <tr>\n",
       "      <th>57</th>\n",
       "      <td>Volkswagen</td>\n",
       "      <td>13</td>\n",
       "    </tr>\n",
       "    <tr>\n",
       "      <th>106</th>\n",
       "      <td>Nissan</td>\n",
       "      <td>8</td>\n",
       "    </tr>\n",
       "    <tr>\n",
       "      <th>529</th>\n",
       "      <td>Fiat</td>\n",
       "      <td>2</td>\n",
       "    </tr>\n",
       "  </tbody>\n",
       "</table>\n",
       "</div>"
      ],
      "text/plain": [
       "           make  make_encoded\n",
       "0        Maruti             7\n",
       "1         Skoda            10\n",
       "2         Honda             4\n",
       "3       Hyundai             5\n",
       "8        Toyota            12\n",
       "9          Ford             3\n",
       "10      Renault             9\n",
       "15     Mahindra             6\n",
       "24         Tata            11\n",
       "27    Chevrolet             0\n",
       "37       Datsun             1\n",
       "57   Volkswagen            13\n",
       "106      Nissan             8\n",
       "529        Fiat             2"
      ]
     },
     "execution_count": 381,
     "metadata": {},
     "output_type": "execute_result"
    }
   ],
   "source": [
    "updated_df[['make','make_encoded']].drop_duplicates()"
   ]
  },
  {
   "cell_type": "code",
   "execution_count": 383,
   "id": "4b26f90c-cd9f-4661-85eb-3bd366d04ce3",
   "metadata": {},
   "outputs": [
    {
     "data": {
      "text/html": [
       "<div>\n",
       "<style scoped>\n",
       "    .dataframe tbody tr th:only-of-type {\n",
       "        vertical-align: middle;\n",
       "    }\n",
       "\n",
       "    .dataframe tbody tr th {\n",
       "        vertical-align: top;\n",
       "    }\n",
       "\n",
       "    .dataframe thead th {\n",
       "        text-align: right;\n",
       "    }\n",
       "</style>\n",
       "<table border=\"1\" class=\"dataframe\">\n",
       "  <thead>\n",
       "    <tr style=\"text-align: right;\">\n",
       "      <th></th>\n",
       "      <th>model</th>\n",
       "      <th>model_encoded</th>\n",
       "    </tr>\n",
       "  </thead>\n",
       "  <tbody>\n",
       "    <tr>\n",
       "      <th>0</th>\n",
       "      <td>Swift</td>\n",
       "      <td>65</td>\n",
       "    </tr>\n",
       "    <tr>\n",
       "      <th>1</th>\n",
       "      <td>Rapid</td>\n",
       "      <td>53</td>\n",
       "    </tr>\n",
       "    <tr>\n",
       "      <th>2</th>\n",
       "      <td>City</td>\n",
       "      <td>12</td>\n",
       "    </tr>\n",
       "    <tr>\n",
       "      <th>3</th>\n",
       "      <td>i20</td>\n",
       "      <td>84</td>\n",
       "    </tr>\n",
       "    <tr>\n",
       "      <th>5</th>\n",
       "      <td>Xcent</td>\n",
       "      <td>79</td>\n",
       "    </tr>\n",
       "    <tr>\n",
       "      <th>6</th>\n",
       "      <td>Wagon</td>\n",
       "      <td>77</td>\n",
       "    </tr>\n",
       "    <tr>\n",
       "      <th>7</th>\n",
       "      <td>800</td>\n",
       "      <td>0</td>\n",
       "    </tr>\n",
       "    <tr>\n",
       "      <th>8</th>\n",
       "      <td>Etios</td>\n",
       "      <td>27</td>\n",
       "    </tr>\n",
       "    <tr>\n",
       "      <th>9</th>\n",
       "      <td>Figo</td>\n",
       "      <td>29</td>\n",
       "    </tr>\n",
       "    <tr>\n",
       "      <th>10</th>\n",
       "      <td>Duster</td>\n",
       "      <td>17</td>\n",
       "    </tr>\n",
       "    <tr>\n",
       "      <th>11</th>\n",
       "      <td>Zen</td>\n",
       "      <td>81</td>\n",
       "    </tr>\n",
       "    <tr>\n",
       "      <th>15</th>\n",
       "      <td>KUV</td>\n",
       "      <td>40</td>\n",
       "    </tr>\n",
       "    <tr>\n",
       "      <th>16</th>\n",
       "      <td>Ertiga</td>\n",
       "      <td>25</td>\n",
       "    </tr>\n",
       "    <tr>\n",
       "      <th>18</th>\n",
       "      <td>Alto</td>\n",
       "      <td>3</td>\n",
       "    </tr>\n",
       "    <tr>\n",
       "      <th>20</th>\n",
       "      <td>Verito</td>\n",
       "      <td>73</td>\n",
       "    </tr>\n",
       "    <tr>\n",
       "      <th>21</th>\n",
       "      <td>WR-V</td>\n",
       "      <td>76</td>\n",
       "    </tr>\n",
       "    <tr>\n",
       "      <th>23</th>\n",
       "      <td>SX4</td>\n",
       "      <td>57</td>\n",
       "    </tr>\n",
       "    <tr>\n",
       "      <th>24</th>\n",
       "      <td>Tigor</td>\n",
       "      <td>71</td>\n",
       "    </tr>\n",
       "    <tr>\n",
       "      <th>25</th>\n",
       "      <td>Baleno</td>\n",
       "      <td>6</td>\n",
       "    </tr>\n",
       "    <tr>\n",
       "      <th>27</th>\n",
       "      <td>Enjoy</td>\n",
       "      <td>24</td>\n",
       "    </tr>\n",
       "    <tr>\n",
       "      <th>29</th>\n",
       "      <td>Omni</td>\n",
       "      <td>50</td>\n",
       "    </tr>\n",
       "    <tr>\n",
       "      <th>30</th>\n",
       "      <td>Vitara</td>\n",
       "      <td>75</td>\n",
       "    </tr>\n",
       "    <tr>\n",
       "      <th>36</th>\n",
       "      <td>Verna</td>\n",
       "      <td>74</td>\n",
       "    </tr>\n",
       "    <tr>\n",
       "      <th>37</th>\n",
       "      <td>GO</td>\n",
       "      <td>31</td>\n",
       "    </tr>\n",
       "    <tr>\n",
       "      <th>38</th>\n",
       "      <td>Safari</td>\n",
       "      <td>58</td>\n",
       "    </tr>\n",
       "    <tr>\n",
       "      <th>45</th>\n",
       "      <td>Innova</td>\n",
       "      <td>38</td>\n",
       "    </tr>\n",
       "    <tr>\n",
       "      <th>46</th>\n",
       "      <td>Amaze</td>\n",
       "      <td>4</td>\n",
       "    </tr>\n",
       "    <tr>\n",
       "      <th>48</th>\n",
       "      <td>Ciaz</td>\n",
       "      <td>11</td>\n",
       "    </tr>\n",
       "    <tr>\n",
       "      <th>49</th>\n",
       "      <td>Jazz</td>\n",
       "      <td>39</td>\n",
       "    </tr>\n",
       "    <tr>\n",
       "      <th>51</th>\n",
       "      <td>Manza</td>\n",
       "      <td>43</td>\n",
       "    </tr>\n",
       "    <tr>\n",
       "      <th>52</th>\n",
       "      <td>i10</td>\n",
       "      <td>83</td>\n",
       "    </tr>\n",
       "    <tr>\n",
       "      <th>57</th>\n",
       "      <td>Ameo</td>\n",
       "      <td>5</td>\n",
       "    </tr>\n",
       "    <tr>\n",
       "      <th>67</th>\n",
       "      <td>Indica</td>\n",
       "      <td>36</td>\n",
       "    </tr>\n",
       "    <tr>\n",
       "      <th>68</th>\n",
       "      <td>Vento</td>\n",
       "      <td>72</td>\n",
       "    </tr>\n",
       "    <tr>\n",
       "      <th>70</th>\n",
       "      <td>EcoSport</td>\n",
       "      <td>19</td>\n",
       "    </tr>\n",
       "    <tr>\n",
       "      <th>71</th>\n",
       "      <td>Celerio</td>\n",
       "      <td>10</td>\n",
       "    </tr>\n",
       "    <tr>\n",
       "      <th>79</th>\n",
       "      <td>Polo</td>\n",
       "      <td>52</td>\n",
       "    </tr>\n",
       "    <tr>\n",
       "      <th>91</th>\n",
       "      <td>Eeco</td>\n",
       "      <td>21</td>\n",
       "    </tr>\n",
       "    <tr>\n",
       "      <th>93</th>\n",
       "      <td>Scorpio</td>\n",
       "      <td>61</td>\n",
       "    </tr>\n",
       "    <tr>\n",
       "      <th>94</th>\n",
       "      <td>Freestyle</td>\n",
       "      <td>30</td>\n",
       "    </tr>\n",
       "    <tr>\n",
       "      <th>97</th>\n",
       "      <td>Indigo</td>\n",
       "      <td>37</td>\n",
       "    </tr>\n",
       "    <tr>\n",
       "      <th>100</th>\n",
       "      <td>Corolla</td>\n",
       "      <td>14</td>\n",
       "    </tr>\n",
       "    <tr>\n",
       "      <th>106</th>\n",
       "      <td>Terrano</td>\n",
       "      <td>68</td>\n",
       "    </tr>\n",
       "    <tr>\n",
       "      <th>107</th>\n",
       "      <td>Creta</td>\n",
       "      <td>15</td>\n",
       "    </tr>\n",
       "    <tr>\n",
       "      <th>110</th>\n",
       "      <td>KWID</td>\n",
       "      <td>41</td>\n",
       "    </tr>\n",
       "    <tr>\n",
       "      <th>114</th>\n",
       "      <td>Santro</td>\n",
       "      <td>60</td>\n",
       "    </tr>\n",
       "    <tr>\n",
       "      <th>120</th>\n",
       "      <td>Elantra</td>\n",
       "      <td>22</td>\n",
       "    </tr>\n",
       "    <tr>\n",
       "      <th>121</th>\n",
       "      <td>Nexon</td>\n",
       "      <td>48</td>\n",
       "    </tr>\n",
       "    <tr>\n",
       "      <th>138</th>\n",
       "      <td>Ritz</td>\n",
       "      <td>55</td>\n",
       "    </tr>\n",
       "    <tr>\n",
       "      <th>139</th>\n",
       "      <td>Grand</td>\n",
       "      <td>33</td>\n",
       "    </tr>\n",
       "    <tr>\n",
       "      <th>147</th>\n",
       "      <td>Zest</td>\n",
       "      <td>82</td>\n",
       "    </tr>\n",
       "    <tr>\n",
       "      <th>153</th>\n",
       "      <td>Getz</td>\n",
       "      <td>32</td>\n",
       "    </tr>\n",
       "    <tr>\n",
       "      <th>154</th>\n",
       "      <td>Elite</td>\n",
       "      <td>23</td>\n",
       "    </tr>\n",
       "    <tr>\n",
       "      <th>160</th>\n",
       "      <td>Brio</td>\n",
       "      <td>9</td>\n",
       "    </tr>\n",
       "    <tr>\n",
       "      <th>186</th>\n",
       "      <td>Sunny</td>\n",
       "      <td>64</td>\n",
       "    </tr>\n",
       "    <tr>\n",
       "      <th>188</th>\n",
       "      <td>Micra</td>\n",
       "      <td>44</td>\n",
       "    </tr>\n",
       "    <tr>\n",
       "      <th>194</th>\n",
       "      <td>XUV500</td>\n",
       "      <td>78</td>\n",
       "    </tr>\n",
       "    <tr>\n",
       "      <th>197</th>\n",
       "      <td>Accent</td>\n",
       "      <td>2</td>\n",
       "    </tr>\n",
       "    <tr>\n",
       "      <th>211</th>\n",
       "      <td>Ignis</td>\n",
       "      <td>35</td>\n",
       "    </tr>\n",
       "    <tr>\n",
       "      <th>218</th>\n",
       "      <td>Tiago</td>\n",
       "      <td>70</td>\n",
       "    </tr>\n",
       "    <tr>\n",
       "      <th>223</th>\n",
       "      <td>Thar</td>\n",
       "      <td>69</td>\n",
       "    </tr>\n",
       "    <tr>\n",
       "      <th>228</th>\n",
       "      <td>Sumo</td>\n",
       "      <td>63</td>\n",
       "    </tr>\n",
       "    <tr>\n",
       "      <th>236</th>\n",
       "      <td>New</td>\n",
       "      <td>47</td>\n",
       "    </tr>\n",
       "    <tr>\n",
       "      <th>237</th>\n",
       "      <td>Bolero</td>\n",
       "      <td>8</td>\n",
       "    </tr>\n",
       "    <tr>\n",
       "      <th>255</th>\n",
       "      <td>Beat</td>\n",
       "      <td>7</td>\n",
       "    </tr>\n",
       "    <tr>\n",
       "      <th>283</th>\n",
       "      <td>A-Star</td>\n",
       "      <td>1</td>\n",
       "    </tr>\n",
       "    <tr>\n",
       "      <th>304</th>\n",
       "      <td>Nano</td>\n",
       "      <td>46</td>\n",
       "    </tr>\n",
       "    <tr>\n",
       "      <th>331</th>\n",
       "      <td>EON</td>\n",
       "      <td>18</td>\n",
       "    </tr>\n",
       "    <tr>\n",
       "      <th>364</th>\n",
       "      <td>RediGO</td>\n",
       "      <td>54</td>\n",
       "    </tr>\n",
       "    <tr>\n",
       "      <th>377</th>\n",
       "      <td>Fiesta</td>\n",
       "      <td>28</td>\n",
       "    </tr>\n",
       "    <tr>\n",
       "      <th>398</th>\n",
       "      <td>Civic</td>\n",
       "      <td>13</td>\n",
       "    </tr>\n",
       "    <tr>\n",
       "      <th>421</th>\n",
       "      <td>Sail</td>\n",
       "      <td>59</td>\n",
       "    </tr>\n",
       "    <tr>\n",
       "      <th>485</th>\n",
       "      <td>Ecosport</td>\n",
       "      <td>20</td>\n",
       "    </tr>\n",
       "    <tr>\n",
       "      <th>493</th>\n",
       "      <td>TUV</td>\n",
       "      <td>66</td>\n",
       "    </tr>\n",
       "    <tr>\n",
       "      <th>521</th>\n",
       "      <td>Xylo</td>\n",
       "      <td>80</td>\n",
       "    </tr>\n",
       "    <tr>\n",
       "      <th>529</th>\n",
       "      <td>Grande</td>\n",
       "      <td>34</td>\n",
       "    </tr>\n",
       "    <tr>\n",
       "      <th>532</th>\n",
       "      <td>S-Cross</td>\n",
       "      <td>56</td>\n",
       "    </tr>\n",
       "    <tr>\n",
       "      <th>568</th>\n",
       "      <td>Tavera</td>\n",
       "      <td>67</td>\n",
       "    </tr>\n",
       "    <tr>\n",
       "      <th>621</th>\n",
       "      <td>Linea</td>\n",
       "      <td>42</td>\n",
       "    </tr>\n",
       "    <tr>\n",
       "      <th>711</th>\n",
       "      <td>Esteem</td>\n",
       "      <td>26</td>\n",
       "    </tr>\n",
       "    <tr>\n",
       "      <th>737</th>\n",
       "      <td>Octavia</td>\n",
       "      <td>49</td>\n",
       "    </tr>\n",
       "    <tr>\n",
       "      <th>820</th>\n",
       "      <td>Spark</td>\n",
       "      <td>62</td>\n",
       "    </tr>\n",
       "    <tr>\n",
       "      <th>855</th>\n",
       "      <td>Optra</td>\n",
       "      <td>51</td>\n",
       "    </tr>\n",
       "    <tr>\n",
       "      <th>868</th>\n",
       "      <td>Mobilio</td>\n",
       "      <td>45</td>\n",
       "    </tr>\n",
       "    <tr>\n",
       "      <th>885</th>\n",
       "      <td>Cruze</td>\n",
       "      <td>16</td>\n",
       "    </tr>\n",
       "  </tbody>\n",
       "</table>\n",
       "</div>"
      ],
      "text/plain": [
       "         model  model_encoded\n",
       "0        Swift             65\n",
       "1        Rapid             53\n",
       "2         City             12\n",
       "3          i20             84\n",
       "5        Xcent             79\n",
       "6        Wagon             77\n",
       "7          800              0\n",
       "8        Etios             27\n",
       "9         Figo             29\n",
       "10      Duster             17\n",
       "11         Zen             81\n",
       "15         KUV             40\n",
       "16      Ertiga             25\n",
       "18        Alto              3\n",
       "20      Verito             73\n",
       "21        WR-V             76\n",
       "23         SX4             57\n",
       "24       Tigor             71\n",
       "25      Baleno              6\n",
       "27       Enjoy             24\n",
       "29        Omni             50\n",
       "30      Vitara             75\n",
       "36       Verna             74\n",
       "37          GO             31\n",
       "38      Safari             58\n",
       "45      Innova             38\n",
       "46       Amaze              4\n",
       "48        Ciaz             11\n",
       "49        Jazz             39\n",
       "51       Manza             43\n",
       "52         i10             83\n",
       "57        Ameo              5\n",
       "67      Indica             36\n",
       "68       Vento             72\n",
       "70    EcoSport             19\n",
       "71     Celerio             10\n",
       "79        Polo             52\n",
       "91        Eeco             21\n",
       "93     Scorpio             61\n",
       "94   Freestyle             30\n",
       "97      Indigo             37\n",
       "100    Corolla             14\n",
       "106    Terrano             68\n",
       "107      Creta             15\n",
       "110       KWID             41\n",
       "114     Santro             60\n",
       "120    Elantra             22\n",
       "121      Nexon             48\n",
       "138       Ritz             55\n",
       "139      Grand             33\n",
       "147       Zest             82\n",
       "153       Getz             32\n",
       "154      Elite             23\n",
       "160       Brio              9\n",
       "186      Sunny             64\n",
       "188      Micra             44\n",
       "194     XUV500             78\n",
       "197     Accent              2\n",
       "211      Ignis             35\n",
       "218      Tiago             70\n",
       "223       Thar             69\n",
       "228       Sumo             63\n",
       "236        New             47\n",
       "237     Bolero              8\n",
       "255       Beat              7\n",
       "283     A-Star              1\n",
       "304       Nano             46\n",
       "331        EON             18\n",
       "364     RediGO             54\n",
       "377     Fiesta             28\n",
       "398      Civic             13\n",
       "421       Sail             59\n",
       "485   Ecosport             20\n",
       "493        TUV             66\n",
       "521       Xylo             80\n",
       "529     Grande             34\n",
       "532    S-Cross             56\n",
       "568     Tavera             67\n",
       "621      Linea             42\n",
       "711     Esteem             26\n",
       "737    Octavia             49\n",
       "820      Spark             62\n",
       "855      Optra             51\n",
       "868    Mobilio             45\n",
       "885      Cruze             16"
      ]
     },
     "execution_count": 383,
     "metadata": {},
     "output_type": "execute_result"
    }
   ],
   "source": [
    "pd.set_option('display.max_rows', None)\n",
    "updated_df[['model','model_encoded']].drop_duplicates()"
   ]
  },
  {
   "cell_type": "code",
   "execution_count": 385,
   "id": "593665e7-419e-47de-bd9f-f6a5f77c6b37",
   "metadata": {},
   "outputs": [
    {
     "data": {
      "text/html": [
       "<div>\n",
       "<style scoped>\n",
       "    .dataframe tbody tr th:only-of-type {\n",
       "        vertical-align: middle;\n",
       "    }\n",
       "\n",
       "    .dataframe tbody tr th {\n",
       "        vertical-align: top;\n",
       "    }\n",
       "\n",
       "    .dataframe thead th {\n",
       "        text-align: right;\n",
       "    }\n",
       "</style>\n",
       "<table border=\"1\" class=\"dataframe\">\n",
       "  <thead>\n",
       "    <tr style=\"text-align: right;\">\n",
       "      <th></th>\n",
       "      <th>fuel</th>\n",
       "      <th>fuel_encoded</th>\n",
       "    </tr>\n",
       "  </thead>\n",
       "  <tbody>\n",
       "    <tr>\n",
       "      <th>0</th>\n",
       "      <td>Diesel</td>\n",
       "      <td>1</td>\n",
       "    </tr>\n",
       "    <tr>\n",
       "      <th>2</th>\n",
       "      <td>Petrol</td>\n",
       "      <td>3</td>\n",
       "    </tr>\n",
       "    <tr>\n",
       "      <th>6</th>\n",
       "      <td>LPG</td>\n",
       "      <td>2</td>\n",
       "    </tr>\n",
       "    <tr>\n",
       "      <th>34</th>\n",
       "      <td>CNG</td>\n",
       "      <td>0</td>\n",
       "    </tr>\n",
       "  </tbody>\n",
       "</table>\n",
       "</div>"
      ],
      "text/plain": [
       "      fuel  fuel_encoded\n",
       "0   Diesel             1\n",
       "2   Petrol             3\n",
       "6      LPG             2\n",
       "34     CNG             0"
      ]
     },
     "execution_count": 385,
     "metadata": {},
     "output_type": "execute_result"
    }
   ],
   "source": [
    "updated_df[['fuel','fuel_encoded']].drop_duplicates()"
   ]
  },
  {
   "cell_type": "code",
   "execution_count": 387,
   "id": "102598f1-3a96-4126-b5d0-87bee0349b74",
   "metadata": {},
   "outputs": [
    {
     "data": {
      "text/html": [
       "<div>\n",
       "<style scoped>\n",
       "    .dataframe tbody tr th:only-of-type {\n",
       "        vertical-align: middle;\n",
       "    }\n",
       "\n",
       "    .dataframe tbody tr th {\n",
       "        vertical-align: top;\n",
       "    }\n",
       "\n",
       "    .dataframe thead th {\n",
       "        text-align: right;\n",
       "    }\n",
       "</style>\n",
       "<table border=\"1\" class=\"dataframe\">\n",
       "  <thead>\n",
       "    <tr style=\"text-align: right;\">\n",
       "      <th></th>\n",
       "      <th>seller_type</th>\n",
       "      <th>seller_type_encoded</th>\n",
       "    </tr>\n",
       "  </thead>\n",
       "  <tbody>\n",
       "    <tr>\n",
       "      <th>0</th>\n",
       "      <td>Individual</td>\n",
       "      <td>1</td>\n",
       "    </tr>\n",
       "    <tr>\n",
       "      <th>40</th>\n",
       "      <td>Dealer</td>\n",
       "      <td>0</td>\n",
       "    </tr>\n",
       "    <tr>\n",
       "      <th>311</th>\n",
       "      <td>Trustmark Dealer</td>\n",
       "      <td>2</td>\n",
       "    </tr>\n",
       "  </tbody>\n",
       "</table>\n",
       "</div>"
      ],
      "text/plain": [
       "          seller_type  seller_type_encoded\n",
       "0          Individual                    1\n",
       "40             Dealer                    0\n",
       "311  Trustmark Dealer                    2"
      ]
     },
     "execution_count": 387,
     "metadata": {},
     "output_type": "execute_result"
    }
   ],
   "source": [
    "updated_df[['seller_type','seller_type_encoded']].drop_duplicates()"
   ]
  },
  {
   "cell_type": "code",
   "execution_count": 389,
   "id": "f041316d-3bee-4d54-88be-2e45305268f9",
   "metadata": {},
   "outputs": [
    {
     "data": {
      "text/html": [
       "<div>\n",
       "<style scoped>\n",
       "    .dataframe tbody tr th:only-of-type {\n",
       "        vertical-align: middle;\n",
       "    }\n",
       "\n",
       "    .dataframe tbody tr th {\n",
       "        vertical-align: top;\n",
       "    }\n",
       "\n",
       "    .dataframe thead th {\n",
       "        text-align: right;\n",
       "    }\n",
       "</style>\n",
       "<table border=\"1\" class=\"dataframe\">\n",
       "  <thead>\n",
       "    <tr style=\"text-align: right;\">\n",
       "      <th></th>\n",
       "      <th>seller_type</th>\n",
       "      <th>seller_type_encoded</th>\n",
       "    </tr>\n",
       "  </thead>\n",
       "  <tbody>\n",
       "    <tr>\n",
       "      <th>0</th>\n",
       "      <td>Individual</td>\n",
       "      <td>1</td>\n",
       "    </tr>\n",
       "    <tr>\n",
       "      <th>40</th>\n",
       "      <td>Dealer</td>\n",
       "      <td>0</td>\n",
       "    </tr>\n",
       "    <tr>\n",
       "      <th>311</th>\n",
       "      <td>Trustmark Dealer</td>\n",
       "      <td>2</td>\n",
       "    </tr>\n",
       "  </tbody>\n",
       "</table>\n",
       "</div>"
      ],
      "text/plain": [
       "          seller_type  seller_type_encoded\n",
       "0          Individual                    1\n",
       "40             Dealer                    0\n",
       "311  Trustmark Dealer                    2"
      ]
     },
     "execution_count": 389,
     "metadata": {},
     "output_type": "execute_result"
    }
   ],
   "source": [
    "updated_df[['seller_type','seller_type_encoded']].drop_duplicates()"
   ]
  },
  {
   "cell_type": "code",
   "execution_count": 391,
   "id": "a8014118-03fa-4f43-972b-1121660c6bed",
   "metadata": {},
   "outputs": [
    {
     "data": {
      "text/html": [
       "<div>\n",
       "<style scoped>\n",
       "    .dataframe tbody tr th:only-of-type {\n",
       "        vertical-align: middle;\n",
       "    }\n",
       "\n",
       "    .dataframe tbody tr th {\n",
       "        vertical-align: top;\n",
       "    }\n",
       "\n",
       "    .dataframe thead th {\n",
       "        text-align: right;\n",
       "    }\n",
       "</style>\n",
       "<table border=\"1\" class=\"dataframe\">\n",
       "  <thead>\n",
       "    <tr style=\"text-align: right;\">\n",
       "      <th></th>\n",
       "      <th>owner</th>\n",
       "      <th>owner_encoded</th>\n",
       "    </tr>\n",
       "  </thead>\n",
       "  <tbody>\n",
       "    <tr>\n",
       "      <th>0</th>\n",
       "      <td>First Owner</td>\n",
       "      <td>0</td>\n",
       "    </tr>\n",
       "    <tr>\n",
       "      <th>1</th>\n",
       "      <td>Second Owner</td>\n",
       "      <td>2</td>\n",
       "    </tr>\n",
       "    <tr>\n",
       "      <th>2</th>\n",
       "      <td>Third Owner</td>\n",
       "      <td>3</td>\n",
       "    </tr>\n",
       "    <tr>\n",
       "      <th>109</th>\n",
       "      <td>Fourth &amp; Above Owner</td>\n",
       "      <td>1</td>\n",
       "    </tr>\n",
       "  </tbody>\n",
       "</table>\n",
       "</div>"
      ],
      "text/plain": [
       "                    owner  owner_encoded\n",
       "0             First Owner              0\n",
       "1            Second Owner              2\n",
       "2             Third Owner              3\n",
       "109  Fourth & Above Owner              1"
      ]
     },
     "execution_count": 391,
     "metadata": {},
     "output_type": "execute_result"
    }
   ],
   "source": [
    "updated_df[['owner','owner_encoded']].drop_duplicates()"
   ]
  },
  {
   "cell_type": "code",
   "execution_count": 393,
   "id": "dcecef4f-773d-4477-9ecd-09babcdf4ebb",
   "metadata": {},
   "outputs": [
    {
     "data": {
      "text/html": [
       "<div>\n",
       "<style scoped>\n",
       "    .dataframe tbody tr th:only-of-type {\n",
       "        vertical-align: middle;\n",
       "    }\n",
       "\n",
       "    .dataframe tbody tr th {\n",
       "        vertical-align: top;\n",
       "    }\n",
       "\n",
       "    .dataframe thead th {\n",
       "        text-align: right;\n",
       "    }\n",
       "</style>\n",
       "<table border=\"1\" class=\"dataframe\">\n",
       "  <thead>\n",
       "    <tr style=\"text-align: right;\">\n",
       "      <th></th>\n",
       "      <th>country</th>\n",
       "      <th>country_encoded</th>\n",
       "    </tr>\n",
       "  </thead>\n",
       "  <tbody>\n",
       "    <tr>\n",
       "      <th>0</th>\n",
       "      <td>India</td>\n",
       "      <td>3</td>\n",
       "    </tr>\n",
       "    <tr>\n",
       "      <th>1</th>\n",
       "      <td>Czech Republic</td>\n",
       "      <td>0</td>\n",
       "    </tr>\n",
       "    <tr>\n",
       "      <th>2</th>\n",
       "      <td>Japan</td>\n",
       "      <td>5</td>\n",
       "    </tr>\n",
       "    <tr>\n",
       "      <th>3</th>\n",
       "      <td>South Korea</td>\n",
       "      <td>6</td>\n",
       "    </tr>\n",
       "    <tr>\n",
       "      <th>9</th>\n",
       "      <td>United States</td>\n",
       "      <td>7</td>\n",
       "    </tr>\n",
       "    <tr>\n",
       "      <th>10</th>\n",
       "      <td>France</td>\n",
       "      <td>1</td>\n",
       "    </tr>\n",
       "    <tr>\n",
       "      <th>57</th>\n",
       "      <td>Germany</td>\n",
       "      <td>2</td>\n",
       "    </tr>\n",
       "    <tr>\n",
       "      <th>529</th>\n",
       "      <td>Italy</td>\n",
       "      <td>4</td>\n",
       "    </tr>\n",
       "  </tbody>\n",
       "</table>\n",
       "</div>"
      ],
      "text/plain": [
       "            country  country_encoded\n",
       "0             India                3\n",
       "1    Czech Republic                0\n",
       "2             Japan                5\n",
       "3       South Korea                6\n",
       "9     United States                7\n",
       "10           France                1\n",
       "57          Germany                2\n",
       "529           Italy                4"
      ]
     },
     "execution_count": 393,
     "metadata": {},
     "output_type": "execute_result"
    }
   ],
   "source": [
    "updated_df[['country','country_encoded']].drop_duplicates()"
   ]
  },
  {
   "cell_type": "markdown",
   "id": "3bd9ee23-58a9-4922-a21e-c336c6c8d48a",
   "metadata": {},
   "source": [
    "# Creating a new data frame with the encoded values "
   ]
  },
  {
   "cell_type": "code",
   "execution_count": 396,
   "id": "7ed9ca83-1a07-4eec-8eeb-3a2276ff8276",
   "metadata": {},
   "outputs": [],
   "source": [
    "df_encoded = updated_df.drop(['make','model','fuel','seller_type','transmission', 'owner', 'country'],axis=1)"
   ]
  },
  {
   "cell_type": "code",
   "execution_count": 398,
   "id": "04cb62ae-075f-4454-b509-fe089873c220",
   "metadata": {},
   "outputs": [
    {
     "data": {
      "text/html": [
       "<div>\n",
       "<style scoped>\n",
       "    .dataframe tbody tr th:only-of-type {\n",
       "        vertical-align: middle;\n",
       "    }\n",
       "\n",
       "    .dataframe tbody tr th {\n",
       "        vertical-align: top;\n",
       "    }\n",
       "\n",
       "    .dataframe thead th {\n",
       "        text-align: right;\n",
       "    }\n",
       "</style>\n",
       "<table border=\"1\" class=\"dataframe\">\n",
       "  <thead>\n",
       "    <tr style=\"text-align: right;\">\n",
       "      <th></th>\n",
       "      <th>year</th>\n",
       "      <th>selling_price</th>\n",
       "      <th>km_driven</th>\n",
       "      <th>mileage</th>\n",
       "      <th>engine</th>\n",
       "      <th>max_power</th>\n",
       "      <th>Nm/kgm</th>\n",
       "      <th>rpm</th>\n",
       "      <th>seats</th>\n",
       "      <th>make_encoded</th>\n",
       "      <th>model_encoded</th>\n",
       "      <th>fuel_encoded</th>\n",
       "      <th>seller_type_encoded</th>\n",
       "      <th>transmission_encoded</th>\n",
       "      <th>owner_encoded</th>\n",
       "      <th>country_encoded</th>\n",
       "    </tr>\n",
       "  </thead>\n",
       "  <tbody>\n",
       "    <tr>\n",
       "      <th>0</th>\n",
       "      <td>2014</td>\n",
       "      <td>450000</td>\n",
       "      <td>145500</td>\n",
       "      <td>23.40</td>\n",
       "      <td>1248.0</td>\n",
       "      <td>74.00</td>\n",
       "      <td>190.0</td>\n",
       "      <td>2000.0</td>\n",
       "      <td>5.0</td>\n",
       "      <td>7</td>\n",
       "      <td>65</td>\n",
       "      <td>1</td>\n",
       "      <td>1</td>\n",
       "      <td>1</td>\n",
       "      <td>0</td>\n",
       "      <td>3</td>\n",
       "    </tr>\n",
       "    <tr>\n",
       "      <th>1</th>\n",
       "      <td>2014</td>\n",
       "      <td>370000</td>\n",
       "      <td>120000</td>\n",
       "      <td>21.14</td>\n",
       "      <td>1498.0</td>\n",
       "      <td>103.52</td>\n",
       "      <td>250.0</td>\n",
       "      <td>2500.0</td>\n",
       "      <td>5.0</td>\n",
       "      <td>10</td>\n",
       "      <td>53</td>\n",
       "      <td>1</td>\n",
       "      <td>1</td>\n",
       "      <td>1</td>\n",
       "      <td>2</td>\n",
       "      <td>0</td>\n",
       "    </tr>\n",
       "    <tr>\n",
       "      <th>2</th>\n",
       "      <td>2006</td>\n",
       "      <td>158000</td>\n",
       "      <td>140000</td>\n",
       "      <td>17.70</td>\n",
       "      <td>1497.0</td>\n",
       "      <td>78.00</td>\n",
       "      <td>12.7</td>\n",
       "      <td>2700.0</td>\n",
       "      <td>5.0</td>\n",
       "      <td>4</td>\n",
       "      <td>12</td>\n",
       "      <td>3</td>\n",
       "      <td>1</td>\n",
       "      <td>1</td>\n",
       "      <td>3</td>\n",
       "      <td>5</td>\n",
       "    </tr>\n",
       "    <tr>\n",
       "      <th>3</th>\n",
       "      <td>2010</td>\n",
       "      <td>225000</td>\n",
       "      <td>127000</td>\n",
       "      <td>23.00</td>\n",
       "      <td>1396.0</td>\n",
       "      <td>90.00</td>\n",
       "      <td>22.4</td>\n",
       "      <td>2250.0</td>\n",
       "      <td>5.0</td>\n",
       "      <td>5</td>\n",
       "      <td>84</td>\n",
       "      <td>1</td>\n",
       "      <td>1</td>\n",
       "      <td>1</td>\n",
       "      <td>0</td>\n",
       "      <td>6</td>\n",
       "    </tr>\n",
       "    <tr>\n",
       "      <th>4</th>\n",
       "      <td>2007</td>\n",
       "      <td>130000</td>\n",
       "      <td>120000</td>\n",
       "      <td>16.10</td>\n",
       "      <td>1298.0</td>\n",
       "      <td>88.20</td>\n",
       "      <td>11.5</td>\n",
       "      <td>4500.0</td>\n",
       "      <td>5.0</td>\n",
       "      <td>7</td>\n",
       "      <td>65</td>\n",
       "      <td>3</td>\n",
       "      <td>1</td>\n",
       "      <td>1</td>\n",
       "      <td>0</td>\n",
       "      <td>3</td>\n",
       "    </tr>\n",
       "  </tbody>\n",
       "</table>\n",
       "</div>"
      ],
      "text/plain": [
       "   year  selling_price  km_driven  mileage  engine  max_power  Nm/kgm     rpm  \\\n",
       "0  2014         450000     145500    23.40  1248.0      74.00   190.0  2000.0   \n",
       "1  2014         370000     120000    21.14  1498.0     103.52   250.0  2500.0   \n",
       "2  2006         158000     140000    17.70  1497.0      78.00    12.7  2700.0   \n",
       "3  2010         225000     127000    23.00  1396.0      90.00    22.4  2250.0   \n",
       "4  2007         130000     120000    16.10  1298.0      88.20    11.5  4500.0   \n",
       "\n",
       "   seats  make_encoded  model_encoded  fuel_encoded  seller_type_encoded  \\\n",
       "0    5.0             7             65             1                    1   \n",
       "1    5.0            10             53             1                    1   \n",
       "2    5.0             4             12             3                    1   \n",
       "3    5.0             5             84             1                    1   \n",
       "4    5.0             7             65             3                    1   \n",
       "\n",
       "   transmission_encoded  owner_encoded  country_encoded  \n",
       "0                     1              0                3  \n",
       "1                     1              2                0  \n",
       "2                     1              3                5  \n",
       "3                     1              0                6  \n",
       "4                     1              0                3  "
      ]
     },
     "execution_count": 398,
     "metadata": {},
     "output_type": "execute_result"
    }
   ],
   "source": [
    "df_encoded.head()"
   ]
  },
  {
   "cell_type": "markdown",
   "id": "16b11f0e-3b17-4788-a08d-bd2af2bbdf17",
   "metadata": {},
   "source": [
    "# Splitting features and target variable\n",
    "\n",
    "we will use different scalers for features and target data"
   ]
  },
  {
   "cell_type": "code",
   "execution_count": 401,
   "id": "ff5d7a62-05d7-4a41-8ee6-7252715b2e5c",
   "metadata": {},
   "outputs": [],
   "source": [
    "x= df_encoded.drop(['selling_price'], axis= 1)\n",
    "y= df_encoded['selling_price']"
   ]
  },
  {
   "cell_type": "markdown",
   "id": "e5e72dc4-f2e5-4dec-aaf7-26791200fddf",
   "metadata": {},
   "source": [
    "# Scaling data"
   ]
  },
  {
   "cell_type": "code",
   "execution_count": 404,
   "id": "833994d1-3e13-4036-8127-c05370bb6593",
   "metadata": {},
   "outputs": [],
   "source": [
    "Scaler = StandardScaler()\n",
    "Target_scaler = StandardScaler()"
   ]
  },
  {
   "cell_type": "code",
   "execution_count": 406,
   "id": "8831e198-b3f9-4433-9040-65e9b8165e9d",
   "metadata": {},
   "outputs": [
    {
     "data": {
      "text/plain": [
       "array([[ 0.14551043,  1.91403346,  0.91633208, ...,  0.23153532,\n",
       "        -0.76459405, -0.64411859],\n",
       "       [ 0.14551043,  1.2676823 ,  0.32141722, ...,  0.23153532,\n",
       "         1.07546129, -2.48262659],\n",
       "       [-1.87491786,  1.77462438, -0.58411691, ...,  0.23153532,\n",
       "         1.99548896,  0.58155341],\n",
       "       ...,\n",
       "       [-0.10704311,  1.01421125, -0.37352758, ...,  0.23153532,\n",
       "        -0.76459405,  1.19438941],\n",
       "       [-1.62236432,  1.24233519, -0.82102991, ...,  0.23153532,\n",
       "         0.15543362,  1.19438941],\n",
       "       [-1.11725725,  1.2676823 , -0.16293825, ...,  0.23153532,\n",
       "        -0.76459405, -0.64411859]])"
      ]
     },
     "execution_count": 406,
     "metadata": {},
     "output_type": "execute_result"
    }
   ],
   "source": [
    "x_scaled = Scaler.fit_transform(x)\n",
    "x_scaled"
   ]
  },
  {
   "cell_type": "code",
   "execution_count": 408,
   "id": "3c7388b0-3bea-4432-a934-e1099af46ccf",
   "metadata": {},
   "outputs": [
    {
     "data": {
      "text/plain": [
       "array([[ 0.09019654],\n",
       "       [-0.2385333 ],\n",
       "       [-1.10966737],\n",
       "       ...,\n",
       "       [-0.44398945],\n",
       "       [-1.20417719],\n",
       "       [-0.18922382]])"
      ]
     },
     "execution_count": 408,
     "metadata": {},
     "output_type": "execute_result"
    }
   ],
   "source": [
    "y_scaled = Target_scaler.fit_transform(y.values.reshape(-1,1))\n",
    "y_scaled"
   ]
  },
  {
   "cell_type": "markdown",
   "id": "0bf847a9-ba4b-4555-82b5-442ea569b2bd",
   "metadata": {},
   "source": [
    "saving scalers for later use in the streamlit app"
   ]
  },
  {
   "cell_type": "code",
   "execution_count": 411,
   "id": "b897dd78-491c-4f04-bd07-40d7a35d7df5",
   "metadata": {},
   "outputs": [
    {
     "data": {
      "text/plain": [
       "['Target_scaler.pkl']"
      ]
     },
     "execution_count": 411,
     "metadata": {},
     "output_type": "execute_result"
    }
   ],
   "source": [
    "joblib.dump(Scaler, 'Scaler.pkl')\n",
    "joblib.dump(Target_scaler, 'Target_scaler.pkl')"
   ]
  },
  {
   "cell_type": "markdown",
   "id": "c0caa3b5-752b-4748-8ccc-a541185f4f64",
   "metadata": {},
   "source": [
    "# Splitting training and test data"
   ]
  },
  {
   "cell_type": "code",
   "execution_count": 414,
   "id": "3fb558f4-ae15-4061-b9d9-8a3becd53adb",
   "metadata": {},
   "outputs": [],
   "source": [
    "x_train, x_test, y_train, y_test = train_test_split(x_scaled,y_scaled,test_size=0.2,random_state=42)"
   ]
  },
  {
   "cell_type": "markdown",
   "id": "718dc11e-1307-4844-bbf1-37cd88967a9f",
   "metadata": {},
   "source": [
    "# Building models pipeline"
   ]
  },
  {
   "cell_type": "code",
   "execution_count": 417,
   "id": "2a7bf611-7e6d-45a6-9053-0ac0aa27a250",
   "metadata": {},
   "outputs": [],
   "source": [
    "linear_reg = LinearRegression()\n",
    "svr = SVR()\n",
    "random_forest = RandomForestRegressor()"
   ]
  },
  {
   "cell_type": "code",
   "execution_count": 419,
   "id": "b7e30284-7a5e-43be-b4c8-d76f867d5330",
   "metadata": {},
   "outputs": [],
   "source": [
    "param1 = {}\n",
    "param1['regressor'] = [linear_reg]\n",
    "\n",
    "param2 = {}\n",
    "param2['regressor__C'] = [10**-2, 10**-1, 10**0, 10**1, 10**2]\n",
    "param2['regressor'] = [svr]\n",
    "\n",
    "param3 = {}\n",
    "param3['regressor__n_estimators'] = [50, 100, 200, 500]\n",
    "param3['regressor__max_depth'] = [5, 10, 20]\n",
    "param3['regressor'] = [random_forest]"
   ]
  },
  {
   "cell_type": "code",
   "execution_count": 421,
   "id": "3d25420a-7a4f-4b88-83f6-1cf372e2cf9d",
   "metadata": {},
   "outputs": [],
   "source": [
    "pipeline = Pipeline([('regressor', linear_reg)])\n",
    "params = [param1, param2, param3]"
   ]
  },
  {
   "cell_type": "code",
   "execution_count": 423,
   "id": "e26f0b53-4d57-45b0-8061-537a7a780ef5",
   "metadata": {},
   "outputs": [],
   "source": [
    "grid = GridSearchCV(pipeline, params, cv=3, scoring='r2')"
   ]
  },
  {
   "cell_type": "code",
   "execution_count": 425,
   "id": "06f950bc-b7e7-4f2c-8789-0fbb775fafec",
   "metadata": {},
   "outputs": [
    {
     "name": "stderr",
     "output_type": "stream",
     "text": [
      "C:\\Users\\Dell\\anaconda3\\Lib\\site-packages\\sklearn\\utils\\validation.py:1300: DataConversionWarning: A column-vector y was passed when a 1d array was expected. Please change the shape of y to (n_samples, ), for example using ravel().\n",
      "  y = column_or_1d(y, warn=True)\n",
      "C:\\Users\\Dell\\anaconda3\\Lib\\site-packages\\sklearn\\utils\\validation.py:1300: DataConversionWarning: A column-vector y was passed when a 1d array was expected. Please change the shape of y to (n_samples, ), for example using ravel().\n",
      "  y = column_or_1d(y, warn=True)\n",
      "C:\\Users\\Dell\\anaconda3\\Lib\\site-packages\\sklearn\\utils\\validation.py:1300: DataConversionWarning: A column-vector y was passed when a 1d array was expected. Please change the shape of y to (n_samples, ), for example using ravel().\n",
      "  y = column_or_1d(y, warn=True)\n",
      "C:\\Users\\Dell\\anaconda3\\Lib\\site-packages\\sklearn\\utils\\validation.py:1300: DataConversionWarning: A column-vector y was passed when a 1d array was expected. Please change the shape of y to (n_samples, ), for example using ravel().\n",
      "  y = column_or_1d(y, warn=True)\n",
      "C:\\Users\\Dell\\anaconda3\\Lib\\site-packages\\sklearn\\utils\\validation.py:1300: DataConversionWarning: A column-vector y was passed when a 1d array was expected. Please change the shape of y to (n_samples, ), for example using ravel().\n",
      "  y = column_or_1d(y, warn=True)\n",
      "C:\\Users\\Dell\\anaconda3\\Lib\\site-packages\\sklearn\\utils\\validation.py:1300: DataConversionWarning: A column-vector y was passed when a 1d array was expected. Please change the shape of y to (n_samples, ), for example using ravel().\n",
      "  y = column_or_1d(y, warn=True)\n",
      "C:\\Users\\Dell\\anaconda3\\Lib\\site-packages\\sklearn\\utils\\validation.py:1300: DataConversionWarning: A column-vector y was passed when a 1d array was expected. Please change the shape of y to (n_samples, ), for example using ravel().\n",
      "  y = column_or_1d(y, warn=True)\n",
      "C:\\Users\\Dell\\anaconda3\\Lib\\site-packages\\sklearn\\utils\\validation.py:1300: DataConversionWarning: A column-vector y was passed when a 1d array was expected. Please change the shape of y to (n_samples, ), for example using ravel().\n",
      "  y = column_or_1d(y, warn=True)\n",
      "C:\\Users\\Dell\\anaconda3\\Lib\\site-packages\\sklearn\\utils\\validation.py:1300: DataConversionWarning: A column-vector y was passed when a 1d array was expected. Please change the shape of y to (n_samples, ), for example using ravel().\n",
      "  y = column_or_1d(y, warn=True)\n",
      "C:\\Users\\Dell\\anaconda3\\Lib\\site-packages\\sklearn\\utils\\validation.py:1300: DataConversionWarning: A column-vector y was passed when a 1d array was expected. Please change the shape of y to (n_samples, ), for example using ravel().\n",
      "  y = column_or_1d(y, warn=True)\n",
      "C:\\Users\\Dell\\anaconda3\\Lib\\site-packages\\sklearn\\utils\\validation.py:1300: DataConversionWarning: A column-vector y was passed when a 1d array was expected. Please change the shape of y to (n_samples, ), for example using ravel().\n",
      "  y = column_or_1d(y, warn=True)\n",
      "C:\\Users\\Dell\\anaconda3\\Lib\\site-packages\\sklearn\\utils\\validation.py:1300: DataConversionWarning: A column-vector y was passed when a 1d array was expected. Please change the shape of y to (n_samples, ), for example using ravel().\n",
      "  y = column_or_1d(y, warn=True)\n",
      "C:\\Users\\Dell\\anaconda3\\Lib\\site-packages\\sklearn\\utils\\validation.py:1300: DataConversionWarning: A column-vector y was passed when a 1d array was expected. Please change the shape of y to (n_samples, ), for example using ravel().\n",
      "  y = column_or_1d(y, warn=True)\n",
      "C:\\Users\\Dell\\anaconda3\\Lib\\site-packages\\sklearn\\utils\\validation.py:1300: DataConversionWarning: A column-vector y was passed when a 1d array was expected. Please change the shape of y to (n_samples, ), for example using ravel().\n",
      "  y = column_or_1d(y, warn=True)\n",
      "C:\\Users\\Dell\\anaconda3\\Lib\\site-packages\\sklearn\\utils\\validation.py:1300: DataConversionWarning: A column-vector y was passed when a 1d array was expected. Please change the shape of y to (n_samples, ), for example using ravel().\n",
      "  y = column_or_1d(y, warn=True)\n",
      "C:\\Users\\Dell\\anaconda3\\Lib\\site-packages\\sklearn\\base.py:1474: DataConversionWarning: A column-vector y was passed when a 1d array was expected. Please change the shape of y to (n_samples,), for example using ravel().\n",
      "  return fit_method(estimator, *args, **kwargs)\n",
      "C:\\Users\\Dell\\anaconda3\\Lib\\site-packages\\sklearn\\base.py:1474: DataConversionWarning: A column-vector y was passed when a 1d array was expected. Please change the shape of y to (n_samples,), for example using ravel().\n",
      "  return fit_method(estimator, *args, **kwargs)\n",
      "C:\\Users\\Dell\\anaconda3\\Lib\\site-packages\\sklearn\\base.py:1474: DataConversionWarning: A column-vector y was passed when a 1d array was expected. Please change the shape of y to (n_samples,), for example using ravel().\n",
      "  return fit_method(estimator, *args, **kwargs)\n",
      "C:\\Users\\Dell\\anaconda3\\Lib\\site-packages\\sklearn\\base.py:1474: DataConversionWarning: A column-vector y was passed when a 1d array was expected. Please change the shape of y to (n_samples,), for example using ravel().\n",
      "  return fit_method(estimator, *args, **kwargs)\n",
      "C:\\Users\\Dell\\anaconda3\\Lib\\site-packages\\sklearn\\base.py:1474: DataConversionWarning: A column-vector y was passed when a 1d array was expected. Please change the shape of y to (n_samples,), for example using ravel().\n",
      "  return fit_method(estimator, *args, **kwargs)\n",
      "C:\\Users\\Dell\\anaconda3\\Lib\\site-packages\\sklearn\\base.py:1474: DataConversionWarning: A column-vector y was passed when a 1d array was expected. Please change the shape of y to (n_samples,), for example using ravel().\n",
      "  return fit_method(estimator, *args, **kwargs)\n",
      "C:\\Users\\Dell\\anaconda3\\Lib\\site-packages\\sklearn\\base.py:1474: DataConversionWarning: A column-vector y was passed when a 1d array was expected. Please change the shape of y to (n_samples,), for example using ravel().\n",
      "  return fit_method(estimator, *args, **kwargs)\n",
      "C:\\Users\\Dell\\anaconda3\\Lib\\site-packages\\sklearn\\base.py:1474: DataConversionWarning: A column-vector y was passed when a 1d array was expected. Please change the shape of y to (n_samples,), for example using ravel().\n",
      "  return fit_method(estimator, *args, **kwargs)\n",
      "C:\\Users\\Dell\\anaconda3\\Lib\\site-packages\\sklearn\\base.py:1474: DataConversionWarning: A column-vector y was passed when a 1d array was expected. Please change the shape of y to (n_samples,), for example using ravel().\n",
      "  return fit_method(estimator, *args, **kwargs)\n",
      "C:\\Users\\Dell\\anaconda3\\Lib\\site-packages\\sklearn\\base.py:1474: DataConversionWarning: A column-vector y was passed when a 1d array was expected. Please change the shape of y to (n_samples,), for example using ravel().\n",
      "  return fit_method(estimator, *args, **kwargs)\n",
      "C:\\Users\\Dell\\anaconda3\\Lib\\site-packages\\sklearn\\base.py:1474: DataConversionWarning: A column-vector y was passed when a 1d array was expected. Please change the shape of y to (n_samples,), for example using ravel().\n",
      "  return fit_method(estimator, *args, **kwargs)\n",
      "C:\\Users\\Dell\\anaconda3\\Lib\\site-packages\\sklearn\\base.py:1474: DataConversionWarning: A column-vector y was passed when a 1d array was expected. Please change the shape of y to (n_samples,), for example using ravel().\n",
      "  return fit_method(estimator, *args, **kwargs)\n",
      "C:\\Users\\Dell\\anaconda3\\Lib\\site-packages\\sklearn\\base.py:1474: DataConversionWarning: A column-vector y was passed when a 1d array was expected. Please change the shape of y to (n_samples,), for example using ravel().\n",
      "  return fit_method(estimator, *args, **kwargs)\n",
      "C:\\Users\\Dell\\anaconda3\\Lib\\site-packages\\sklearn\\base.py:1474: DataConversionWarning: A column-vector y was passed when a 1d array was expected. Please change the shape of y to (n_samples,), for example using ravel().\n",
      "  return fit_method(estimator, *args, **kwargs)\n",
      "C:\\Users\\Dell\\anaconda3\\Lib\\site-packages\\sklearn\\base.py:1474: DataConversionWarning: A column-vector y was passed when a 1d array was expected. Please change the shape of y to (n_samples,), for example using ravel().\n",
      "  return fit_method(estimator, *args, **kwargs)\n",
      "C:\\Users\\Dell\\anaconda3\\Lib\\site-packages\\sklearn\\base.py:1474: DataConversionWarning: A column-vector y was passed when a 1d array was expected. Please change the shape of y to (n_samples,), for example using ravel().\n",
      "  return fit_method(estimator, *args, **kwargs)\n",
      "C:\\Users\\Dell\\anaconda3\\Lib\\site-packages\\sklearn\\base.py:1474: DataConversionWarning: A column-vector y was passed when a 1d array was expected. Please change the shape of y to (n_samples,), for example using ravel().\n",
      "  return fit_method(estimator, *args, **kwargs)\n",
      "C:\\Users\\Dell\\anaconda3\\Lib\\site-packages\\sklearn\\base.py:1474: DataConversionWarning: A column-vector y was passed when a 1d array was expected. Please change the shape of y to (n_samples,), for example using ravel().\n",
      "  return fit_method(estimator, *args, **kwargs)\n",
      "C:\\Users\\Dell\\anaconda3\\Lib\\site-packages\\sklearn\\base.py:1474: DataConversionWarning: A column-vector y was passed when a 1d array was expected. Please change the shape of y to (n_samples,), for example using ravel().\n",
      "  return fit_method(estimator, *args, **kwargs)\n",
      "C:\\Users\\Dell\\anaconda3\\Lib\\site-packages\\sklearn\\base.py:1474: DataConversionWarning: A column-vector y was passed when a 1d array was expected. Please change the shape of y to (n_samples,), for example using ravel().\n",
      "  return fit_method(estimator, *args, **kwargs)\n",
      "C:\\Users\\Dell\\anaconda3\\Lib\\site-packages\\sklearn\\base.py:1474: DataConversionWarning: A column-vector y was passed when a 1d array was expected. Please change the shape of y to (n_samples,), for example using ravel().\n",
      "  return fit_method(estimator, *args, **kwargs)\n",
      "C:\\Users\\Dell\\anaconda3\\Lib\\site-packages\\sklearn\\base.py:1474: DataConversionWarning: A column-vector y was passed when a 1d array was expected. Please change the shape of y to (n_samples,), for example using ravel().\n",
      "  return fit_method(estimator, *args, **kwargs)\n",
      "C:\\Users\\Dell\\anaconda3\\Lib\\site-packages\\sklearn\\base.py:1474: DataConversionWarning: A column-vector y was passed when a 1d array was expected. Please change the shape of y to (n_samples,), for example using ravel().\n",
      "  return fit_method(estimator, *args, **kwargs)\n",
      "C:\\Users\\Dell\\anaconda3\\Lib\\site-packages\\sklearn\\base.py:1474: DataConversionWarning: A column-vector y was passed when a 1d array was expected. Please change the shape of y to (n_samples,), for example using ravel().\n",
      "  return fit_method(estimator, *args, **kwargs)\n",
      "C:\\Users\\Dell\\anaconda3\\Lib\\site-packages\\sklearn\\base.py:1474: DataConversionWarning: A column-vector y was passed when a 1d array was expected. Please change the shape of y to (n_samples,), for example using ravel().\n",
      "  return fit_method(estimator, *args, **kwargs)\n",
      "C:\\Users\\Dell\\anaconda3\\Lib\\site-packages\\sklearn\\base.py:1474: DataConversionWarning: A column-vector y was passed when a 1d array was expected. Please change the shape of y to (n_samples,), for example using ravel().\n",
      "  return fit_method(estimator, *args, **kwargs)\n",
      "C:\\Users\\Dell\\anaconda3\\Lib\\site-packages\\sklearn\\base.py:1474: DataConversionWarning: A column-vector y was passed when a 1d array was expected. Please change the shape of y to (n_samples,), for example using ravel().\n",
      "  return fit_method(estimator, *args, **kwargs)\n",
      "C:\\Users\\Dell\\anaconda3\\Lib\\site-packages\\sklearn\\base.py:1474: DataConversionWarning: A column-vector y was passed when a 1d array was expected. Please change the shape of y to (n_samples,), for example using ravel().\n",
      "  return fit_method(estimator, *args, **kwargs)\n",
      "C:\\Users\\Dell\\anaconda3\\Lib\\site-packages\\sklearn\\base.py:1474: DataConversionWarning: A column-vector y was passed when a 1d array was expected. Please change the shape of y to (n_samples,), for example using ravel().\n",
      "  return fit_method(estimator, *args, **kwargs)\n",
      "C:\\Users\\Dell\\anaconda3\\Lib\\site-packages\\sklearn\\base.py:1474: DataConversionWarning: A column-vector y was passed when a 1d array was expected. Please change the shape of y to (n_samples,), for example using ravel().\n",
      "  return fit_method(estimator, *args, **kwargs)\n",
      "C:\\Users\\Dell\\anaconda3\\Lib\\site-packages\\sklearn\\base.py:1474: DataConversionWarning: A column-vector y was passed when a 1d array was expected. Please change the shape of y to (n_samples,), for example using ravel().\n",
      "  return fit_method(estimator, *args, **kwargs)\n",
      "C:\\Users\\Dell\\anaconda3\\Lib\\site-packages\\sklearn\\base.py:1474: DataConversionWarning: A column-vector y was passed when a 1d array was expected. Please change the shape of y to (n_samples,), for example using ravel().\n",
      "  return fit_method(estimator, *args, **kwargs)\n",
      "C:\\Users\\Dell\\anaconda3\\Lib\\site-packages\\sklearn\\base.py:1474: DataConversionWarning: A column-vector y was passed when a 1d array was expected. Please change the shape of y to (n_samples,), for example using ravel().\n",
      "  return fit_method(estimator, *args, **kwargs)\n",
      "C:\\Users\\Dell\\anaconda3\\Lib\\site-packages\\sklearn\\base.py:1474: DataConversionWarning: A column-vector y was passed when a 1d array was expected. Please change the shape of y to (n_samples,), for example using ravel().\n",
      "  return fit_method(estimator, *args, **kwargs)\n",
      "C:\\Users\\Dell\\anaconda3\\Lib\\site-packages\\sklearn\\base.py:1474: DataConversionWarning: A column-vector y was passed when a 1d array was expected. Please change the shape of y to (n_samples,), for example using ravel().\n",
      "  return fit_method(estimator, *args, **kwargs)\n",
      "C:\\Users\\Dell\\anaconda3\\Lib\\site-packages\\sklearn\\base.py:1474: DataConversionWarning: A column-vector y was passed when a 1d array was expected. Please change the shape of y to (n_samples,), for example using ravel().\n",
      "  return fit_method(estimator, *args, **kwargs)\n",
      "C:\\Users\\Dell\\anaconda3\\Lib\\site-packages\\sklearn\\base.py:1474: DataConversionWarning: A column-vector y was passed when a 1d array was expected. Please change the shape of y to (n_samples,), for example using ravel().\n",
      "  return fit_method(estimator, *args, **kwargs)\n"
     ]
    },
    {
     "data": {
      "text/html": [
       "<style>#sk-container-id-2 {\n",
       "  /* Definition of color scheme common for light and dark mode */\n",
       "  --sklearn-color-text: black;\n",
       "  --sklearn-color-line: gray;\n",
       "  /* Definition of color scheme for unfitted estimators */\n",
       "  --sklearn-color-unfitted-level-0: #fff5e6;\n",
       "  --sklearn-color-unfitted-level-1: #f6e4d2;\n",
       "  --sklearn-color-unfitted-level-2: #ffe0b3;\n",
       "  --sklearn-color-unfitted-level-3: chocolate;\n",
       "  /* Definition of color scheme for fitted estimators */\n",
       "  --sklearn-color-fitted-level-0: #f0f8ff;\n",
       "  --sklearn-color-fitted-level-1: #d4ebff;\n",
       "  --sklearn-color-fitted-level-2: #b3dbfd;\n",
       "  --sklearn-color-fitted-level-3: cornflowerblue;\n",
       "\n",
       "  /* Specific color for light theme */\n",
       "  --sklearn-color-text-on-default-background: var(--sg-text-color, var(--theme-code-foreground, var(--jp-content-font-color1, black)));\n",
       "  --sklearn-color-background: var(--sg-background-color, var(--theme-background, var(--jp-layout-color0, white)));\n",
       "  --sklearn-color-border-box: var(--sg-text-color, var(--theme-code-foreground, var(--jp-content-font-color1, black)));\n",
       "  --sklearn-color-icon: #696969;\n",
       "\n",
       "  @media (prefers-color-scheme: dark) {\n",
       "    /* Redefinition of color scheme for dark theme */\n",
       "    --sklearn-color-text-on-default-background: var(--sg-text-color, var(--theme-code-foreground, var(--jp-content-font-color1, white)));\n",
       "    --sklearn-color-background: var(--sg-background-color, var(--theme-background, var(--jp-layout-color0, #111)));\n",
       "    --sklearn-color-border-box: var(--sg-text-color, var(--theme-code-foreground, var(--jp-content-font-color1, white)));\n",
       "    --sklearn-color-icon: #878787;\n",
       "  }\n",
       "}\n",
       "\n",
       "#sk-container-id-2 {\n",
       "  color: var(--sklearn-color-text);\n",
       "}\n",
       "\n",
       "#sk-container-id-2 pre {\n",
       "  padding: 0;\n",
       "}\n",
       "\n",
       "#sk-container-id-2 input.sk-hidden--visually {\n",
       "  border: 0;\n",
       "  clip: rect(1px 1px 1px 1px);\n",
       "  clip: rect(1px, 1px, 1px, 1px);\n",
       "  height: 1px;\n",
       "  margin: -1px;\n",
       "  overflow: hidden;\n",
       "  padding: 0;\n",
       "  position: absolute;\n",
       "  width: 1px;\n",
       "}\n",
       "\n",
       "#sk-container-id-2 div.sk-dashed-wrapped {\n",
       "  border: 1px dashed var(--sklearn-color-line);\n",
       "  margin: 0 0.4em 0.5em 0.4em;\n",
       "  box-sizing: border-box;\n",
       "  padding-bottom: 0.4em;\n",
       "  background-color: var(--sklearn-color-background);\n",
       "}\n",
       "\n",
       "#sk-container-id-2 div.sk-container {\n",
       "  /* jupyter's `normalize.less` sets `[hidden] { display: none; }`\n",
       "     but bootstrap.min.css set `[hidden] { display: none !important; }`\n",
       "     so we also need the `!important` here to be able to override the\n",
       "     default hidden behavior on the sphinx rendered scikit-learn.org.\n",
       "     See: https://github.com/scikit-learn/scikit-learn/issues/21755 */\n",
       "  display: inline-block !important;\n",
       "  position: relative;\n",
       "}\n",
       "\n",
       "#sk-container-id-2 div.sk-text-repr-fallback {\n",
       "  display: none;\n",
       "}\n",
       "\n",
       "div.sk-parallel-item,\n",
       "div.sk-serial,\n",
       "div.sk-item {\n",
       "  /* draw centered vertical line to link estimators */\n",
       "  background-image: linear-gradient(var(--sklearn-color-text-on-default-background), var(--sklearn-color-text-on-default-background));\n",
       "  background-size: 2px 100%;\n",
       "  background-repeat: no-repeat;\n",
       "  background-position: center center;\n",
       "}\n",
       "\n",
       "/* Parallel-specific style estimator block */\n",
       "\n",
       "#sk-container-id-2 div.sk-parallel-item::after {\n",
       "  content: \"\";\n",
       "  width: 100%;\n",
       "  border-bottom: 2px solid var(--sklearn-color-text-on-default-background);\n",
       "  flex-grow: 1;\n",
       "}\n",
       "\n",
       "#sk-container-id-2 div.sk-parallel {\n",
       "  display: flex;\n",
       "  align-items: stretch;\n",
       "  justify-content: center;\n",
       "  background-color: var(--sklearn-color-background);\n",
       "  position: relative;\n",
       "}\n",
       "\n",
       "#sk-container-id-2 div.sk-parallel-item {\n",
       "  display: flex;\n",
       "  flex-direction: column;\n",
       "}\n",
       "\n",
       "#sk-container-id-2 div.sk-parallel-item:first-child::after {\n",
       "  align-self: flex-end;\n",
       "  width: 50%;\n",
       "}\n",
       "\n",
       "#sk-container-id-2 div.sk-parallel-item:last-child::after {\n",
       "  align-self: flex-start;\n",
       "  width: 50%;\n",
       "}\n",
       "\n",
       "#sk-container-id-2 div.sk-parallel-item:only-child::after {\n",
       "  width: 0;\n",
       "}\n",
       "\n",
       "/* Serial-specific style estimator block */\n",
       "\n",
       "#sk-container-id-2 div.sk-serial {\n",
       "  display: flex;\n",
       "  flex-direction: column;\n",
       "  align-items: center;\n",
       "  background-color: var(--sklearn-color-background);\n",
       "  padding-right: 1em;\n",
       "  padding-left: 1em;\n",
       "}\n",
       "\n",
       "\n",
       "/* Toggleable style: style used for estimator/Pipeline/ColumnTransformer box that is\n",
       "clickable and can be expanded/collapsed.\n",
       "- Pipeline and ColumnTransformer use this feature and define the default style\n",
       "- Estimators will overwrite some part of the style using the `sk-estimator` class\n",
       "*/\n",
       "\n",
       "/* Pipeline and ColumnTransformer style (default) */\n",
       "\n",
       "#sk-container-id-2 div.sk-toggleable {\n",
       "  /* Default theme specific background. It is overwritten whether we have a\n",
       "  specific estimator or a Pipeline/ColumnTransformer */\n",
       "  background-color: var(--sklearn-color-background);\n",
       "}\n",
       "\n",
       "/* Toggleable label */\n",
       "#sk-container-id-2 label.sk-toggleable__label {\n",
       "  cursor: pointer;\n",
       "  display: block;\n",
       "  width: 100%;\n",
       "  margin-bottom: 0;\n",
       "  padding: 0.5em;\n",
       "  box-sizing: border-box;\n",
       "  text-align: center;\n",
       "}\n",
       "\n",
       "#sk-container-id-2 label.sk-toggleable__label-arrow:before {\n",
       "  /* Arrow on the left of the label */\n",
       "  content: \"▸\";\n",
       "  float: left;\n",
       "  margin-right: 0.25em;\n",
       "  color: var(--sklearn-color-icon);\n",
       "}\n",
       "\n",
       "#sk-container-id-2 label.sk-toggleable__label-arrow:hover:before {\n",
       "  color: var(--sklearn-color-text);\n",
       "}\n",
       "\n",
       "/* Toggleable content - dropdown */\n",
       "\n",
       "#sk-container-id-2 div.sk-toggleable__content {\n",
       "  max-height: 0;\n",
       "  max-width: 0;\n",
       "  overflow: hidden;\n",
       "  text-align: left;\n",
       "  /* unfitted */\n",
       "  background-color: var(--sklearn-color-unfitted-level-0);\n",
       "}\n",
       "\n",
       "#sk-container-id-2 div.sk-toggleable__content.fitted {\n",
       "  /* fitted */\n",
       "  background-color: var(--sklearn-color-fitted-level-0);\n",
       "}\n",
       "\n",
       "#sk-container-id-2 div.sk-toggleable__content pre {\n",
       "  margin: 0.2em;\n",
       "  border-radius: 0.25em;\n",
       "  color: var(--sklearn-color-text);\n",
       "  /* unfitted */\n",
       "  background-color: var(--sklearn-color-unfitted-level-0);\n",
       "}\n",
       "\n",
       "#sk-container-id-2 div.sk-toggleable__content.fitted pre {\n",
       "  /* unfitted */\n",
       "  background-color: var(--sklearn-color-fitted-level-0);\n",
       "}\n",
       "\n",
       "#sk-container-id-2 input.sk-toggleable__control:checked~div.sk-toggleable__content {\n",
       "  /* Expand drop-down */\n",
       "  max-height: 200px;\n",
       "  max-width: 100%;\n",
       "  overflow: auto;\n",
       "}\n",
       "\n",
       "#sk-container-id-2 input.sk-toggleable__control:checked~label.sk-toggleable__label-arrow:before {\n",
       "  content: \"▾\";\n",
       "}\n",
       "\n",
       "/* Pipeline/ColumnTransformer-specific style */\n",
       "\n",
       "#sk-container-id-2 div.sk-label input.sk-toggleable__control:checked~label.sk-toggleable__label {\n",
       "  color: var(--sklearn-color-text);\n",
       "  background-color: var(--sklearn-color-unfitted-level-2);\n",
       "}\n",
       "\n",
       "#sk-container-id-2 div.sk-label.fitted input.sk-toggleable__control:checked~label.sk-toggleable__label {\n",
       "  background-color: var(--sklearn-color-fitted-level-2);\n",
       "}\n",
       "\n",
       "/* Estimator-specific style */\n",
       "\n",
       "/* Colorize estimator box */\n",
       "#sk-container-id-2 div.sk-estimator input.sk-toggleable__control:checked~label.sk-toggleable__label {\n",
       "  /* unfitted */\n",
       "  background-color: var(--sklearn-color-unfitted-level-2);\n",
       "}\n",
       "\n",
       "#sk-container-id-2 div.sk-estimator.fitted input.sk-toggleable__control:checked~label.sk-toggleable__label {\n",
       "  /* fitted */\n",
       "  background-color: var(--sklearn-color-fitted-level-2);\n",
       "}\n",
       "\n",
       "#sk-container-id-2 div.sk-label label.sk-toggleable__label,\n",
       "#sk-container-id-2 div.sk-label label {\n",
       "  /* The background is the default theme color */\n",
       "  color: var(--sklearn-color-text-on-default-background);\n",
       "}\n",
       "\n",
       "/* On hover, darken the color of the background */\n",
       "#sk-container-id-2 div.sk-label:hover label.sk-toggleable__label {\n",
       "  color: var(--sklearn-color-text);\n",
       "  background-color: var(--sklearn-color-unfitted-level-2);\n",
       "}\n",
       "\n",
       "/* Label box, darken color on hover, fitted */\n",
       "#sk-container-id-2 div.sk-label.fitted:hover label.sk-toggleable__label.fitted {\n",
       "  color: var(--sklearn-color-text);\n",
       "  background-color: var(--sklearn-color-fitted-level-2);\n",
       "}\n",
       "\n",
       "/* Estimator label */\n",
       "\n",
       "#sk-container-id-2 div.sk-label label {\n",
       "  font-family: monospace;\n",
       "  font-weight: bold;\n",
       "  display: inline-block;\n",
       "  line-height: 1.2em;\n",
       "}\n",
       "\n",
       "#sk-container-id-2 div.sk-label-container {\n",
       "  text-align: center;\n",
       "}\n",
       "\n",
       "/* Estimator-specific */\n",
       "#sk-container-id-2 div.sk-estimator {\n",
       "  font-family: monospace;\n",
       "  border: 1px dotted var(--sklearn-color-border-box);\n",
       "  border-radius: 0.25em;\n",
       "  box-sizing: border-box;\n",
       "  margin-bottom: 0.5em;\n",
       "  /* unfitted */\n",
       "  background-color: var(--sklearn-color-unfitted-level-0);\n",
       "}\n",
       "\n",
       "#sk-container-id-2 div.sk-estimator.fitted {\n",
       "  /* fitted */\n",
       "  background-color: var(--sklearn-color-fitted-level-0);\n",
       "}\n",
       "\n",
       "/* on hover */\n",
       "#sk-container-id-2 div.sk-estimator:hover {\n",
       "  /* unfitted */\n",
       "  background-color: var(--sklearn-color-unfitted-level-2);\n",
       "}\n",
       "\n",
       "#sk-container-id-2 div.sk-estimator.fitted:hover {\n",
       "  /* fitted */\n",
       "  background-color: var(--sklearn-color-fitted-level-2);\n",
       "}\n",
       "\n",
       "/* Specification for estimator info (e.g. \"i\" and \"?\") */\n",
       "\n",
       "/* Common style for \"i\" and \"?\" */\n",
       "\n",
       ".sk-estimator-doc-link,\n",
       "a:link.sk-estimator-doc-link,\n",
       "a:visited.sk-estimator-doc-link {\n",
       "  float: right;\n",
       "  font-size: smaller;\n",
       "  line-height: 1em;\n",
       "  font-family: monospace;\n",
       "  background-color: var(--sklearn-color-background);\n",
       "  border-radius: 1em;\n",
       "  height: 1em;\n",
       "  width: 1em;\n",
       "  text-decoration: none !important;\n",
       "  margin-left: 1ex;\n",
       "  /* unfitted */\n",
       "  border: var(--sklearn-color-unfitted-level-1) 1pt solid;\n",
       "  color: var(--sklearn-color-unfitted-level-1);\n",
       "}\n",
       "\n",
       ".sk-estimator-doc-link.fitted,\n",
       "a:link.sk-estimator-doc-link.fitted,\n",
       "a:visited.sk-estimator-doc-link.fitted {\n",
       "  /* fitted */\n",
       "  border: var(--sklearn-color-fitted-level-1) 1pt solid;\n",
       "  color: var(--sklearn-color-fitted-level-1);\n",
       "}\n",
       "\n",
       "/* On hover */\n",
       "div.sk-estimator:hover .sk-estimator-doc-link:hover,\n",
       ".sk-estimator-doc-link:hover,\n",
       "div.sk-label-container:hover .sk-estimator-doc-link:hover,\n",
       ".sk-estimator-doc-link:hover {\n",
       "  /* unfitted */\n",
       "  background-color: var(--sklearn-color-unfitted-level-3);\n",
       "  color: var(--sklearn-color-background);\n",
       "  text-decoration: none;\n",
       "}\n",
       "\n",
       "div.sk-estimator.fitted:hover .sk-estimator-doc-link.fitted:hover,\n",
       ".sk-estimator-doc-link.fitted:hover,\n",
       "div.sk-label-container:hover .sk-estimator-doc-link.fitted:hover,\n",
       ".sk-estimator-doc-link.fitted:hover {\n",
       "  /* fitted */\n",
       "  background-color: var(--sklearn-color-fitted-level-3);\n",
       "  color: var(--sklearn-color-background);\n",
       "  text-decoration: none;\n",
       "}\n",
       "\n",
       "/* Span, style for the box shown on hovering the info icon */\n",
       ".sk-estimator-doc-link span {\n",
       "  display: none;\n",
       "  z-index: 9999;\n",
       "  position: relative;\n",
       "  font-weight: normal;\n",
       "  right: .2ex;\n",
       "  padding: .5ex;\n",
       "  margin: .5ex;\n",
       "  width: min-content;\n",
       "  min-width: 20ex;\n",
       "  max-width: 50ex;\n",
       "  color: var(--sklearn-color-text);\n",
       "  box-shadow: 2pt 2pt 4pt #999;\n",
       "  /* unfitted */\n",
       "  background: var(--sklearn-color-unfitted-level-0);\n",
       "  border: .5pt solid var(--sklearn-color-unfitted-level-3);\n",
       "}\n",
       "\n",
       ".sk-estimator-doc-link.fitted span {\n",
       "  /* fitted */\n",
       "  background: var(--sklearn-color-fitted-level-0);\n",
       "  border: var(--sklearn-color-fitted-level-3);\n",
       "}\n",
       "\n",
       ".sk-estimator-doc-link:hover span {\n",
       "  display: block;\n",
       "}\n",
       "\n",
       "/* \"?\"-specific style due to the `<a>` HTML tag */\n",
       "\n",
       "#sk-container-id-2 a.estimator_doc_link {\n",
       "  float: right;\n",
       "  font-size: 1rem;\n",
       "  line-height: 1em;\n",
       "  font-family: monospace;\n",
       "  background-color: var(--sklearn-color-background);\n",
       "  border-radius: 1rem;\n",
       "  height: 1rem;\n",
       "  width: 1rem;\n",
       "  text-decoration: none;\n",
       "  /* unfitted */\n",
       "  color: var(--sklearn-color-unfitted-level-1);\n",
       "  border: var(--sklearn-color-unfitted-level-1) 1pt solid;\n",
       "}\n",
       "\n",
       "#sk-container-id-2 a.estimator_doc_link.fitted {\n",
       "  /* fitted */\n",
       "  border: var(--sklearn-color-fitted-level-1) 1pt solid;\n",
       "  color: var(--sklearn-color-fitted-level-1);\n",
       "}\n",
       "\n",
       "/* On hover */\n",
       "#sk-container-id-2 a.estimator_doc_link:hover {\n",
       "  /* unfitted */\n",
       "  background-color: var(--sklearn-color-unfitted-level-3);\n",
       "  color: var(--sklearn-color-background);\n",
       "  text-decoration: none;\n",
       "}\n",
       "\n",
       "#sk-container-id-2 a.estimator_doc_link.fitted:hover {\n",
       "  /* fitted */\n",
       "  background-color: var(--sklearn-color-fitted-level-3);\n",
       "}\n",
       "</style><div id=\"sk-container-id-2\" class=\"sk-top-container\"><div class=\"sk-text-repr-fallback\"><pre>GridSearchCV(cv=3,\n",
       "             estimator=Pipeline(steps=[(&#x27;regressor&#x27;, LinearRegression())]),\n",
       "             param_grid=[{&#x27;regressor&#x27;: [LinearRegression()]},\n",
       "                         {&#x27;regressor&#x27;: [SVR()],\n",
       "                          &#x27;regressor__C&#x27;: [0.01, 0.1, 1, 10, 100]},\n",
       "                         {&#x27;regressor&#x27;: [RandomForestRegressor()],\n",
       "                          &#x27;regressor__max_depth&#x27;: [5, 10, 20],\n",
       "                          &#x27;regressor__n_estimators&#x27;: [50, 100, 200, 500]}],\n",
       "             scoring=&#x27;r2&#x27;)</pre><b>In a Jupyter environment, please rerun this cell to show the HTML representation or trust the notebook. <br />On GitHub, the HTML representation is unable to render, please try loading this page with nbviewer.org.</b></div><div class=\"sk-container\" hidden><div class=\"sk-item sk-dashed-wrapped\"><div class=\"sk-label-container\"><div class=\"sk-label fitted sk-toggleable\"><input class=\"sk-toggleable__control sk-hidden--visually\" id=\"sk-estimator-id-4\" type=\"checkbox\" ><label for=\"sk-estimator-id-4\" class=\"sk-toggleable__label fitted sk-toggleable__label-arrow fitted\">&nbsp;&nbsp;GridSearchCV<a class=\"sk-estimator-doc-link fitted\" rel=\"noreferrer\" target=\"_blank\" href=\"https://scikit-learn.org/1.4/modules/generated/sklearn.model_selection.GridSearchCV.html\">?<span>Documentation for GridSearchCV</span></a><span class=\"sk-estimator-doc-link fitted\">i<span>Fitted</span></span></label><div class=\"sk-toggleable__content fitted\"><pre>GridSearchCV(cv=3,\n",
       "             estimator=Pipeline(steps=[(&#x27;regressor&#x27;, LinearRegression())]),\n",
       "             param_grid=[{&#x27;regressor&#x27;: [LinearRegression()]},\n",
       "                         {&#x27;regressor&#x27;: [SVR()],\n",
       "                          &#x27;regressor__C&#x27;: [0.01, 0.1, 1, 10, 100]},\n",
       "                         {&#x27;regressor&#x27;: [RandomForestRegressor()],\n",
       "                          &#x27;regressor__max_depth&#x27;: [5, 10, 20],\n",
       "                          &#x27;regressor__n_estimators&#x27;: [50, 100, 200, 500]}],\n",
       "             scoring=&#x27;r2&#x27;)</pre></div> </div></div><div class=\"sk-parallel\"><div class=\"sk-parallel-item\"><div class=\"sk-item\"><div class=\"sk-label-container\"><div class=\"sk-label fitted sk-toggleable\"><input class=\"sk-toggleable__control sk-hidden--visually\" id=\"sk-estimator-id-5\" type=\"checkbox\" ><label for=\"sk-estimator-id-5\" class=\"sk-toggleable__label fitted sk-toggleable__label-arrow fitted\">estimator: Pipeline</label><div class=\"sk-toggleable__content fitted\"><pre>Pipeline(steps=[(&#x27;regressor&#x27;, LinearRegression())])</pre></div> </div></div><div class=\"sk-serial\"><div class=\"sk-item\"><div class=\"sk-serial\"><div class=\"sk-item\"><div class=\"sk-estimator fitted sk-toggleable\"><input class=\"sk-toggleable__control sk-hidden--visually\" id=\"sk-estimator-id-6\" type=\"checkbox\" ><label for=\"sk-estimator-id-6\" class=\"sk-toggleable__label fitted sk-toggleable__label-arrow fitted\">&nbsp;LinearRegression<a class=\"sk-estimator-doc-link fitted\" rel=\"noreferrer\" target=\"_blank\" href=\"https://scikit-learn.org/1.4/modules/generated/sklearn.linear_model.LinearRegression.html\">?<span>Documentation for LinearRegression</span></a></label><div class=\"sk-toggleable__content fitted\"><pre>LinearRegression()</pre></div> </div></div></div></div></div></div></div></div></div></div></div>"
      ],
      "text/plain": [
       "GridSearchCV(cv=3,\n",
       "             estimator=Pipeline(steps=[('regressor', LinearRegression())]),\n",
       "             param_grid=[{'regressor': [LinearRegression()]},\n",
       "                         {'regressor': [SVR()],\n",
       "                          'regressor__C': [0.01, 0.1, 1, 10, 100]},\n",
       "                         {'regressor': [RandomForestRegressor()],\n",
       "                          'regressor__max_depth': [5, 10, 20],\n",
       "                          'regressor__n_estimators': [50, 100, 200, 500]}],\n",
       "             scoring='r2')"
      ]
     },
     "execution_count": 425,
     "metadata": {},
     "output_type": "execute_result"
    }
   ],
   "source": [
    "grid.fit(x_train, y_train)"
   ]
  },
  {
   "cell_type": "code",
   "execution_count": 426,
   "id": "da253e7d-d2d0-422b-96a5-468b8151c9f9",
   "metadata": {},
   "outputs": [
    {
     "data": {
      "text/plain": [
       "{'regressor': RandomForestRegressor(),\n",
       " 'regressor__max_depth': 10,\n",
       " 'regressor__n_estimators': 100}"
      ]
     },
     "execution_count": 426,
     "metadata": {},
     "output_type": "execute_result"
    }
   ],
   "source": [
    "grid.best_params_"
   ]
  },
  {
   "cell_type": "code",
   "execution_count": 427,
   "id": "ed0b7eee-0555-45e0-b6ba-502f9d9ebeec",
   "metadata": {},
   "outputs": [
    {
     "data": {
      "text/plain": [
       "0.8931221062481806"
      ]
     },
     "execution_count": 427,
     "metadata": {},
     "output_type": "execute_result"
    }
   ],
   "source": [
    "grid.best_score_"
   ]
  },
  {
   "cell_type": "markdown",
   "id": "89e57609-fc8f-4881-8129-6bd71936a12b",
   "metadata": {},
   "source": [
    "# Saving model\n",
    "\n",
    "I check the version of joblib so I can add to the requirements file and ensure smooth streamlit app deployment.\n",
    "\n",
    "I also save the model in (.sav) instead of (.pkl) format to reduce it's size and so I can upload it to github and deploy the streamlit app normally"
   ]
  },
  {
   "cell_type": "code",
   "execution_count": 431,
   "id": "5f6488e3-4e34-4698-ae93-4387f22dc155",
   "metadata": {},
   "outputs": [
    {
     "data": {
      "text/plain": [
       "'1.4.2'"
      ]
     },
     "execution_count": 431,
     "metadata": {},
     "output_type": "execute_result"
    }
   ],
   "source": [
    "joblib.__version__"
   ]
  },
  {
   "cell_type": "code",
   "execution_count": 433,
   "id": "0590cf85-cfc7-4db7-b58b-16b97b18ccec",
   "metadata": {},
   "outputs": [
    {
     "data": {
      "text/plain": [
       "['Model.sav']"
      ]
     },
     "execution_count": 433,
     "metadata": {},
     "output_type": "execute_result"
    }
   ],
   "source": [
    "joblib.dump(grid.best_estimator_,'Model.sav')"
   ]
  },
  {
   "cell_type": "markdown",
   "id": "756bd843-43bd-4286-a43f-a7eee4c873fe",
   "metadata": {},
   "source": [
    "# Model testing"
   ]
  },
  {
   "cell_type": "code",
   "execution_count": 436,
   "id": "dd3da25f-576e-4532-a09b-debc38db5298",
   "metadata": {},
   "outputs": [],
   "source": [
    "my_model = joblib.load('Model.sav')"
   ]
  },
  {
   "cell_type": "code",
   "execution_count": 438,
   "id": "5180448a-b88b-4a1d-9ca0-753a9c77a770",
   "metadata": {},
   "outputs": [],
   "source": [
    "y_pred = my_model.predict(x_test)\n",
    "y_pred = Target_scaler.inverse_transform(y_pred.reshape(-1,1))"
   ]
  },
  {
   "cell_type": "code",
   "execution_count": 440,
   "id": "64030171-3c3a-4f12-aa27-4ca48ac01b06",
   "metadata": {},
   "outputs": [
    {
     "data": {
      "text/plain": [
       "array([[223187.70224207],\n",
       "       [237526.7662085 ],\n",
       "       [355993.07538462],\n",
       "       ...,\n",
       "       [515170.25139857],\n",
       "       [631368.33759687],\n",
       "       [402231.69765612]])"
      ]
     },
     "execution_count": 440,
     "metadata": {},
     "output_type": "execute_result"
    }
   ],
   "source": [
    "y_pred"
   ]
  },
  {
   "cell_type": "code",
   "execution_count": null,
   "id": "991587c1-5210-4a39-9464-ec1447c587a4",
   "metadata": {},
   "outputs": [],
   "source": []
  },
  {
   "cell_type": "code",
   "execution_count": null,
   "id": "302d0d4c-f7b9-43ff-9b3f-6f763ea51c6b",
   "metadata": {},
   "outputs": [],
   "source": []
  }
 ],
 "metadata": {
  "kernelspec": {
   "display_name": "Python 3 (ipykernel)",
   "language": "python",
   "name": "python3"
  },
  "language_info": {
   "codemirror_mode": {
    "name": "ipython",
    "version": 3
   },
   "file_extension": ".py",
   "mimetype": "text/x-python",
   "name": "python",
   "nbconvert_exporter": "python",
   "pygments_lexer": "ipython3",
   "version": "3.12.4"
  }
 },
 "nbformat": 4,
 "nbformat_minor": 5
}
