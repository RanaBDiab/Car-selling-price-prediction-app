{
 "cells": [
  {
   "cell_type": "markdown",
   "id": "d1a4f9bc-a797-4e4e-a9d5-69d9003d4705",
   "metadata": {},
   "source": [
    "# Importing libraries"
   ]
  },
  {
   "cell_type": "code",
   "execution_count": 1,
   "id": "3d25ca87-1927-44b2-8115-d8b14e7ca5e2",
   "metadata": {},
   "outputs": [],
   "source": [
    "import numpy as np\n",
    "import pandas as pd\n",
    "import matplotlib.pyplot as plt\n",
    "%matplotlib inline\n",
    "import seaborn as sns\n",
    "from sklearn.impute import SimpleImputer\n",
    "from sklearn.preprocessing import LabelEncoder\n",
    "from sklearn.preprocessing import StandardScaler\n",
    "from sklearn.model_selection import train_test_split\n",
    "from sklearn.linear_model import LinearRegression\n",
    "from sklearn.svm import SVR\n",
    "from sklearn.ensemble import RandomForestRegressor\n",
    "from sklearn.pipeline import Pipeline\n",
    "from sklearn.model_selection import GridSearchCV\n",
    "from sklearn.metrics import r2_score\n",
    "import joblib"
   ]
  },
  {
   "cell_type": "markdown",
   "id": "5d0ca7a0-10ed-4d07-8a78-341358a7ec5d",
   "metadata": {},
   "source": [
    "# Importing and exploring dataset"
   ]
  },
  {
   "cell_type": "code",
   "execution_count": 3,
   "id": "e3e7685a-dde2-4e69-8175-39df1dfd2f73",
   "metadata": {},
   "outputs": [],
   "source": [
    "df= pd.read_csv('reg_cars_selling.csv')"
   ]
  },
  {
   "cell_type": "code",
   "execution_count": 4,
   "id": "459d525c-26a6-4de6-862b-3e364711197d",
   "metadata": {},
   "outputs": [
    {
     "data": {
      "text/html": [
       "<div>\n",
       "<style scoped>\n",
       "    .dataframe tbody tr th:only-of-type {\n",
       "        vertical-align: middle;\n",
       "    }\n",
       "\n",
       "    .dataframe tbody tr th {\n",
       "        vertical-align: top;\n",
       "    }\n",
       "\n",
       "    .dataframe thead th {\n",
       "        text-align: right;\n",
       "    }\n",
       "</style>\n",
       "<table border=\"1\" class=\"dataframe\">\n",
       "  <thead>\n",
       "    <tr style=\"text-align: right;\">\n",
       "      <th></th>\n",
       "      <th>name</th>\n",
       "      <th>year</th>\n",
       "      <th>selling_price</th>\n",
       "      <th>km_driven</th>\n",
       "      <th>fuel</th>\n",
       "      <th>seller_type</th>\n",
       "      <th>transmission</th>\n",
       "      <th>owner</th>\n",
       "      <th>mileage</th>\n",
       "      <th>engine</th>\n",
       "      <th>max_power</th>\n",
       "      <th>torque</th>\n",
       "      <th>seats</th>\n",
       "    </tr>\n",
       "  </thead>\n",
       "  <tbody>\n",
       "    <tr>\n",
       "      <th>0</th>\n",
       "      <td>Maruti Swift Dzire VDI</td>\n",
       "      <td>2014</td>\n",
       "      <td>450000</td>\n",
       "      <td>145500</td>\n",
       "      <td>Diesel</td>\n",
       "      <td>Individual</td>\n",
       "      <td>Manual</td>\n",
       "      <td>First Owner</td>\n",
       "      <td>23.4 kmpl</td>\n",
       "      <td>1248 CC</td>\n",
       "      <td>74 bhp</td>\n",
       "      <td>190Nm@ 2000rpm</td>\n",
       "      <td>5.0</td>\n",
       "    </tr>\n",
       "    <tr>\n",
       "      <th>1</th>\n",
       "      <td>Skoda Rapid 1.5 TDI Ambition</td>\n",
       "      <td>2014</td>\n",
       "      <td>370000</td>\n",
       "      <td>120000</td>\n",
       "      <td>Diesel</td>\n",
       "      <td>Individual</td>\n",
       "      <td>Manual</td>\n",
       "      <td>Second Owner</td>\n",
       "      <td>21.14 kmpl</td>\n",
       "      <td>1498 CC</td>\n",
       "      <td>103.52 bhp</td>\n",
       "      <td>250Nm@ 1500-2500rpm</td>\n",
       "      <td>5.0</td>\n",
       "    </tr>\n",
       "    <tr>\n",
       "      <th>2</th>\n",
       "      <td>Honda City 2017-2020 EXi</td>\n",
       "      <td>2006</td>\n",
       "      <td>158000</td>\n",
       "      <td>140000</td>\n",
       "      <td>Petrol</td>\n",
       "      <td>Individual</td>\n",
       "      <td>Manual</td>\n",
       "      <td>Third Owner</td>\n",
       "      <td>17.7 kmpl</td>\n",
       "      <td>1497 CC</td>\n",
       "      <td>78 bhp</td>\n",
       "      <td>12.7@ 2,700(kgm@ rpm)</td>\n",
       "      <td>5.0</td>\n",
       "    </tr>\n",
       "    <tr>\n",
       "      <th>3</th>\n",
       "      <td>Hyundai i20 Sportz Diesel</td>\n",
       "      <td>2010</td>\n",
       "      <td>225000</td>\n",
       "      <td>127000</td>\n",
       "      <td>Diesel</td>\n",
       "      <td>Individual</td>\n",
       "      <td>Manual</td>\n",
       "      <td>First Owner</td>\n",
       "      <td>23.0 kmpl</td>\n",
       "      <td>1396 CC</td>\n",
       "      <td>90 bhp</td>\n",
       "      <td>22.4 kgm at 1750-2750rpm</td>\n",
       "      <td>5.0</td>\n",
       "    </tr>\n",
       "    <tr>\n",
       "      <th>4</th>\n",
       "      <td>Maruti Swift VXI BSIII</td>\n",
       "      <td>2007</td>\n",
       "      <td>130000</td>\n",
       "      <td>120000</td>\n",
       "      <td>Petrol</td>\n",
       "      <td>Individual</td>\n",
       "      <td>Manual</td>\n",
       "      <td>First Owner</td>\n",
       "      <td>16.1 kmpl</td>\n",
       "      <td>1298 CC</td>\n",
       "      <td>88.2 bhp</td>\n",
       "      <td>11.5@ 4,500(kgm@ rpm)</td>\n",
       "      <td>5.0</td>\n",
       "    </tr>\n",
       "  </tbody>\n",
       "</table>\n",
       "</div>"
      ],
      "text/plain": [
       "                           name  year  selling_price  km_driven    fuel  \\\n",
       "0        Maruti Swift Dzire VDI  2014         450000     145500  Diesel   \n",
       "1  Skoda Rapid 1.5 TDI Ambition  2014         370000     120000  Diesel   \n",
       "2      Honda City 2017-2020 EXi  2006         158000     140000  Petrol   \n",
       "3     Hyundai i20 Sportz Diesel  2010         225000     127000  Diesel   \n",
       "4        Maruti Swift VXI BSIII  2007         130000     120000  Petrol   \n",
       "\n",
       "  seller_type transmission         owner     mileage   engine   max_power  \\\n",
       "0  Individual       Manual   First Owner   23.4 kmpl  1248 CC      74 bhp   \n",
       "1  Individual       Manual  Second Owner  21.14 kmpl  1498 CC  103.52 bhp   \n",
       "2  Individual       Manual   Third Owner   17.7 kmpl  1497 CC      78 bhp   \n",
       "3  Individual       Manual   First Owner   23.0 kmpl  1396 CC      90 bhp   \n",
       "4  Individual       Manual   First Owner   16.1 kmpl  1298 CC    88.2 bhp   \n",
       "\n",
       "                     torque  seats  \n",
       "0            190Nm@ 2000rpm    5.0  \n",
       "1       250Nm@ 1500-2500rpm    5.0  \n",
       "2     12.7@ 2,700(kgm@ rpm)    5.0  \n",
       "3  22.4 kgm at 1750-2750rpm    5.0  \n",
       "4     11.5@ 4,500(kgm@ rpm)    5.0  "
      ]
     },
     "execution_count": 4,
     "metadata": {},
     "output_type": "execute_result"
    }
   ],
   "source": [
    "df.head()"
   ]
  },
  {
   "cell_type": "code",
   "execution_count": 5,
   "id": "d3b9a4a8-d5a9-430e-8c09-43dbe45be78a",
   "metadata": {},
   "outputs": [
    {
     "name": "stdout",
     "output_type": "stream",
     "text": [
      "<class 'pandas.core.frame.DataFrame'>\n",
      "RangeIndex: 8128 entries, 0 to 8127\n",
      "Data columns (total 13 columns):\n",
      " #   Column         Non-Null Count  Dtype  \n",
      "---  ------         --------------  -----  \n",
      " 0   name           8128 non-null   object \n",
      " 1   year           8128 non-null   int64  \n",
      " 2   selling_price  8128 non-null   int64  \n",
      " 3   km_driven      8128 non-null   int64  \n",
      " 4   fuel           8128 non-null   object \n",
      " 5   seller_type    8128 non-null   object \n",
      " 6   transmission   8128 non-null   object \n",
      " 7   owner          8128 non-null   object \n",
      " 8   mileage        7907 non-null   object \n",
      " 9   engine         7907 non-null   object \n",
      " 10  max_power      7913 non-null   object \n",
      " 11  torque         7906 non-null   object \n",
      " 12  seats          7907 non-null   float64\n",
      "dtypes: float64(1), int64(3), object(9)\n",
      "memory usage: 825.6+ KB\n"
     ]
    }
   ],
   "source": [
    "df.info()"
   ]
  },
  {
   "cell_type": "code",
   "execution_count": 6,
   "id": "dc6387d5-940a-4a3b-8654-a037a299a4a7",
   "metadata": {},
   "outputs": [
    {
     "data": {
      "text/plain": [
       "name               0\n",
       "year               0\n",
       "selling_price      0\n",
       "km_driven          0\n",
       "fuel               0\n",
       "seller_type        0\n",
       "transmission       0\n",
       "owner              0\n",
       "mileage          221\n",
       "engine           221\n",
       "max_power        215\n",
       "torque           222\n",
       "seats            221\n",
       "dtype: int64"
      ]
     },
     "execution_count": 6,
     "metadata": {},
     "output_type": "execute_result"
    }
   ],
   "source": [
    "df.isnull().sum()"
   ]
  },
  {
   "cell_type": "markdown",
   "id": "bae928e9-2ffb-4f25-b9d7-2282ecb1fb08",
   "metadata": {},
   "source": [
    "# 1. name"
   ]
  },
  {
   "cell_type": "code",
   "execution_count": 8,
   "id": "f788156f-093e-4817-aa4b-41ef31a8aaf5",
   "metadata": {},
   "outputs": [
    {
     "data": {
      "text/plain": [
       "2058"
      ]
     },
     "execution_count": 8,
     "metadata": {},
     "output_type": "execute_result"
    }
   ],
   "source": [
    "df['name'].nunique()"
   ]
  },
  {
   "cell_type": "code",
   "execution_count": 9,
   "id": "7fd0c315-aff3-46b2-829d-effd9516ad77",
   "metadata": {},
   "outputs": [
    {
     "data": {
      "text/plain": [
       "array(['Maruti Swift Dzire VDI', 'Skoda Rapid 1.5 TDI Ambition',\n",
       "       'Honda City 2017-2020 EXi', ..., 'Tata Nexon 1.5 Revotorq XT',\n",
       "       'Ford Freestyle Titanium Plus Diesel BSIV',\n",
       "       'Toyota Innova 2.5 GX (Diesel) 8 Seater BS IV'], dtype=object)"
      ]
     },
     "execution_count": 9,
     "metadata": {},
     "output_type": "execute_result"
    }
   ],
   "source": [
    "df['name'].unique()"
   ]
  },
  {
   "cell_type": "markdown",
   "id": "b4f56dfe-2cdb-44bb-8af7-16c4d173b575",
   "metadata": {},
   "source": [
    "# Observations:\n",
    "\n",
    "Based on the above we can see that the number of unique values in the column are too much to be encoded and used as is, so instead we will extract the make and model from the column and ignore the rest of the data.\n",
    "\n",
    "ex: \n",
    " make = Honda\n",
    ",  model = City"
   ]
  },
  {
   "cell_type": "markdown",
   "id": "b8973fcd-b8be-4055-9e52-d1e75e9510e0",
   "metadata": {},
   "source": [
    "# 2. year"
   ]
  },
  {
   "cell_type": "code",
   "execution_count": 12,
   "id": "e7a369c3-3250-45db-b8f7-ba4f269466b4",
   "metadata": {},
   "outputs": [
    {
     "data": {
      "text/plain": [
       "29"
      ]
     },
     "execution_count": 12,
     "metadata": {},
     "output_type": "execute_result"
    }
   ],
   "source": [
    "df['year'].nunique()"
   ]
  },
  {
   "cell_type": "code",
   "execution_count": 13,
   "id": "bee855e8-54a4-4f13-b952-c3da41c92d63",
   "metadata": {},
   "outputs": [
    {
     "data": {
      "text/plain": [
       "array([2014, 2006, 2010, 2007, 2017, 2001, 2011, 2013, 2005, 2009, 2016,\n",
       "       2012, 2002, 2015, 2018, 2003, 2019, 2008, 2020, 1999, 2000, 1983,\n",
       "       2004, 1996, 1994, 1995, 1998, 1997, 1991], dtype=int64)"
      ]
     },
     "execution_count": 13,
     "metadata": {},
     "output_type": "execute_result"
    }
   ],
   "source": [
    "df['year'].unique()"
   ]
  },
  {
   "cell_type": "code",
   "execution_count": 14,
   "id": "a71fb2e9-f100-4317-bc09-967ddd6d0214",
   "metadata": {},
   "outputs": [
    {
     "data": {
      "text/plain": [
       "count    8128.000000\n",
       "mean     2013.804011\n",
       "std         4.044249\n",
       "min      1983.000000\n",
       "25%      2011.000000\n",
       "50%      2015.000000\n",
       "75%      2017.000000\n",
       "max      2020.000000\n",
       "Name: year, dtype: float64"
      ]
     },
     "execution_count": 14,
     "metadata": {},
     "output_type": "execute_result"
    }
   ],
   "source": [
    "df['year'].describe()"
   ]
  },
  {
   "cell_type": "code",
   "execution_count": 15,
   "id": "59db968e-30f6-43ec-ab39-f9faf427b88e",
   "metadata": {},
   "outputs": [
    {
     "data": {
      "text/plain": [
       "0    2017\n",
       "Name: year, dtype: int64"
      ]
     },
     "execution_count": 15,
     "metadata": {},
     "output_type": "execute_result"
    }
   ],
   "source": [
    "df['year'].mode()"
   ]
  },
  {
   "cell_type": "markdown",
   "id": "1c113510-e083-4167-a773-49834ed85242",
   "metadata": {},
   "source": [
    "# Observations: \n",
    "\n",
    "Based on the above we can see that the oldest car is a 1983 model and the newest car is 2020 but most cars were made in 2017."
   ]
  },
  {
   "cell_type": "markdown",
   "id": "79c82fe8-4a6e-41e0-8544-9bf3496122cc",
   "metadata": {},
   "source": [
    "# 3. selling price"
   ]
  },
  {
   "cell_type": "code",
   "execution_count": 18,
   "id": "1ab9ed08-5cad-4ee4-ad15-c9f12e03c6b2",
   "metadata": {},
   "outputs": [
    {
     "data": {
      "text/plain": [
       "count    8.128000e+03\n",
       "mean     6.382718e+05\n",
       "std      8.062534e+05\n",
       "min      2.999900e+04\n",
       "25%      2.549990e+05\n",
       "50%      4.500000e+05\n",
       "75%      6.750000e+05\n",
       "max      1.000000e+07\n",
       "Name: selling_price, dtype: float64"
      ]
     },
     "execution_count": 18,
     "metadata": {},
     "output_type": "execute_result"
    }
   ],
   "source": [
    "df['selling_price'].describe()"
   ]
  },
  {
   "cell_type": "markdown",
   "id": "bb4dd16f-40ac-46f0-b0b2-e154a2179e33",
   "metadata": {},
   "source": [
    "# Observations:\n",
    "\n",
    "based on the above, we can see that the least selling price was 29999 (twenty-nine thousand nine hundred ninety-nine ) and the maximum selling price is 1000000 (ten million) while the mean is 638271 (six hundred thirty-eight thousand two hundred seventy-one)."
   ]
  },
  {
   "cell_type": "markdown",
   "id": "cfad5f36-7427-47d3-b0fd-e08ec02fdfbb",
   "metadata": {},
   "source": [
    "# 4. kilometers driven"
   ]
  },
  {
   "cell_type": "code",
   "execution_count": 21,
   "id": "9ad707d7-782f-43b2-9a31-3c87ed77f43e",
   "metadata": {},
   "outputs": [
    {
     "data": {
      "text/plain": [
       "count    8.128000e+03\n",
       "mean     6.981951e+04\n",
       "std      5.655055e+04\n",
       "min      1.000000e+00\n",
       "25%      3.500000e+04\n",
       "50%      6.000000e+04\n",
       "75%      9.800000e+04\n",
       "max      2.360457e+06\n",
       "Name: km_driven, dtype: float64"
      ]
     },
     "execution_count": 21,
     "metadata": {},
     "output_type": "execute_result"
    }
   ],
   "source": [
    "df['km_driven'].describe()"
   ]
  },
  {
   "cell_type": "markdown",
   "id": "ce7bf472-0e4a-49a5-ad7e-b12fd81d8ad1",
   "metadata": {},
   "source": [
    "# Observations:\n",
    "\n",
    "Based on the above we can see that the minimum distance driven is 1km and the maximum distance is 2360457 (two million three hundred sixty thousand four hundred fifty-seven). The maximum number here doesn't make much since and will probably be removed once we handle outliers."
   ]
  },
  {
   "cell_type": "markdown",
   "id": "dbf9767a-d0ca-476d-8f4f-ea1d82933efd",
   "metadata": {},
   "source": [
    "# 5. fuel"
   ]
  },
  {
   "cell_type": "code",
   "execution_count": 24,
   "id": "db53b82b-75e4-4219-9749-5be908539645",
   "metadata": {},
   "outputs": [
    {
     "data": {
      "text/plain": [
       "fuel\n",
       "Diesel    4402\n",
       "Petrol    3631\n",
       "CNG         57\n",
       "LPG         38\n",
       "Name: count, dtype: int64"
      ]
     },
     "execution_count": 24,
     "metadata": {},
     "output_type": "execute_result"
    }
   ],
   "source": [
    "df['fuel'].value_counts()"
   ]
  },
  {
   "cell_type": "markdown",
   "id": "378b571d-a539-4bd6-b16c-6a617134f5ee",
   "metadata": {},
   "source": [
    "Observations:\n",
    "\n",
    "Based on the above, we can see that while there are  4 different unique values in this column, the most commonly used fuel type is Diesel and the least used is LPG"
   ]
  },
  {
   "cell_type": "markdown",
   "id": "b258fce5-55e1-47ff-91cf-093237ffb152",
   "metadata": {},
   "source": [
    "# 6. seller type"
   ]
  },
  {
   "cell_type": "code",
   "execution_count": 28,
   "id": "d3cdd56a-986f-46ca-a9f3-0e0ade634b51",
   "metadata": {},
   "outputs": [
    {
     "data": {
      "text/plain": [
       "seller_type\n",
       "Individual          6766\n",
       "Dealer              1126\n",
       "Trustmark Dealer     236\n",
       "Name: count, dtype: int64"
      ]
     },
     "execution_count": 28,
     "metadata": {},
     "output_type": "execute_result"
    }
   ],
   "source": [
    "df['seller_type'].value_counts()"
   ]
  },
  {
   "cell_type": "markdown",
   "id": "4de4758a-2742-4bc1-af7e-9f0185a8dc18",
   "metadata": {},
   "source": [
    "# Observations:\n",
    "\n",
    "based on the aboce, we can see that the most sellers in the dataset are individual sellers, there are over a 1000 dealers but only 236 trustmark dealers."
   ]
  },
  {
   "cell_type": "markdown",
   "id": "ba5ccfd7-f41e-4755-89e7-85404dea8c57",
   "metadata": {},
   "source": [
    "# 7. transmission"
   ]
  },
  {
   "cell_type": "code",
   "execution_count": 41,
   "id": "2de54c72-add6-4544-b148-b4ceee048e24",
   "metadata": {},
   "outputs": [
    {
     "data": {
      "text/plain": [
       "transmission\n",
       "Manual       7078\n",
       "Automatic    1050\n",
       "Name: count, dtype: int64"
      ]
     },
     "execution_count": 41,
     "metadata": {},
     "output_type": "execute_result"
    }
   ],
   "source": [
    "df['transmission'].value_counts()"
   ]
  },
  {
   "cell_type": "markdown",
   "id": "d3c8769f-908e-4bcf-9907-462f1bac86ee",
   "metadata": {},
   "source": [
    "# Observations:\n",
    "\n",
    "Based on the above, we can see that most cars in the dataset are manual. The data distribution on this column is extremley unbalanced."
   ]
  },
  {
   "cell_type": "markdown",
   "id": "bf10a649-4feb-4145-a8aa-8dade61804c5",
   "metadata": {},
   "source": [
    "# 8. owner"
   ]
  },
  {
   "cell_type": "code",
   "execution_count": 48,
   "id": "14f15800-1820-407d-9f6a-4df6f31448c3",
   "metadata": {},
   "outputs": [
    {
     "data": {
      "text/plain": [
       "owner\n",
       "First Owner             5289\n",
       "Second Owner            2105\n",
       "Third Owner              555\n",
       "Fourth & Above Owner     174\n",
       "Test Drive Car             5\n",
       "Name: count, dtype: int64"
      ]
     },
     "execution_count": 48,
     "metadata": {},
     "output_type": "execute_result"
    }
   ],
   "source": [
    "df['owner'].value_counts()"
   ]
  },
  {
   "cell_type": "markdown",
   "id": "4192646e-23b2-428d-8160-a3f0eaa5d1c0",
   "metadata": {},
   "source": [
    "# Observations:\n",
    "\n",
    "Based on the above, we can see that most sellers are first owners of their cars, while there are only 5 test drive cars."
   ]
  },
  {
   "cell_type": "markdown",
   "id": "5fedcad2-4829-4c7e-a8bc-174fe126530c",
   "metadata": {},
   "source": [
    "# 9. mileage"
   ]
  },
  {
   "cell_type": "code",
   "execution_count": 51,
   "id": "a1bf05f8-b118-4d73-ab7a-bc278d5b1125",
   "metadata": {},
   "outputs": [
    {
     "data": {
      "text/plain": [
       "0     23.4 kmpl\n",
       "1    21.14 kmpl\n",
       "2     17.7 kmpl\n",
       "3     23.0 kmpl\n",
       "4     16.1 kmpl\n",
       "Name: mileage, dtype: object"
      ]
     },
     "execution_count": 51,
     "metadata": {},
     "output_type": "execute_result"
    }
   ],
   "source": [
    "df['mileage'].head()"
   ]
  },
  {
   "cell_type": "code",
   "execution_count": 53,
   "id": "9d6b5645-5692-4f71-9135-d08713bbe83c",
   "metadata": {},
   "outputs": [
    {
     "data": {
      "text/plain": [
       "count          7907\n",
       "unique          393\n",
       "top       18.9 kmpl\n",
       "freq            225\n",
       "Name: mileage, dtype: object"
      ]
     },
     "execution_count": 53,
     "metadata": {},
     "output_type": "execute_result"
    }
   ],
   "source": [
    "df['mileage'].describe()"
   ]
  },
  {
   "cell_type": "markdown",
   "id": "add793dd-d206-4a9a-8aec-22e171321c0c",
   "metadata": {},
   "source": [
    "# Observations:\n",
    "\n",
    "Based on the above, we can see that this column contains both numerical and text data types, which we will need to change so the data could be used for machine learning purposes. There are also some missing values in this column that we will need to handle."
   ]
  },
  {
   "cell_type": "markdown",
   "id": "68c604e6-dfdf-4e58-b1c2-ec3410dc9b25",
   "metadata": {},
   "source": [
    "# 10. engine"
   ]
  },
  {
   "cell_type": "code",
   "execution_count": 59,
   "id": "1087d7ce-4315-427a-b8ce-24b62ae884e9",
   "metadata": {},
   "outputs": [
    {
     "data": {
      "text/plain": [
       "0    1248 CC\n",
       "1    1498 CC\n",
       "2    1497 CC\n",
       "3    1396 CC\n",
       "4    1298 CC\n",
       "Name: engine, dtype: object"
      ]
     },
     "execution_count": 59,
     "metadata": {},
     "output_type": "execute_result"
    }
   ],
   "source": [
    "df['engine'].head()"
   ]
  },
  {
   "cell_type": "code",
   "execution_count": 61,
   "id": "17643465-3ba1-4176-bdbe-869a81dca251",
   "metadata": {},
   "outputs": [
    {
     "data": {
      "text/plain": [
       "count        7907\n",
       "unique        121\n",
       "top       1248 CC\n",
       "freq         1017\n",
       "Name: engine, dtype: object"
      ]
     },
     "execution_count": 61,
     "metadata": {},
     "output_type": "execute_result"
    }
   ],
   "source": [
    "df['engine'].describe()"
   ]
  },
  {
   "cell_type": "markdown",
   "id": "21a61796-19ea-4c5d-93f8-0d94186cc529",
   "metadata": {},
   "source": [
    "# Observations: \n",
    "\n",
    "Based on the above, we can see that this column contains both numerical and text data types, which we will need to change so the data could be used for machine learning purposes. There are also some missing values in this column that we will need to handle."
   ]
  },
  {
   "cell_type": "markdown",
   "id": "ee1d3f1f-38ee-4e8a-83fc-62d2e5b390d3",
   "metadata": {},
   "source": [
    "# 11. maximum power"
   ]
  },
  {
   "cell_type": "code",
   "execution_count": 65,
   "id": "eca2a79a-370c-48b0-9d2e-0411cfc3a9ac",
   "metadata": {},
   "outputs": [
    {
     "data": {
      "text/plain": [
       "0        74 bhp\n",
       "1    103.52 bhp\n",
       "2        78 bhp\n",
       "3        90 bhp\n",
       "4      88.2 bhp\n",
       "Name: max_power, dtype: object"
      ]
     },
     "execution_count": 65,
     "metadata": {},
     "output_type": "execute_result"
    }
   ],
   "source": [
    "df['max_power'].head()"
   ]
  },
  {
   "cell_type": "code",
   "execution_count": 67,
   "id": "1d5e733d-6b66-4f17-85b4-ba616ec748bc",
   "metadata": {},
   "outputs": [
    {
     "data": {
      "text/plain": [
       "count       7913\n",
       "unique       322\n",
       "top       74 bhp\n",
       "freq         377\n",
       "Name: max_power, dtype: object"
      ]
     },
     "execution_count": 67,
     "metadata": {},
     "output_type": "execute_result"
    }
   ],
   "source": [
    "df['max_power'].describe()"
   ]
  },
  {
   "cell_type": "markdown",
   "id": "9a2eba2d-6b49-44ed-81e2-41a26ba004aa",
   "metadata": {},
   "source": [
    "# Observations:\n",
    "\n",
    "Based on the above, we can see that this column contains both numerical and text data types, which we will need to change so the data could be used for machine learning purposes. There are also some missing values in this column that we will need to handle."
   ]
  },
  {
   "cell_type": "markdown",
   "id": "0087eecc-bc2a-43dd-adbc-db5378373a97",
   "metadata": {},
   "source": [
    "# 12. torque"
   ]
  },
  {
   "cell_type": "code",
   "execution_count": 71,
   "id": "3505c6b7-bccf-4adf-85d3-d47a8c1d7233",
   "metadata": {},
   "outputs": [
    {
     "data": {
      "text/plain": [
       "441"
      ]
     },
     "execution_count": 71,
     "metadata": {},
     "output_type": "execute_result"
    }
   ],
   "source": [
    "df['torque'].nunique()"
   ]
  },
  {
   "cell_type": "code",
   "execution_count": 73,
   "id": "ed558910-92fc-4f5f-9751-d8a4a24f1585",
   "metadata": {},
   "outputs": [
    {
     "data": {
      "text/plain": [
       "array(['190Nm@ 2000rpm', '250Nm@ 1500-2500rpm', '12.7@ 2,700(kgm@ rpm)',\n",
       "       '22.4 kgm at 1750-2750rpm', '11.5@ 4,500(kgm@ rpm)',\n",
       "       '113.75nm@ 4000rpm', '7.8@ 4,500(kgm@ rpm)', '59Nm@ 2500rpm',\n",
       "       '170Nm@ 1800-2400rpm', '160Nm@ 2000rpm', '248Nm@ 2250rpm',\n",
       "       '78Nm@ 4500rpm', nan, '84Nm@ 3500rpm', '115Nm@ 3500-3600rpm',\n",
       "       '200Nm@ 1750rpm', '62Nm@ 3000rpm', '219.7Nm@ 1500-2750rpm',\n",
       "       '114Nm@ 3500rpm', '115Nm@ 4000rpm', '69Nm@ 3500rpm',\n",
       "       '172.5Nm@ 1750rpm', '6.1kgm@ 3000rpm', '114.7Nm@ 4000rpm',\n",
       "       '60Nm@ 3500rpm', '90Nm@ 3500rpm', '151Nm@ 4850rpm',\n",
       "       '104Nm@ 4000rpm', '320Nm@ 1700-2700rpm', '250Nm@ 1750-2500rpm',\n",
       "       '145Nm@ 4600rpm', '146Nm@ 4800rpm', '343Nm@ 1400-3400rpm',\n",
       "       '200Nm@ 1400-3400rpm', '200Nm@ 1250-4000rpm',\n",
       "       '400Nm@ 2000-2500rpm', '138Nm@ 4400rpm', '360Nm@ 1200-3400rpm',\n",
       "       '200Nm@ 1200-3600rpm', '380Nm@ 1750-2500rpm', '173Nm@ 4000rpm',\n",
       "       '400Nm@ 1750-3000rpm', '400Nm@ 1400-2800rpm',\n",
       "       '200Nm@ 1750-3000rpm', '111.7Nm@ 4000rpm', '219.6Nm@ 1500-2750rpm',\n",
       "       '112Nm@ 4000rpm', '250Nm@ 1500-3000rpm', '130Nm@ 4000rpm',\n",
       "       '205Nm@ 1750-3250rpm', '280Nm@ 1350-4600rpm', '99.04Nm@ 4500rpm',\n",
       "       '77Nm@ 3500rpm', '110Nm@ 3750rpm', '153Nm@ 3800rpm',\n",
       "       '113.7Nm@ 4000rpm', '114Nm@ 4000rpm', '113Nm@ 4200rpm',\n",
       "       '101Nm@ 3000rpm', '290Nm@ 1800-2800rpm', '120Nm@ 4250rpm',\n",
       "       '250Nm@ 1500~4500rpm', '96 Nm at 3000 rpm', '360Nm@ 1750-2800rpm',\n",
       "       '135Nm@ 2500rpm', '259.8Nm@ 1900-2750rpm', '200Nm@ 1900rpm',\n",
       "       '259.9Nm@ 1900-2750rpm', '91Nm@ 4250rpm', '96.1Nm@ 3000rpm',\n",
       "       '109Nm@ 4500rpm', '400nm@ 1750-3000rpm', '202Nm@ 3600-5200rpm',\n",
       "       '430Nm@ 1750-2500rpm', '347Nm@ 4300rpm', '382nm@ 1750-2250rpm',\n",
       "       '620Nm@ 1600-2400rpm', '400Nm@ 1750-2500rpm', '250@ 1250-5000rpm',\n",
       "       '500Nm@ 1600-1800rpm', '250Nm@ 1600-3600rpm', '400Nm',\n",
       "       '550Nm@ 1750-2750rpm', '490Nm@ 1600rpm', '250 Nm at 2750 rpm',\n",
       "       '177.5Nm@ 4700rpm', '170Nm@ 1750-4000rpm', '300Nm@ 1200-4000rpm',\n",
       "       '300Nm@ 1200-1400rpm', '260Nm@ 1500-2750rpm', '213Nm@ 4500rpm',\n",
       "       '224Nm@ 4000rpm', '640Nm@ 1740rpm', '113Nm@ 4500rpm',\n",
       "       '95Nm@ 3000-4300rpm', '13.1kgm@ 4600rpm', '205Nm@ 1800-2800rpm',\n",
       "       '71Nm@ 3500rpm', '190Nm@ 1750-3000rpm', '146Nm at 4800 rpm',\n",
       "       '14.9 KGM at 3000 RPM', '115Nm@ 3200rpm', '117nm@ 4000rpm',\n",
       "       '320Nm@ 1500-3000rpm', '72Nm@ 4386rpm', '11.4 kgm at 4,000 rpm',\n",
       "       '140Nm@ 1500-4000rpm', '134Nm@ 4000rpm', '150Nm@ 4500rpm',\n",
       "       '340Nm@ 1800-3250rpm', '240Nm@ 1600-2800rpm',\n",
       "       '330Nm@ 1600-2800rpm', '12.5@ 3,500(kgm@ rpm)', '110Nm@ 4800rpm',\n",
       "       '111.8Nm@ 4000rpm', '11.8@ 3,200(kgm@ rpm)', '135.4Nm@ 2500rpm',\n",
       "       '300Nm@ 1750-2500rpm', '190.25nm@ 1750-2250rpm',\n",
       "       '140Nm@ 1800-3000rpm', '20.4@ 1400-3400(kgm@ rpm)',\n",
       "       '247Nm@ 1800-2000rpm', '223Nm@ 1600-2200rpm',\n",
       "       '180 Nm at 1440-1500rpm', '195Nm@ 1400-2200rpm',\n",
       "       '154.9Nm@ 4200rpm', '114.73Nm@ 4000rpm', '160Nm@ 1500-2750rpm',\n",
       "       '108Nm@ 4400rpm', '190.24nm@ 1750-2250rpm', '200Nm@ 2000-3500rpm',\n",
       "       '420Nm@ 1400-2600rpm', '100Nm@ 2700rpm', '51Nm@ 4000rpm',\n",
       "       '250Nm@ 1250-5300rpm', '132Nm@ 3000rpm', '350Nm@ 1500-2750rpm',\n",
       "       '218Nm@ 4200rpm', '14.9@ 3,000(kgm@ rpm)',\n",
       "       '24@ 1,900-2,750(kgm@ rpm)', '13.5@ 2,500(kgm@ rpm)',\n",
       "       '85Nm@ 3000rpm', '74.5Nm@ 4000rpm', '160Nm@ 1750rpm',\n",
       "       '180.4Nm@ 1750-2500rpm', '230Nm@ 1500-2500rpm',\n",
       "       '113.75Nm@ 4000rpm', '219.66nm@ 1500-2750rpm', '245Nm@ 1750rpm',\n",
       "       '360Nm@ 1400-3200rpm', '320Nm@ 2000rpm', '135 Nm at 2500  rpm ',\n",
       "       '24 KGM at 1900-2750 RPM', '190Nm@ 1750-2250rpm',\n",
       "       '204Nm@ 2000-2750rpm', '14.3@ 1,800-3,000(kgm@ rpm)',\n",
       "       '250nm@ 1500-2750rpm', '125Nm@ 2000rpm', '172Nm@ 4300rpm',\n",
       "       '150Nm@ 1750rpm', '102Nm@ 4000rpm', '85Nm@ 2500rpm',\n",
       "       '8.5@ 2,500(kgm@ rpm)', '180Nm@ 1440-1500rpm', '106.5Nm@ 4400rpm',\n",
       "       '108.5Nm@ 5000rpm', '350Nm@ 1750-2500rpm', '144.15nm@ 4500rpm',\n",
       "       '104Nm@ 4400rpm', '99Nm@ 4500rpm', '200Nm@ 2000rpm',\n",
       "       '280Nm@ 1800-2800rpm', '142.5Nm@ 1750rpm', '140Nm@ 4400rpm',\n",
       "       '115@ 2,500(kgm@ rpm)', '196Nm@ 5000rpm',\n",
       "       '260 Nm at 1800-2200 rpm', '9.8@ 3,000(kgm@ rpm)',\n",
       "       '209Nm@ 2000rpm', '135 Nm at 2500 rpm', '140Nm@ 4200rpm',\n",
       "       '220Nm at 1400-2600 rpm', '48Nm@ 3000rpm', '171Nm@ 1800rpm',\n",
       "       '277.5Nm@ 1700-2200rpm', '215Nm@ 3600rpm', '219.6Nm@ 1750-2750rpm',\n",
       "       '195Nm@ 1440-2200rpm', '13@ 2,500(kgm@ rpm)', '180Nm@ 2000rpm',\n",
       "       '200Nm@ 1400-2200rpm', '380Nm(38.7kgm)@ 2500rpm', '110Nm@ 4400rpm',\n",
       "       '72Nm@ 4388rpm', '263.7Nm@ 2500rpm', '320Nm@ 1600-2800rpm',\n",
       "       '25.5@ 1,500-3,000(kgm@ rpm)', '16.3@ 2,000(kgm@ rpm)',\n",
       "       '190 Nm at 1750 rpm ', '94.14Nm@ 3500rpm', '12@ 3,500(kgm@ rpm)',\n",
       "       '113Nm@ 5000rpm', '280Nm@ 2400-2800rpm', '96Nm@ 3500rpm',\n",
       "       '16@ 2,000(kgm@ rpm)', '320Nm@ 1750-3000rpm', '114.73nm@ 4000rpm',\n",
       "       '320Nm@ 1750-2500rpm', '138nm@ 4400rpm', '190Nm@ 1750rpm',\n",
       "       '789Nm@ 2250rpm', '259.87Nm@ 1900-2750rpm', '205Nm@ 1750rpm',\n",
       "       '436.39Nm@ 1800-2500rpm', '182.5Nm@ 1500-1800rpm',\n",
       "       '90.3Nm@ 4200rpm', '12.5@ 2,500(kgm@ rpm)', '215Nm@ 1750-3000rpm',\n",
       "       '215Nm@ 1750-3000', '305Nm@ 2000rpm', '540Nm@ 2000rpm',\n",
       "       '327Nm@ 2600rpm', '300Nm@ 1600-3000rpm', '620Nm@ 2000-2500rpm',\n",
       "       '450Nm@ 1600-2400rpm', '19@ 1,800(kgm@ rpm)',\n",
       "       '9.2@ 4,200(kgm@ rpm)', '145@ 4,100(kgm@ rpm)',\n",
       "       '51Nm@ 4000+/-500rpm', '110Nm@ 3000rpm', '148Nm@ 3500rpm',\n",
       "       '116Nm@ 4750rpm', '48@ 3,000+/-500(NM@ rpm)', '148Nm@ 4000rpm',\n",
       "       '222Nm@ 4300rpm', '135.3Nm@ 5000rpm', '98Nm@ 1600-3000rpm',\n",
       "       '170Nm@ 1400-4500rpm', '343Nm@ 1400-2800rpm',\n",
       "       '402Nm@ 1600-3000rpm', '113Nm@ 3300rpm', '99.07Nm@ 4500rpm',\n",
       "       '210nm@ 1600-2200rpm', '190 Nm at 1750  rpm ', '32.1kgm@ 2000rpm',\n",
       "       '224nm@ 1500-2750rpm', '400nm@ 1750-2500rpm',\n",
       "       '215Nm@ 1750-2500rpm', '25@ 1,800-2,800(kgm@ rpm)',\n",
       "       '197Nm@ 1750rpm', '136.3Nm@ 4200rpm', '470Nm@ 1750-2500rpm',\n",
       "       '11@ 3,000(kgm@ rpm)', '142Nm@ 4000rpm', '145Nm@ 4100rpm',\n",
       "       '320Nm@ 1500-2800rpm', '123Nm@ 1000-2500rpm',\n",
       "       '218Nm@ 1400-2600rpm', '510@ 1600-2400', '220Nm@ 1500-2750rpm',\n",
       "       '380Nm@ 2000rpm', '104Nm@ 3100rpm', '292Nm@ 2000rpm',\n",
       "       '20@ 3,750(kgm@ rpm)', '46.5@ 1,400-2,800(kgm@ rpm)',\n",
       "       '380Nm@ 2500rpm', '15@ 3,800(kgm@ rpm)', '136Nm@ 4250rpm',\n",
       "       '228Nm@ 4400rpm', '149Nm@ 4500rpm', '187Nm@ 2500rpm',\n",
       "       '146Nm@ 3400rpm', '8.6@ 3,500(kgm@ rpm)', '219.7Nm@ 1750-2750rpm',\n",
       "       '190Nm@ 2000-3000', '450Nm@ 2000rpm', '300Nm@ 2000rpm',\n",
       "       '230Nm@ 1800-2000rpm', '42@ 2,000(kgm@ rpm)',\n",
       "       '110Nm@ 3000-4300rpm', '110(11.2)@ 4800', '330Nm@ 1800rpm',\n",
       "       '225Nm@ 1500-2500rpm', '380Nm@ 1750-2750rpm',\n",
       "       '28.3@ 1,700-2,200(kgm@ rpm)', '259.88Nm@ 1900-2750rpm',\n",
       "       '580Nm@ 1400-3250rpm', '400 Nm /2000 rpm', '127Nm@ 3500rpm',\n",
       "       '300Nm@ 1500-2500rpm', '132.3Nm@ 4000rpm', '113nm@ 4400rpm',\n",
       "       '151NM@ 4850rpm', '153Nm@ 3750-3800rpm', '10.7@ 2,500(kgm@ rpm)',\n",
       "       '124.6Nm@ 3500rpm', '78Nm@ 3500rpm', '219.9Nm@ 1750-2750rpm',\n",
       "       '420.7Nm@ 1800-2500rpm', '130Nm@ 3000rpm', '424Nm@ 2000rpm',\n",
       "       '130@ 2500(kgm@ rpm)', '99.8Nm@ 2700rpm', '113Nm@ 4,500rpm',\n",
       "       '11.2@ 4,400(kgm@ rpm)', '240Nm@ 1850rpm', '16.1@ 4,200(kgm@ rpm)',\n",
       "       '320Nm@ 1750-2700rpm', '115Nm@ 4500rpm', '245Nm@ 4000rpm',\n",
       "       '321Nm@ 1600-2400rpm', '619Nm@ 1600-2400rpm',\n",
       "       '380Nm@ 1750-3000rpm', '560Nm@ 1500rpm', '230Nm@ 1500-2250rpm',\n",
       "       '90Nm@ 2650rpm', '260Nm@ 1800-2200rpm', '600Nm@ 2000rpm',\n",
       "       '259.87nm@ 1500-3000rpm', '16.6@ 4,500(kgm@ rpm)',\n",
       "       '219.66NM@ 1500-2750rpm', '12.5@ 3,000(kgm@ rpm)',\n",
       "       '620Nm@ 1500-2500rpm', '250Nm@ 1500-4500rpm',\n",
       "       '14.9@ 3,400(kgm@ rpm)', '25.5@ 1,900(kgm@ rpm)',\n",
       "       '33.7@ 1,800(kgm@ rpm)', '285Nm@ 2400-4000rpm',\n",
       "       '10.7@ 2,600(kgm@ rpm)', '250Nm@ 1000-2000rpm', '240Nm@ 1750rpm',\n",
       "       '226Nm@ 4400rpm', '510Nm@ 1600-2800rpm', '259.87NM@ 1500-3000rpm',\n",
       "       '155 Nm at 1600-2800 rpm', '240Nm@ 2000rpm', '103Nm@ 4500rpm',\n",
       "       '13.5@ 4,800(kgm@ rpm)', '400Nm@ 1750-2750rpm',\n",
       "       '175Nm@ 1500-4100rpm', '72.9Nm@ 2250rpm', '135.4Nm@ 2500',\n",
       "       '245Nm@ 5000rpm', '57Nm@ 2500rpm', '96Nm@ 2500rpm',\n",
       "       '215nm@ 1750-2500rpm', '10.4@ 3,200(kgm@ rpm)', '128Nm@ 3100rpm',\n",
       "       '102Nm@ 2600rpm', '131Nm@ 4400rpm', '11.4@ 4,000(kgm@ rpm)',\n",
       "       '250Nm@ 4250rpm', '343Nm@ 1600-2800rpm', '185Nm@ 1750-2750rpm',\n",
       "       '12@ 2500(kgm@ rpm)', '12.4@ 2,600(kgm@ rpm)', '170Nm@ 4200rpm',\n",
       "       '176Nm@ 1500rpm', '380NM@ 1800-2800rpm', '250Nm@ 1600-2000rpm',\n",
       "       '24.5@ 3,500-4,500(kgm@ rpm)', '22.9@ 1,950-4,700(kgm@ rpm)',\n",
       "       '113Nm@ 4400rpm', '121Nm@ 2800rpm', '210 / 1900',\n",
       "       '250Nm@ 1250-5000rpm', '400Nm@ 175-2750rpm', '350Nm@ 1500-3500rpm',\n",
       "       '175nm@ 1750-4000rpm', '115@ 2500(kgm@ rpm)', '110Nm@ 4500rpm',\n",
       "       '190Nm@ 2000-3000rpm', '106Nm@ 2200rpm',\n",
       "       '21.4@ 1,750-4,600(kgm@ rpm)', '96Nm@ 3000rpm',\n",
       "       '23.6@ 4,250(kgm@ rpm)', '11.3kgm@ 4700rpm', '450Nm@ 1750-2500rpm',\n",
       "       '35.7@ 1,750-3,000(kgm@ rpm)', '6@ 2,500(kgm@ rpm)',\n",
       "       '13.9 kgm at 4200 rpm', '320Nm@ 1400-4100rpm',\n",
       "       '150Nm@ 1700-4500rpm', '113.8Nm@ 4000rpm', '110@ 3,000(kgm@ rpm)',\n",
       "       '151Nm@ 2400rpm', '62Nm@ 2500rpm', '18@ 1,600-2,200(kgm@ rpm)',\n",
       "       '83Nm@ 3000rpm', '124.5Nm@ 3500rpm', '20@ 4,700(kgm@ rpm)',\n",
       "       '300Nm@ 1600-4000rpm', '171.6Nm@ 1500-4000rpm',\n",
       "       '21.4@ 1,900(kgm@ rpm)', '190@ 21,800(kgm@ rpm)',\n",
       "       '5.7@ 2,500(kgm@ rpm)', '88.4Nm@ 4200rpm',\n",
       "       '250 Nm at 1,500-3,000 rpm', '340nm@ 1750-3000rpm',\n",
       "       '36.6@ 1,750-2,500(kgm@ rpm)', '12.5kgm@ 3500rpm',\n",
       "       '6.1@ 3,000(kgm@ rpm)', '110Nm@ 4000rpm', '350nm@ 1800-2600rpm',\n",
       "       '175nm@ 1500-4100rpm', '4.8kgm@ 3000rpm', '355Nm@ 4500rpm',\n",
       "       '51@ 1,750-3,000(kgm@ rpm)', '119Nm@ 4250rpm',\n",
       "       '410Nm@ 1600-2800rpm', '174Nm@ 4300rpm', '99.1Nm@ 4500rpm',\n",
       "       '385Nm@ 1600-2500rpm', '180 Nm at 2000rpm', '190 Nm at 1750 rpm',\n",
       "       '53@ 2,000-2,750(kgm@ rpm)', '360Nm@ 1400-2600rpm',\n",
       "       '420Nm@ 2000rpm', '124Nm@ 3500rpm', '17.5@ 4,300(kgm@ rpm)',\n",
       "       '360Nm@ 2000rpm', '145Nm@ 3750rpm', '85Nm@ 3500rpm',\n",
       "       '190Nm@ 4200rpm', '190 Nm at 2000rpm', '13.5@ 2500(kgm@ rpm)',\n",
       "       '250nm@ 1500-3000rpm', '159.8Nm@ 1500-2750rpm', '500Nm@ 2000rpm',\n",
       "       '333Nm@ 1600-3200rpm', '400nm@ 2800rpm',\n",
       "       '33@ 2,000-2,680(kgm@ rpm)', '10.2@ 2,600(kgm@ rpm)', '480Nm',\n",
       "       '190Nm@ 4300rpm', '320Nm@ 1800-2800rpm', '380Nm@ 1750rpm',\n",
       "       '250.06nm@ 1500-2750rpm', '90nm@ 3500rpm', '190Nm@ 3700rpm',\n",
       "       '436.4Nm@ 1800-2500rpm', '96  Nm at 3000  rpm '], dtype=object)"
      ]
     },
     "execution_count": 73,
     "metadata": {},
     "output_type": "execute_result"
    }
   ],
   "source": [
    "df['torque'].unique()"
   ]
  },
  {
   "cell_type": "code",
   "execution_count": 75,
   "id": "dddd5ff8-51c0-42f3-bf3a-0558289a03f2",
   "metadata": {},
   "outputs": [
    {
     "data": {
      "text/plain": [
       "count               7906\n",
       "unique               441\n",
       "top       190Nm@ 2000rpm\n",
       "freq                 530\n",
       "Name: torque, dtype: object"
      ]
     },
     "execution_count": 75,
     "metadata": {},
     "output_type": "execute_result"
    }
   ],
   "source": [
    "df['torque'].describe()"
   ]
  },
  {
   "cell_type": "markdown",
   "id": "7175c073-522e-4b89-a7a4-db859bec8dd9",
   "metadata": {},
   "source": [
    "# Observations:\n",
    "\n",
    "Based on the above, we can see that the data format in this column is not uniform and includes both numerical and text data types. It contains 3 different values: Nm for neuton meter, rpm for revolution per minute and kgm which is another unit of measurement equivalent to Nm. To handle this we will need to extract each value seperately into 2 different column nm/ kgm and rpm."
   ]
  },
  {
   "cell_type": "markdown",
   "id": "b60f1abf-c411-4a7a-87f3-35071521bb56",
   "metadata": {},
   "source": [
    "# 13. seats"
   ]
  },
  {
   "cell_type": "code",
   "execution_count": 79,
   "id": "79087af3-18f1-4ead-8769-2dc0cf62130d",
   "metadata": {},
   "outputs": [
    {
     "data": {
      "text/plain": [
       "count    7907.000000\n",
       "mean        5.416719\n",
       "std         0.959588\n",
       "min         2.000000\n",
       "25%         5.000000\n",
       "50%         5.000000\n",
       "75%         5.000000\n",
       "max        14.000000\n",
       "Name: seats, dtype: float64"
      ]
     },
     "execution_count": 79,
     "metadata": {},
     "output_type": "execute_result"
    }
   ],
   "source": [
    "df['seats'].describe()"
   ]
  },
  {
   "cell_type": "code",
   "execution_count": 81,
   "id": "1306fbc9-bb2d-4fa0-bb0e-f2bbb0ff3692",
   "metadata": {},
   "outputs": [
    {
     "data": {
      "text/plain": [
       "0    5.0\n",
       "Name: seats, dtype: float64"
      ]
     },
     "execution_count": 81,
     "metadata": {},
     "output_type": "execute_result"
    }
   ],
   "source": [
    "df['seats'].mode()"
   ]
  },
  {
   "cell_type": "markdown",
   "id": "187ded0e-37ea-4ba7-8b00-aea6b1f1cc83",
   "metadata": {},
   "source": [
    "# Observations:\n",
    "\n",
    "Based on the above we can see that the minimum number of seats in a car on this dataset is 2 and the maximum is 14. But most cars are 5 seats"
   ]
  },
  {
   "cell_type": "markdown",
   "id": "cbf751ee-ee05-47e6-8956-538177104737",
   "metadata": {},
   "source": [
    "# Column handling \n",
    "\n",
    "For the purposes of using multiple data analysis tools studied as part of the Kayfa scholarship in data science, I chose to perform this part of the data analysis process using PowerQuery. \n",
    "\n",
    "# name:\n",
    "I used the column split function with space as a delimeter. I then labeled the first of the split columns as a make, the second as a model, and removed the rest. The only make in the data where this did not work was 'Land Rover', but luckily there were only 4 rows, so I was able to handle them manually on Excel.\n",
    "\n",
    "# mileage, engine, and max_power: \n",
    "I used the column split function with Digit to Non-Digit instead of a delimeter. I then kept the digit values and removed the texts.\n",
    "\n",
    "# torque: \n",
    "The data in this column were not uniform, so I used the column split function with Digit to Non-Digit at the start and then handled each case individually. \n",
    "\n",
    "Case 1- decimal numbers: because the data type is text, the values after the delimeter were not split in the previous step. To solve this, I created a conditional column containing only the values begining with a decimal point. I then removed the decimal point using trim function, and merged this new column with the original numerical column with (.) as a seperator. I finally removed the (.) from numbers that were not decimal using trim function .\n",
    "\n",
    "Case 2- two values given for rpm: followed the same steps as the previous case with the dash seperating the values, but instead of merging them in a column normally used the statiscal function to create a column with the average of these two values.\n",
    "\n",
    "I finally, relabled the new columns as Nm/kgm and rpm.\n",
    "\n",
    "# country:\n",
    "I created another column based on my research to specify the country of origin of each make as an extra feature."
   ]
  },
  {
   "cell_type": "markdown",
   "id": "c5627619-d7e8-487f-a256-5b1cd485e2d6",
   "metadata": {},
   "source": [
    "# Importing the updated dataset"
   ]
  },
  {
   "cell_type": "code",
   "execution_count": 86,
   "id": "a30e6679-33a4-4434-9cab-8678ad8fb1d8",
   "metadata": {},
   "outputs": [],
   "source": [
    "updated_df = pd.read_csv('reg_car_selling_updated.csv')"
   ]
  },
  {
   "cell_type": "code",
   "execution_count": 88,
   "id": "05d97f79-3468-4185-a76f-e49e62498c54",
   "metadata": {},
   "outputs": [
    {
     "data": {
      "text/html": [
       "<div>\n",
       "<style scoped>\n",
       "    .dataframe tbody tr th:only-of-type {\n",
       "        vertical-align: middle;\n",
       "    }\n",
       "\n",
       "    .dataframe tbody tr th {\n",
       "        vertical-align: top;\n",
       "    }\n",
       "\n",
       "    .dataframe thead th {\n",
       "        text-align: right;\n",
       "    }\n",
       "</style>\n",
       "<table border=\"1\" class=\"dataframe\">\n",
       "  <thead>\n",
       "    <tr style=\"text-align: right;\">\n",
       "      <th></th>\n",
       "      <th>make</th>\n",
       "      <th>model</th>\n",
       "      <th>year</th>\n",
       "      <th>selling_price</th>\n",
       "      <th>km_driven</th>\n",
       "      <th>fuel</th>\n",
       "      <th>seller_type</th>\n",
       "      <th>transmission</th>\n",
       "      <th>owner</th>\n",
       "      <th>mileage</th>\n",
       "      <th>engine</th>\n",
       "      <th>max_power</th>\n",
       "      <th>Nm/kgm</th>\n",
       "      <th>rpm</th>\n",
       "      <th>seats</th>\n",
       "      <th>country</th>\n",
       "    </tr>\n",
       "  </thead>\n",
       "  <tbody>\n",
       "    <tr>\n",
       "      <th>0</th>\n",
       "      <td>Maruti</td>\n",
       "      <td>Swift</td>\n",
       "      <td>2014</td>\n",
       "      <td>450000</td>\n",
       "      <td>145500</td>\n",
       "      <td>Diesel</td>\n",
       "      <td>Individual</td>\n",
       "      <td>Manual</td>\n",
       "      <td>First Owner</td>\n",
       "      <td>23.40</td>\n",
       "      <td>1248.0</td>\n",
       "      <td>74.00</td>\n",
       "      <td>190.0</td>\n",
       "      <td>NaN</td>\n",
       "      <td>5.0</td>\n",
       "      <td>India</td>\n",
       "    </tr>\n",
       "    <tr>\n",
       "      <th>1</th>\n",
       "      <td>Skoda</td>\n",
       "      <td>Rapid</td>\n",
       "      <td>2014</td>\n",
       "      <td>370000</td>\n",
       "      <td>120000</td>\n",
       "      <td>Diesel</td>\n",
       "      <td>Individual</td>\n",
       "      <td>Manual</td>\n",
       "      <td>Second Owner</td>\n",
       "      <td>21.14</td>\n",
       "      <td>1498.0</td>\n",
       "      <td>103.52</td>\n",
       "      <td>250.0</td>\n",
       "      <td>2500.0</td>\n",
       "      <td>5.0</td>\n",
       "      <td>Czech Republic</td>\n",
       "    </tr>\n",
       "    <tr>\n",
       "      <th>2</th>\n",
       "      <td>Honda</td>\n",
       "      <td>City</td>\n",
       "      <td>2006</td>\n",
       "      <td>158000</td>\n",
       "      <td>140000</td>\n",
       "      <td>Petrol</td>\n",
       "      <td>Individual</td>\n",
       "      <td>Manual</td>\n",
       "      <td>Third Owner</td>\n",
       "      <td>17.70</td>\n",
       "      <td>1497.0</td>\n",
       "      <td>78.00</td>\n",
       "      <td>12.1</td>\n",
       "      <td>2700.0</td>\n",
       "      <td>5.0</td>\n",
       "      <td>Japan</td>\n",
       "    </tr>\n",
       "    <tr>\n",
       "      <th>3</th>\n",
       "      <td>Hyundai</td>\n",
       "      <td>i20</td>\n",
       "      <td>2010</td>\n",
       "      <td>225000</td>\n",
       "      <td>127000</td>\n",
       "      <td>Diesel</td>\n",
       "      <td>Individual</td>\n",
       "      <td>Manual</td>\n",
       "      <td>First Owner</td>\n",
       "      <td>23.00</td>\n",
       "      <td>1396.0</td>\n",
       "      <td>90.00</td>\n",
       "      <td>22.0</td>\n",
       "      <td>2250.0</td>\n",
       "      <td>5.0</td>\n",
       "      <td>South Korea</td>\n",
       "    </tr>\n",
       "    <tr>\n",
       "      <th>4</th>\n",
       "      <td>Maruti</td>\n",
       "      <td>Swift</td>\n",
       "      <td>2007</td>\n",
       "      <td>130000</td>\n",
       "      <td>120000</td>\n",
       "      <td>Petrol</td>\n",
       "      <td>Individual</td>\n",
       "      <td>Manual</td>\n",
       "      <td>First Owner</td>\n",
       "      <td>16.10</td>\n",
       "      <td>1298.0</td>\n",
       "      <td>88.20</td>\n",
       "      <td>11.0</td>\n",
       "      <td>4500.0</td>\n",
       "      <td>5.0</td>\n",
       "      <td>India</td>\n",
       "    </tr>\n",
       "  </tbody>\n",
       "</table>\n",
       "</div>"
      ],
      "text/plain": [
       "      make  model  year  selling_price  km_driven    fuel seller_type  \\\n",
       "0   Maruti  Swift  2014         450000     145500  Diesel  Individual   \n",
       "1    Skoda  Rapid  2014         370000     120000  Diesel  Individual   \n",
       "2    Honda   City  2006         158000     140000  Petrol  Individual   \n",
       "3  Hyundai    i20  2010         225000     127000  Diesel  Individual   \n",
       "4   Maruti  Swift  2007         130000     120000  Petrol  Individual   \n",
       "\n",
       "  transmission         owner  mileage  engine  max_power  Nm/kgm     rpm  \\\n",
       "0       Manual   First Owner    23.40  1248.0      74.00   190.0     NaN   \n",
       "1       Manual  Second Owner    21.14  1498.0     103.52   250.0  2500.0   \n",
       "2       Manual   Third Owner    17.70  1497.0      78.00    12.1  2700.0   \n",
       "3       Manual   First Owner    23.00  1396.0      90.00    22.0  2250.0   \n",
       "4       Manual   First Owner    16.10  1298.0      88.20    11.0  4500.0   \n",
       "\n",
       "   seats         country  \n",
       "0    5.0           India  \n",
       "1    5.0  Czech Republic  \n",
       "2    5.0           Japan  \n",
       "3    5.0     South Korea  \n",
       "4    5.0           India  "
      ]
     },
     "execution_count": 88,
     "metadata": {},
     "output_type": "execute_result"
    }
   ],
   "source": [
    "updated_df.head()"
   ]
  },
  {
   "cell_type": "code",
   "execution_count": 90,
   "id": "7ef58a29-7da0-44ee-9dce-598a51d4b6f3",
   "metadata": {},
   "outputs": [
    {
     "name": "stdout",
     "output_type": "stream",
     "text": [
      "<class 'pandas.core.frame.DataFrame'>\n",
      "RangeIndex: 8128 entries, 0 to 8127\n",
      "Data columns (total 16 columns):\n",
      " #   Column         Non-Null Count  Dtype  \n",
      "---  ------         --------------  -----  \n",
      " 0   make           8128 non-null   object \n",
      " 1   model          8128 non-null   object \n",
      " 2   year           8128 non-null   int64  \n",
      " 3   selling_price  8128 non-null   int64  \n",
      " 4   km_driven      8128 non-null   int64  \n",
      " 5   fuel           8128 non-null   object \n",
      " 6   seller_type    8128 non-null   object \n",
      " 7   transmission   8128 non-null   object \n",
      " 8   owner          8128 non-null   object \n",
      " 9   mileage        7907 non-null   float64\n",
      " 10  engine         7907 non-null   float64\n",
      " 11  max_power      7912 non-null   float64\n",
      " 12  Nm/kgm         7906 non-null   float64\n",
      " 13  rpm            3759 non-null   float64\n",
      " 14  seats          7907 non-null   float64\n",
      " 15  country        8122 non-null   object \n",
      "dtypes: float64(6), int64(3), object(7)\n",
      "memory usage: 1016.1+ KB\n"
     ]
    }
   ],
   "source": [
    "updated_df.info()"
   ]
  },
  {
   "cell_type": "markdown",
   "id": "be85733b-e123-468a-8f29-acc70e1cd11d",
   "metadata": {},
   "source": [
    "# Handling missing values"
   ]
  },
  {
   "cell_type": "code",
   "execution_count": 93,
   "id": "95a458c7-a60e-4513-a397-2c774104d3d7",
   "metadata": {},
   "outputs": [
    {
     "data": {
      "text/plain": [
       "make                0\n",
       "model               0\n",
       "year                0\n",
       "selling_price       0\n",
       "km_driven           0\n",
       "fuel                0\n",
       "seller_type         0\n",
       "transmission        0\n",
       "owner               0\n",
       "mileage           221\n",
       "engine            221\n",
       "max_power         216\n",
       "Nm/kgm            222\n",
       "rpm              4369\n",
       "seats             221\n",
       "country             6\n",
       "dtype: int64"
      ]
     },
     "execution_count": 93,
     "metadata": {},
     "output_type": "execute_result"
    }
   ],
   "source": [
    "updated_df.isnull().sum()"
   ]
  },
  {
   "cell_type": "markdown",
   "id": "440dd7fd-2a37-41be-b89e-2f658ad8916e",
   "metadata": {},
   "source": [
    "Filling missing values with mean "
   ]
  },
  {
   "cell_type": "code",
   "execution_count": 96,
   "id": "0dc5378a-8c0a-40dc-90ab-483c81711681",
   "metadata": {},
   "outputs": [],
   "source": [
    "updated_df.fillna({'mileage': updated_df['mileage'].mean()}, inplace=True)\n",
    "updated_df.fillna({'engine': updated_df['engine'].mean()}, inplace=True)\n",
    "updated_df.fillna({'max_power': updated_df['max_power'].mean()}, inplace=True)\n",
    "updated_df.fillna({'Nm/kgm': updated_df['Nm/kgm'].mean()}, inplace=True)\n",
    "updated_df.fillna({'rpm': updated_df['rpm'].mean()}, inplace=True)\n",
    "updated_df.fillna({'seats': updated_df['seats'].mean()}, inplace=True)"
   ]
  },
  {
   "cell_type": "code",
   "execution_count": 98,
   "id": "5b8e5263-ba33-47fc-a4ca-376f835c3eae",
   "metadata": {},
   "outputs": [
    {
     "data": {
      "text/plain": [
       "make             0\n",
       "model            0\n",
       "year             0\n",
       "selling_price    0\n",
       "km_driven        0\n",
       "fuel             0\n",
       "seller_type      0\n",
       "transmission     0\n",
       "owner            0\n",
       "mileage          0\n",
       "engine           0\n",
       "max_power        0\n",
       "Nm/kgm           0\n",
       "rpm              0\n",
       "seats            0\n",
       "country          6\n",
       "dtype: int64"
      ]
     },
     "execution_count": 98,
     "metadata": {},
     "output_type": "execute_result"
    }
   ],
   "source": [
    "updated_df.isnull().sum()"
   ]
  },
  {
   "cell_type": "markdown",
   "id": "7e31deaa-5e31-425f-8746-c459d1b9bc8c",
   "metadata": {},
   "source": [
    "# Handling duplicated values"
   ]
  },
  {
   "cell_type": "code",
   "execution_count": 101,
   "id": "eaf3cbe9-4cfa-4cdd-9f4a-f68dcdd6db9f",
   "metadata": {},
   "outputs": [
    {
     "data": {
      "text/plain": [
       "1220"
      ]
     },
     "execution_count": 101,
     "metadata": {},
     "output_type": "execute_result"
    }
   ],
   "source": [
    "updated_df.duplicated().sum()"
   ]
  },
  {
   "cell_type": "code",
   "execution_count": 103,
   "id": "901d36e5-6a4e-48ab-a3c8-934fb0a28c47",
   "metadata": {},
   "outputs": [
    {
     "data": {
      "text/html": [
       "<div>\n",
       "<style scoped>\n",
       "    .dataframe tbody tr th:only-of-type {\n",
       "        vertical-align: middle;\n",
       "    }\n",
       "\n",
       "    .dataframe tbody tr th {\n",
       "        vertical-align: top;\n",
       "    }\n",
       "\n",
       "    .dataframe thead th {\n",
       "        text-align: right;\n",
       "    }\n",
       "</style>\n",
       "<table border=\"1\" class=\"dataframe\">\n",
       "  <thead>\n",
       "    <tr style=\"text-align: right;\">\n",
       "      <th></th>\n",
       "      <th>make</th>\n",
       "      <th>model</th>\n",
       "      <th>year</th>\n",
       "      <th>selling_price</th>\n",
       "      <th>km_driven</th>\n",
       "      <th>fuel</th>\n",
       "      <th>seller_type</th>\n",
       "      <th>transmission</th>\n",
       "      <th>owner</th>\n",
       "      <th>mileage</th>\n",
       "      <th>engine</th>\n",
       "      <th>max_power</th>\n",
       "      <th>Nm/kgm</th>\n",
       "      <th>rpm</th>\n",
       "      <th>seats</th>\n",
       "      <th>country</th>\n",
       "    </tr>\n",
       "  </thead>\n",
       "  <tbody>\n",
       "    <tr>\n",
       "      <th>1977</th>\n",
       "      <td>Audi</td>\n",
       "      <td>Q3</td>\n",
       "      <td>2017</td>\n",
       "      <td>2825000</td>\n",
       "      <td>22000</td>\n",
       "      <td>Diesel</td>\n",
       "      <td>Dealer</td>\n",
       "      <td>Automatic</td>\n",
       "      <td>First Owner</td>\n",
       "      <td>15.73</td>\n",
       "      <td>1968.0</td>\n",
       "      <td>174.33</td>\n",
       "      <td>380.0</td>\n",
       "      <td>2500.000000</td>\n",
       "      <td>5.0</td>\n",
       "      <td>Germany</td>\n",
       "    </tr>\n",
       "    <tr>\n",
       "      <th>131</th>\n",
       "      <td>Audi</td>\n",
       "      <td>Q5</td>\n",
       "      <td>2018</td>\n",
       "      <td>3975000</td>\n",
       "      <td>31800</td>\n",
       "      <td>Diesel</td>\n",
       "      <td>Dealer</td>\n",
       "      <td>Automatic</td>\n",
       "      <td>First Owner</td>\n",
       "      <td>17.01</td>\n",
       "      <td>1968.0</td>\n",
       "      <td>188.00</td>\n",
       "      <td>400.0</td>\n",
       "      <td>3000.000000</td>\n",
       "      <td>5.0</td>\n",
       "      <td>Germany</td>\n",
       "    </tr>\n",
       "    <tr>\n",
       "      <th>5245</th>\n",
       "      <td>Audi</td>\n",
       "      <td>Q5</td>\n",
       "      <td>2018</td>\n",
       "      <td>3975000</td>\n",
       "      <td>31800</td>\n",
       "      <td>Diesel</td>\n",
       "      <td>Dealer</td>\n",
       "      <td>Automatic</td>\n",
       "      <td>First Owner</td>\n",
       "      <td>17.01</td>\n",
       "      <td>1968.0</td>\n",
       "      <td>188.00</td>\n",
       "      <td>400.0</td>\n",
       "      <td>3000.000000</td>\n",
       "      <td>5.0</td>\n",
       "      <td>Germany</td>\n",
       "    </tr>\n",
       "    <tr>\n",
       "      <th>7324</th>\n",
       "      <td>Audi</td>\n",
       "      <td>Q3</td>\n",
       "      <td>2017</td>\n",
       "      <td>2825000</td>\n",
       "      <td>22000</td>\n",
       "      <td>Diesel</td>\n",
       "      <td>Dealer</td>\n",
       "      <td>Automatic</td>\n",
       "      <td>First Owner</td>\n",
       "      <td>15.73</td>\n",
       "      <td>1968.0</td>\n",
       "      <td>174.33</td>\n",
       "      <td>380.0</td>\n",
       "      <td>2500.000000</td>\n",
       "      <td>5.0</td>\n",
       "      <td>Germany</td>\n",
       "    </tr>\n",
       "    <tr>\n",
       "      <th>3236</th>\n",
       "      <td>Audi</td>\n",
       "      <td>Q5</td>\n",
       "      <td>2018</td>\n",
       "      <td>3975000</td>\n",
       "      <td>31800</td>\n",
       "      <td>Diesel</td>\n",
       "      <td>Dealer</td>\n",
       "      <td>Automatic</td>\n",
       "      <td>First Owner</td>\n",
       "      <td>17.01</td>\n",
       "      <td>1968.0</td>\n",
       "      <td>188.00</td>\n",
       "      <td>400.0</td>\n",
       "      <td>3000.000000</td>\n",
       "      <td>5.0</td>\n",
       "      <td>Germany</td>\n",
       "    </tr>\n",
       "    <tr>\n",
       "      <th>...</th>\n",
       "      <td>...</td>\n",
       "      <td>...</td>\n",
       "      <td>...</td>\n",
       "      <td>...</td>\n",
       "      <td>...</td>\n",
       "      <td>...</td>\n",
       "      <td>...</td>\n",
       "      <td>...</td>\n",
       "      <td>...</td>\n",
       "      <td>...</td>\n",
       "      <td>...</td>\n",
       "      <td>...</td>\n",
       "      <td>...</td>\n",
       "      <td>...</td>\n",
       "      <td>...</td>\n",
       "      <td>...</td>\n",
       "    </tr>\n",
       "    <tr>\n",
       "      <th>4252</th>\n",
       "      <td>Volvo</td>\n",
       "      <td>V40</td>\n",
       "      <td>2018</td>\n",
       "      <td>2475000</td>\n",
       "      <td>2000</td>\n",
       "      <td>Diesel</td>\n",
       "      <td>Dealer</td>\n",
       "      <td>Automatic</td>\n",
       "      <td>First Owner</td>\n",
       "      <td>16.80</td>\n",
       "      <td>1984.0</td>\n",
       "      <td>150.00</td>\n",
       "      <td>350.0</td>\n",
       "      <td>2750.000000</td>\n",
       "      <td>5.0</td>\n",
       "      <td>Sweden</td>\n",
       "    </tr>\n",
       "    <tr>\n",
       "      <th>5087</th>\n",
       "      <td>Volvo</td>\n",
       "      <td>XC40</td>\n",
       "      <td>2019</td>\n",
       "      <td>3800000</td>\n",
       "      <td>20000</td>\n",
       "      <td>Diesel</td>\n",
       "      <td>Individual</td>\n",
       "      <td>Automatic</td>\n",
       "      <td>First Owner</td>\n",
       "      <td>18.00</td>\n",
       "      <td>1969.0</td>\n",
       "      <td>190.00</td>\n",
       "      <td>400.0</td>\n",
       "      <td>2811.091248</td>\n",
       "      <td>5.0</td>\n",
       "      <td>Sweden</td>\n",
       "    </tr>\n",
       "    <tr>\n",
       "      <th>4259</th>\n",
       "      <td>Volvo</td>\n",
       "      <td>XC40</td>\n",
       "      <td>2019</td>\n",
       "      <td>3800000</td>\n",
       "      <td>20000</td>\n",
       "      <td>Diesel</td>\n",
       "      <td>Individual</td>\n",
       "      <td>Automatic</td>\n",
       "      <td>First Owner</td>\n",
       "      <td>18.00</td>\n",
       "      <td>1969.0</td>\n",
       "      <td>190.00</td>\n",
       "      <td>400.0</td>\n",
       "      <td>2811.091248</td>\n",
       "      <td>5.0</td>\n",
       "      <td>Sweden</td>\n",
       "    </tr>\n",
       "    <tr>\n",
       "      <th>4833</th>\n",
       "      <td>Volvo</td>\n",
       "      <td>V40</td>\n",
       "      <td>2018</td>\n",
       "      <td>2475000</td>\n",
       "      <td>2000</td>\n",
       "      <td>Diesel</td>\n",
       "      <td>Dealer</td>\n",
       "      <td>Automatic</td>\n",
       "      <td>First Owner</td>\n",
       "      <td>16.80</td>\n",
       "      <td>1984.0</td>\n",
       "      <td>150.00</td>\n",
       "      <td>350.0</td>\n",
       "      <td>2750.000000</td>\n",
       "      <td>5.0</td>\n",
       "      <td>Sweden</td>\n",
       "    </tr>\n",
       "    <tr>\n",
       "      <th>6977</th>\n",
       "      <td>Volvo</td>\n",
       "      <td>V40</td>\n",
       "      <td>2018</td>\n",
       "      <td>2475000</td>\n",
       "      <td>2000</td>\n",
       "      <td>Diesel</td>\n",
       "      <td>Dealer</td>\n",
       "      <td>Automatic</td>\n",
       "      <td>First Owner</td>\n",
       "      <td>16.80</td>\n",
       "      <td>1984.0</td>\n",
       "      <td>150.00</td>\n",
       "      <td>350.0</td>\n",
       "      <td>2750.000000</td>\n",
       "      <td>5.0</td>\n",
       "      <td>Sweden</td>\n",
       "    </tr>\n",
       "  </tbody>\n",
       "</table>\n",
       "<p>1858 rows × 16 columns</p>\n",
       "</div>"
      ],
      "text/plain": [
       "       make model  year  selling_price  km_driven    fuel seller_type  \\\n",
       "1977   Audi    Q3  2017        2825000      22000  Diesel      Dealer   \n",
       "131    Audi    Q5  2018        3975000      31800  Diesel      Dealer   \n",
       "5245   Audi    Q5  2018        3975000      31800  Diesel      Dealer   \n",
       "7324   Audi    Q3  2017        2825000      22000  Diesel      Dealer   \n",
       "3236   Audi    Q5  2018        3975000      31800  Diesel      Dealer   \n",
       "...     ...   ...   ...            ...        ...     ...         ...   \n",
       "4252  Volvo   V40  2018        2475000       2000  Diesel      Dealer   \n",
       "5087  Volvo  XC40  2019        3800000      20000  Diesel  Individual   \n",
       "4259  Volvo  XC40  2019        3800000      20000  Diesel  Individual   \n",
       "4833  Volvo   V40  2018        2475000       2000  Diesel      Dealer   \n",
       "6977  Volvo   V40  2018        2475000       2000  Diesel      Dealer   \n",
       "\n",
       "     transmission        owner  mileage  engine  max_power  Nm/kgm  \\\n",
       "1977    Automatic  First Owner    15.73  1968.0     174.33   380.0   \n",
       "131     Automatic  First Owner    17.01  1968.0     188.00   400.0   \n",
       "5245    Automatic  First Owner    17.01  1968.0     188.00   400.0   \n",
       "7324    Automatic  First Owner    15.73  1968.0     174.33   380.0   \n",
       "3236    Automatic  First Owner    17.01  1968.0     188.00   400.0   \n",
       "...           ...          ...      ...     ...        ...     ...   \n",
       "4252    Automatic  First Owner    16.80  1984.0     150.00   350.0   \n",
       "5087    Automatic  First Owner    18.00  1969.0     190.00   400.0   \n",
       "4259    Automatic  First Owner    18.00  1969.0     190.00   400.0   \n",
       "4833    Automatic  First Owner    16.80  1984.0     150.00   350.0   \n",
       "6977    Automatic  First Owner    16.80  1984.0     150.00   350.0   \n",
       "\n",
       "              rpm  seats  country  \n",
       "1977  2500.000000    5.0  Germany  \n",
       "131   3000.000000    5.0  Germany  \n",
       "5245  3000.000000    5.0  Germany  \n",
       "7324  2500.000000    5.0  Germany  \n",
       "3236  3000.000000    5.0  Germany  \n",
       "...           ...    ...      ...  \n",
       "4252  2750.000000    5.0   Sweden  \n",
       "5087  2811.091248    5.0   Sweden  \n",
       "4259  2811.091248    5.0   Sweden  \n",
       "4833  2750.000000    5.0   Sweden  \n",
       "6977  2750.000000    5.0   Sweden  \n",
       "\n",
       "[1858 rows x 16 columns]"
      ]
     },
     "execution_count": 103,
     "metadata": {},
     "output_type": "execute_result"
    }
   ],
   "source": [
    "updated_df[updated_df.duplicated(keep=False)].sort_values('make')"
   ]
  },
  {
   "cell_type": "markdown",
   "id": "26df3a77-298c-42a7-a286-3d75c0b84b81",
   "metadata": {},
   "source": [
    "Dropping duplicated values"
   ]
  },
  {
   "cell_type": "code",
   "execution_count": 106,
   "id": "e9162f70-9c77-42af-8fc4-fb4e4d1f6f5a",
   "metadata": {},
   "outputs": [],
   "source": [
    "updated_df= updated_df.drop_duplicates()"
   ]
  },
  {
   "cell_type": "code",
   "execution_count": 108,
   "id": "efce48f9-b171-4277-b7c9-b4752da6e336",
   "metadata": {},
   "outputs": [
    {
     "data": {
      "text/plain": [
       "0"
      ]
     },
     "execution_count": 108,
     "metadata": {},
     "output_type": "execute_result"
    }
   ],
   "source": [
    "updated_df.duplicated().sum()"
   ]
  },
  {
   "cell_type": "markdown",
   "id": "d817a370-4a4e-4e4c-bc39-0d7c0f1fa33a",
   "metadata": {},
   "source": [
    "# Handling outliers"
   ]
  },
  {
   "cell_type": "markdown",
   "id": "cc8580a3-313f-4abe-8c25-ed3da8b9682a",
   "metadata": {},
   "source": [
    "# Numerical data"
   ]
  },
  {
   "cell_type": "code",
   "execution_count": 112,
   "id": "5740eb2f-3505-4a5c-aaa9-c60366cb864e",
   "metadata": {},
   "outputs": [
    {
     "data": {
      "image/png": "[encoded data removed]",
      "text/plain": [
       "<Figure size 2000x1000 with 1 Axes>"
      ]
     },
     "metadata": {},
     "output_type": "display_data"
    }
   ],
   "source": [
    "updated_df.boxplot(figsize = (20,10))\n",
    "plt.show()"
   ]
  },
  {
   "cell_type": "markdown",
   "id": "50bbb173-93f4-4545-8c47-5c019fa7c6c8",
   "metadata": {},
   "source": [
    "# 1. Selling price"
   ]
  },
  {
   "cell_type": "code",
   "execution_count": 114,
   "id": "2855934e-258d-48b8-8bdc-7cdf1e623ac3",
   "metadata": {},
   "outputs": [
    {
     "data": {
      "text/plain": [
       "count    6.908000e+03\n",
       "mean     5.180221e+05\n",
       "std      5.225202e+05\n",
       "min      2.999900e+04\n",
       "25%      2.500000e+05\n",
       "50%      4.000000e+05\n",
       "75%      6.350000e+05\n",
       "max      1.000000e+07\n",
       "Name: selling_price, dtype: float64"
      ]
     },
     "execution_count": 114,
     "metadata": {},
     "output_type": "execute_result"
    }
   ],
   "source": [
    "price_statistics = updated_df['selling_price'].describe()\n",
    "price_statistics"
   ]
  },
  {
   "cell_type": "code",
   "execution_count": 115,
   "id": "4260e4d1-8e7c-4d92-8ef6-756cbf242b34",
   "metadata": {},
   "outputs": [],
   "source": [
    "Q1 = price_statistics['25%']\n",
    "Q3 = price_statistics['75%']\n",
    "IQR = Q3 - Q1\n",
    "lower_bound = Q1 - (1.5 * IQR)\n",
    "upper_bound = Q3 + (1.5 * IQR)"
   ]
  },
  {
   "cell_type": "markdown",
   "id": "89957548-c9b4-47e0-8979-93bccc6d8d3c",
   "metadata": {},
   "source": [
    "Removing selling price outliers using IQR"
   ]
  },
  {
   "cell_type": "code",
   "execution_count": 120,
   "id": "00494e18-d8f9-4f8d-9fd4-b34eec6b276c",
   "metadata": {},
   "outputs": [],
   "source": [
    "updated_df= updated_df[(updated_df['selling_price'] >= lower_bound) & (updated_df['selling_price'] <= upper_bound)]"
   ]
  },
  {
   "cell_type": "markdown",
   "id": "f75bac71-c2a3-4978-adcd-e2dcadc3b938",
   "metadata": {},
   "source": [
    "# 2. Kilometers driven"
   ]
  },
  {
   "cell_type": "code",
   "execution_count": 123,
   "id": "5ce412cc-7e2a-4a4d-a66d-c1a326a6bb4c",
   "metadata": {},
   "outputs": [
    {
     "data": {
      "text/plain": [
       "count    6.580000e+03\n",
       "mean     7.531601e+04\n",
       "std      5.899026e+04\n",
       "min      1.000000e+00\n",
       "25%      4.000000e+04\n",
       "50%      7.000000e+04\n",
       "75%      1.000000e+05\n",
       "max      2.360457e+06\n",
       "Name: km_driven, dtype: float64"
      ]
     },
     "execution_count": 123,
     "metadata": {},
     "output_type": "execute_result"
    }
   ],
   "source": [
    "km_statistics = updated_df['km_driven'].describe()\n",
    "km_statistics"
   ]
  },
  {
   "cell_type": "code",
   "execution_count": 125,
   "id": "c524d1f6-30f7-4da9-8206-44409c2ced13",
   "metadata": {},
   "outputs": [],
   "source": [
    "Q1_1 = km_statistics['25%']\n",
    "Q3_1 = km_statistics['75%']\n",
    "IQR_1 = Q3_1 - Q1_1\n",
    "lower_bound1 = Q1_1 - (1.5 * IQR_1)\n",
    "upper_bound1 = Q3_1 + (1.5 * IQR_1)"
   ]
  },
  {
   "cell_type": "markdown",
   "id": "f0b966b7-fe2e-4fa4-9e1c-b64230c08be6",
   "metadata": {},
   "source": [
    "Removing kilometer driven outliers using IQR"
   ]
  },
  {
   "cell_type": "code",
   "execution_count": 128,
   "id": "f9814e10-a3ba-43ba-a837-28cb499a3c42",
   "metadata": {},
   "outputs": [],
   "source": [
    "updated_df= updated_df[(updated_df['km_driven'] >= lower_bound1) & (updated_df['km_driven'] <= upper_bound1)]"
   ]
  },
  {
   "cell_type": "code",
   "execution_count": 130,
   "id": "2c60be76-3202-401e-b203-d3528888c2c5",
   "metadata": {},
   "outputs": [
    {
     "data": {
      "image/png": "[encoded data removed]",
      "text/plain": [
       "<Figure size 2000x1000 with 1 Axes>"
      ]
     },
     "metadata": {},
     "output_type": "display_data"
    }
   ],
   "source": [
    "updated_df.boxplot(figsize = (20,10))\n",
    "plt.show()"
   ]
  },
  {
   "cell_type": "markdown",
   "id": "a987a48e-dea2-4811-8821-ea90582fe947",
   "metadata": {},
   "source": [
    "# Categorical data"
   ]
  },
  {
   "cell_type": "markdown",
   "id": "c21424c6-d0f9-47a3-a39a-1c573d8e0501",
   "metadata": {},
   "source": [
    "# 1. make"
   ]
  },
  {
   "cell_type": "code",
   "execution_count": 134,
   "id": "6a6ee59c-db24-4dac-882f-189543bfa1c5",
   "metadata": {},
   "outputs": [
    {
     "data": {
      "text/plain": [
       "make\n",
       "Maruti           2140\n",
       "Hyundai          1238\n",
       "Mahindra          652\n",
       "Tata              611\n",
       "Honda             349\n",
       "Ford              347\n",
       "Toyota            220\n",
       "Chevrolet         206\n",
       "Renault           200\n",
       "Volkswagen        167\n",
       "Nissan             72\n",
       "Skoda              61\n",
       "Datsun             57\n",
       "Fiat               43\n",
       "BMW                15\n",
       "Mercedes-Benz      10\n",
       "Mitsubishi          6\n",
       "Force               4\n",
       "Audi                4\n",
       "Ambassador          4\n",
       "Daewoo              3\n",
       "Kia                 1\n",
       "Volvo               1\n",
       "Opel                1\n",
       "Peugeot             1\n",
       "Isuzu               1\n",
       "Name: count, dtype: int64"
      ]
     },
     "execution_count": 134,
     "metadata": {},
     "output_type": "execute_result"
    }
   ],
   "source": [
    "updated_df['make'].value_counts()"
   ]
  },
  {
   "cell_type": "markdown",
   "id": "82e96214-9345-4c7b-95d9-d85c56068aac",
   "metadata": {},
   "source": [
    "dropping makes were value count is less than 10 "
   ]
  },
  {
   "cell_type": "code",
   "execution_count": 137,
   "id": "b67ac2da-186b-4c39-9c65-deb93bbcf317",
   "metadata": {},
   "outputs": [],
   "source": [
    "updated_df = updated_df[updated_df.groupby('make').make.transform('count')>10]"
   ]
  },
  {
   "cell_type": "markdown",
   "id": "ded7ae40-0152-4b67-bda1-005f74f50fc5",
   "metadata": {},
   "source": [
    "# 2. model"
   ]
  },
  {
   "cell_type": "code",
   "execution_count": 140,
   "id": "b79c2dea-4973-4e7f-a66e-a33a84fbf337",
   "metadata": {},
   "outputs": [
    {
     "data": {
      "text/plain": [
       "model\n",
       "Swift       662\n",
       "Alto        388\n",
       "i20         297\n",
       "Wagon       240\n",
       "Bolero      176\n",
       "           ... \n",
       "7             1\n",
       "Willys        1\n",
       "Ingenio       1\n",
       "Teana         1\n",
       "S-Presso      1\n",
       "Name: count, Length: 156, dtype: int64"
      ]
     },
     "execution_count": 140,
     "metadata": {},
     "output_type": "execute_result"
    }
   ],
   "source": [
    "updated_df['model'].value_counts()"
   ]
  },
  {
   "cell_type": "markdown",
   "id": "cc41f978-c426-4c39-90db-fd9811e24b37",
   "metadata": {},
   "source": [
    " dropping models were value count is less than 10"
   ]
  },
  {
   "cell_type": "code",
   "execution_count": 143,
   "id": "f6e07b46-e2bc-4fd7-895f-726e0ab8380b",
   "metadata": {},
   "outputs": [],
   "source": [
    "updated_df = updated_df[updated_df.groupby('model').model.transform('count')>10]"
   ]
  },
  {
   "cell_type": "markdown",
   "id": "94a36f10-ced5-4ef3-9820-b9f3ae07c3cc",
   "metadata": {},
   "source": [
    "# Other columns"
   ]
  },
  {
   "cell_type": "code",
   "execution_count": 145,
   "id": "f67aa1e6-3fc8-4c8a-a026-4eb0e834786d",
   "metadata": {},
   "outputs": [
    {
     "data": {
      "text/plain": [
       "fuel\n",
       "Diesel    3093\n",
       "Petrol    2888\n",
       "CNG         55\n",
       "LPG         37\n",
       "Name: count, dtype: int64"
      ]
     },
     "execution_count": 145,
     "metadata": {},
     "output_type": "execute_result"
    }
   ],
   "source": [
    "updated_df['fuel'].value_counts()"
   ]
  },
  {
   "cell_type": "code",
   "execution_count": 147,
   "id": "c04b9e93-d980-4008-85a6-5fef663c9413",
   "metadata": {},
   "outputs": [
    {
     "data": {
      "text/plain": [
       "seller_type\n",
       "Individual          5538\n",
       "Dealer               513\n",
       "Trustmark Dealer      22\n",
       "Name: count, dtype: int64"
      ]
     },
     "execution_count": 147,
     "metadata": {},
     "output_type": "execute_result"
    }
   ],
   "source": [
    "updated_df['seller_type'].value_counts()"
   ]
  },
  {
   "cell_type": "code",
   "execution_count": 149,
   "id": "9b81ddcb-24f3-4a98-a2f4-683af7e0405d",
   "metadata": {},
   "outputs": [
    {
     "data": {
      "text/plain": [
       "transmission\n",
       "Manual       5764\n",
       "Automatic     309\n",
       "Name: count, dtype: int64"
      ]
     },
     "execution_count": 149,
     "metadata": {},
     "output_type": "execute_result"
    }
   ],
   "source": [
    "updated_df['transmission'].value_counts()"
   ]
  },
  {
   "cell_type": "code",
   "execution_count": 151,
   "id": "c14277dd-3e83-4fd6-9a24-ed71e0033283",
   "metadata": {},
   "outputs": [
    {
     "data": {
      "text/plain": [
       "owner\n",
       "First Owner             3712\n",
       "Second Owner            1736\n",
       "Third Owner              475\n",
       "Fourth & Above Owner     150\n",
       "Name: count, dtype: int64"
      ]
     },
     "execution_count": 151,
     "metadata": {},
     "output_type": "execute_result"
    }
   ],
   "source": [
    "updated_df['owner'].value_counts()"
   ]
  },
  {
   "cell_type": "markdown",
   "id": "d838c1d6-7a50-4b34-9293-945065acf7d6",
   "metadata": {},
   "source": [
    " keeping the rest of the columns as is"
   ]
  },
  {
   "cell_type": "code",
   "execution_count": 155,
   "id": "eb23db54-50ca-4eaa-904f-906b82754ab8",
   "metadata": {},
   "outputs": [],
   "source": [
    "updated_df = updated_df.reset_index(drop=True)"
   ]
  },
  {
   "cell_type": "code",
   "execution_count": 157,
   "id": "fb67bff1-1346-4d4d-9ec7-7751fc388bf4",
   "metadata": {},
   "outputs": [
    {
     "name": "stdout",
     "output_type": "stream",
     "text": [
      "<class 'pandas.core.frame.DataFrame'>\n",
      "RangeIndex: 6073 entries, 0 to 6072\n",
      "Data columns (total 16 columns):\n",
      " #   Column         Non-Null Count  Dtype  \n",
      "---  ------         --------------  -----  \n",
      " 0   make           6073 non-null   object \n",
      " 1   model          6073 non-null   object \n",
      " 2   year           6073 non-null   int64  \n",
      " 3   selling_price  6073 non-null   int64  \n",
      " 4   km_driven      6073 non-null   int64  \n",
      " 5   fuel           6073 non-null   object \n",
      " 6   seller_type    6073 non-null   object \n",
      " 7   transmission   6073 non-null   object \n",
      " 8   owner          6073 non-null   object \n",
      " 9   mileage        6073 non-null   float64\n",
      " 10  engine         6073 non-null   float64\n",
      " 11  max_power      6073 non-null   float64\n",
      " 12  Nm/kgm         6073 non-null   float64\n",
      " 13  rpm            6073 non-null   float64\n",
      " 14  seats          6073 non-null   float64\n",
      " 15  country        6073 non-null   object \n",
      "dtypes: float64(6), int64(3), object(7)\n",
      "memory usage: 759.3+ KB\n"
     ]
    }
   ],
   "source": [
    "updated_df.info()"
   ]
  },
  {
   "cell_type": "code",
   "execution_count": 177,
   "id": "7d9bee02-67c4-4afe-b8c8-5b26eba628df",
   "metadata": {},
   "outputs": [],
   "source": [
    "updated_df.to_csv('reg_cars_selling_final.csv', index=False)"
   ]
  },
  {
   "cell_type": "markdown",
   "id": "10e79fe5-1412-4921-93f2-3566a6f7ea50",
   "metadata": {},
   "source": [
    "# Notes:\n",
    "\n",
    "After handling missing values and dropping outliers, we can see that we have lost some of the data, but this should allow our machine learning algorithm to deliver better results later."
   ]
  },
  {
   "cell_type": "code",
   "execution_count": null,
   "id": "8df28e68-de65-48ed-9c95-c3c8ece3afec",
   "metadata": {},
   "outputs": [],
   "source": []
  },
  {
   "cell_type": "code",
   "execution_count": null,
   "id": "6b41e85c-9bfe-44d6-b76d-bbb63cdd86d2",
   "metadata": {},
   "outputs": [],
   "source": []
  },
  {
   "cell_type": "code",
   "execution_count": null,
   "id": "ac53b5f9-b6d7-44c3-aaca-801fbacb58b9",
   "metadata": {},
   "outputs": [],
   "source": []
  },
  {
   "cell_type": "code",
   "execution_count": null,
   "id": "856dfab2-df74-48eb-b486-a4c0a97ac9cd",
   "metadata": {},
   "outputs": [],
   "source": []
  }
 ],
 "metadata": {
  "kernelspec": {
   "display_name": "Python 3 (ipykernel)",
   "language": "python",
   "name": "python3"
  },
  "language_info": {
   "codemirror_mode": {
    "name": "ipython",
    "version": 3
   },
   "file_extension": ".py",
   "mimetype": "text/x-python",
   "name": "python",
   "nbconvert_exporter": "python",
   "pygments_lexer": "ipython3",
   "version": "3.12.4"
  }
 },
 "nbformat": 4,
 "nbformat_minor": 5
}
